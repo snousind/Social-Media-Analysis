{
  "cells": [
    {
      "cell_type": "markdown",
      "metadata": {
        "id": "view-in-github",
        "colab_type": "text"
      },
      "source": [
        "<a href=\"https://colab.research.google.com/github/snousind/Social-Media-Analysis/blob/Instagram/Social_Media_Insta.ipynb\" target=\"_parent\"><img src=\"https://colab.research.google.com/assets/colab-badge.svg\" alt=\"Open In Colab\"/></a>"
      ]
    },
    {
      "cell_type": "markdown",
      "id": "50ffaec1",
      "metadata": {
        "id": "50ffaec1"
      },
      "source": [
        "Social Media Analysis - Instagram"
      ]
    },
    {
      "cell_type": "code",
      "execution_count": null,
      "id": "e5215795",
      "metadata": {
        "id": "e5215795"
      },
      "outputs": [],
      "source": [
        "# !pip install nltk\n",
        "# nltk.download('all')"
      ]
    },
    {
      "cell_type": "code",
      "execution_count": null,
      "id": "74d38455",
      "metadata": {
        "id": "74d38455"
      },
      "outputs": [],
      "source": [
        "#importations\n",
        "import nltk\n",
        "from nltk.corpus import stopwords\n",
        "from nltk.tokenize import word_tokenize\n",
        "import pandas as pd\n",
        "import matplotlib.pyplot as plt\n",
        "import seaborn as sns\n",
        "import re"
      ]
    },
    {
      "cell_type": "code",
      "execution_count": null,
      "id": "ab17ebbd",
      "metadata": {
        "id": "ab17ebbd",
        "outputId": "b0fc643e-5ed1-4051-b531-3a8d905b80e5"
      },
      "outputs": [
        {
          "data": {
            "text/plain": [
              "Index(['title', 'content', 'from', 'location', 'date', 'images', 'url',\n",
              "       'device', 'hits', 'likes', 'comments'],\n",
              "      dtype='object')"
            ]
          },
          "execution_count": 2,
          "metadata": {},
          "output_type": "execute_result"
        }
      ],
      "source": [
        "#reading in dataset and checking columns\n",
        "insta = pd.read_excel(\"instagram.xlsx\")\n",
        "insta.columns\n",
        "# insta.isna()"
      ]
    },
    {
      "cell_type": "code",
      "execution_count": null,
      "id": "1a903859",
      "metadata": {
        "id": "1a903859",
        "outputId": "922d2143-6983-40ea-a1ee-d05d55675308"
      },
      "outputs": [
        {
          "data": {
            "text/plain": [
              "0"
            ]
          },
          "execution_count": 12,
          "metadata": {},
          "output_type": "execute_result"
        }
      ],
      "source": [
        "insta.duplicated().sum()"
      ]
    },
    {
      "cell_type": "code",
      "execution_count": null,
      "id": "3ca15de6",
      "metadata": {
        "id": "3ca15de6"
      },
      "outputs": [],
      "source": [
        "#converting all column types to strings\n",
        "for column in insta:\n",
        "  insta[column] = insta[column].astype('string')"
      ]
    },
    {
      "cell_type": "code",
      "execution_count": null,
      "id": "0af781bc",
      "metadata": {
        "id": "0af781bc",
        "outputId": "04f13708-1081-47e2-b3ea-16b074b5c844"
      },
      "outputs": [
        {
          "data": {
            "text/html": [
              "<div>\n",
              "<style scoped>\n",
              "    .dataframe tbody tr th:only-of-type {\n",
              "        vertical-align: middle;\n",
              "    }\n",
              "\n",
              "    .dataframe tbody tr th {\n",
              "        vertical-align: top;\n",
              "    }\n",
              "\n",
              "    .dataframe thead th {\n",
              "        text-align: right;\n",
              "    }\n",
              "</style>\n",
              "<table border=\"1\" class=\"dataframe\">\n",
              "  <thead>\n",
              "    <tr style=\"text-align: right;\">\n",
              "      <th></th>\n",
              "      <th>content</th>\n",
              "      <th>from</th>\n",
              "      <th>likes</th>\n",
              "      <th>comments</th>\n",
              "      <th>Date</th>\n",
              "    </tr>\n",
              "  </thead>\n",
              "  <tbody>\n",
              "    <tr>\n",
              "      <th>0</th>\n",
              "      <td>The FIFA World Cup Qatar 2022™ kicks off today...</td>\n",
              "      <td>vivo_global</td>\n",
              "      <td>430.0</td>\n",
              "      <td>8</td>\n",
              "      <td>2022-11-20</td>\n",
              "    </tr>\n",
              "    <tr>\n",
              "      <th>1</th>\n",
              "      <td>� FIFA World Cup Qatar 2022™ is only 3 days aw...</td>\n",
              "      <td>hisense_international</td>\n",
              "      <td>161.0</td>\n",
              "      <td>66</td>\n",
              "      <td>2022-11-17</td>\n",
              "    </tr>\n",
              "    <tr>\n",
              "      <th>2</th>\n",
              "      <td>The FIFA World Cup Qatar 2022™ kicks off in 3 ...</td>\n",
              "      <td>vivo_global</td>\n",
              "      <td>662.0</td>\n",
              "      <td>11</td>\n",
              "      <td>2022-11-17</td>\n",
              "    </tr>\n",
              "    <tr>\n",
              "      <th>3</th>\n",
              "      <td>The FIFA World Cup Qatar 2022™ is one week awa...</td>\n",
              "      <td>hisensesports</td>\n",
              "      <td>74.0</td>\n",
              "      <td>2</td>\n",
              "      <td>2022-11-12</td>\n",
              "    </tr>\n",
              "    <tr>\n",
              "      <th>4</th>\n",
              "      <td>We are 10 days away from the FIFA World Cup Qa...</td>\n",
              "      <td>hisensesports</td>\n",
              "      <td>46.0</td>\n",
              "      <td>3</td>\n",
              "      <td>2022-11-10</td>\n",
              "    </tr>\n",
              "  </tbody>\n",
              "</table>\n",
              "</div>"
            ],
            "text/plain": [
              "                                             content                   from  \\\n",
              "0  The FIFA World Cup Qatar 2022™ kicks off today...            vivo_global   \n",
              "1  � FIFA World Cup Qatar 2022™ is only 3 days aw...  hisense_international   \n",
              "2  The FIFA World Cup Qatar 2022™ kicks off in 3 ...            vivo_global   \n",
              "3  The FIFA World Cup Qatar 2022™ is one week awa...          hisensesports   \n",
              "4  We are 10 days away from the FIFA World Cup Qa...          hisensesports   \n",
              "\n",
              "   likes comments        Date  \n",
              "0  430.0        8  2022-11-20  \n",
              "1  161.0       66  2022-11-17  \n",
              "2  662.0       11  2022-11-17  \n",
              "3   74.0        2  2022-11-12  \n",
              "4   46.0        3  2022-11-10  "
            ]
          },
          "execution_count": 4,
          "metadata": {},
          "output_type": "execute_result"
        }
      ],
      "source": [
        "#dropping columns and separating date and time columns\n",
        "new_insta = insta.drop([\"title\", \"location\", \"hits\", \"url\", \"device\", \"device\", \"images\"], axis = 1)\n",
        "new_insta[['Date', 'Time']] = new_insta.date.str.split(\" \", expand = True)\n",
        "insta = new_insta.drop([\"date\", \"Time\"], axis = 1)\n",
        "insta.head()"
      ]
    },
    {
      "cell_type": "code",
      "execution_count": null,
      "id": "6b8d9a54",
      "metadata": {
        "id": "6b8d9a54",
        "outputId": "c47d55e9-c870-4551-f96d-1de86d46b771"
      },
      "outputs": [
        {
          "data": {
            "text/html": [
              "<div>\n",
              "<style scoped>\n",
              "    .dataframe tbody tr th:only-of-type {\n",
              "        vertical-align: middle;\n",
              "    }\n",
              "\n",
              "    .dataframe tbody tr th {\n",
              "        vertical-align: top;\n",
              "    }\n",
              "\n",
              "    .dataframe thead th {\n",
              "        text-align: right;\n",
              "    }\n",
              "</style>\n",
              "<table border=\"1\" class=\"dataframe\">\n",
              "  <thead>\n",
              "    <tr style=\"text-align: right;\">\n",
              "      <th></th>\n",
              "      <th>likes</th>\n",
              "      <th>comments</th>\n",
              "    </tr>\n",
              "  </thead>\n",
              "  <tbody>\n",
              "    <tr>\n",
              "      <th>count</th>\n",
              "      <td>7624</td>\n",
              "      <td>7634</td>\n",
              "    </tr>\n",
              "    <tr>\n",
              "      <th>unique</th>\n",
              "      <td>1014</td>\n",
              "      <td>276</td>\n",
              "    </tr>\n",
              "    <tr>\n",
              "      <th>top</th>\n",
              "      <td>3.0</td>\n",
              "      <td>0</td>\n",
              "    </tr>\n",
              "    <tr>\n",
              "      <th>freq</th>\n",
              "      <td>778</td>\n",
              "      <td>4177</td>\n",
              "    </tr>\n",
              "  </tbody>\n",
              "</table>\n",
              "</div>"
            ],
            "text/plain": [
              "       likes comments\n",
              "count   7624     7634\n",
              "unique  1014      276\n",
              "top      3.0        0\n",
              "freq     778     4177"
            ]
          },
          "execution_count": 5,
          "metadata": {},
          "output_type": "execute_result"
        }
      ],
      "source": [
        "# basic stats\n",
        "insta[[\"likes\", \"comments\"]].describe()"
      ]
    },
    {
      "cell_type": "code",
      "execution_count": null,
      "id": "d82b12e8",
      "metadata": {
        "id": "d82b12e8"
      },
      "outputs": [],
      "source": [
        "#sorting by date (for timeline)\n",
        "insta = insta.sort_values(by=[\"Date\"])\n",
        "#insta.head()\n",
        "#insta.tail()"
      ]
    },
    {
      "cell_type": "code",
      "execution_count": null,
      "id": "4464f01b",
      "metadata": {
        "id": "4464f01b"
      },
      "outputs": [],
      "source": [
        "#converting to date-time and floating point\n",
        "insta['likes'] = insta['likes'].astype(float)\n",
        "insta['comments'] = insta['comments'].astype(int)\n",
        "insta['Date'] = pd.to_datetime(insta['Date'], format=\"%Y/%m/%d\")\n",
        "# insta.dtypes"
      ]
    },
    {
      "cell_type": "code",
      "execution_count": null,
      "id": "f9bddf6f",
      "metadata": {
        "id": "f9bddf6f",
        "outputId": "860beb8a-aa2a-4cb7-906a-0aa7a4d76a64"
      },
      "outputs": [
        {
          "data": {
            "text/html": [
              "<div>\n",
              "<style scoped>\n",
              "    .dataframe tbody tr th:only-of-type {\n",
              "        vertical-align: middle;\n",
              "    }\n",
              "\n",
              "    .dataframe tbody tr th {\n",
              "        vertical-align: top;\n",
              "    }\n",
              "\n",
              "    .dataframe thead th {\n",
              "        text-align: right;\n",
              "    }\n",
              "</style>\n",
              "<table border=\"1\" class=\"dataframe\">\n",
              "  <thead>\n",
              "    <tr style=\"text-align: right;\">\n",
              "      <th></th>\n",
              "      <th>content</th>\n",
              "      <th>from</th>\n",
              "      <th>likes</th>\n",
              "      <th>comments</th>\n",
              "      <th>Date</th>\n",
              "    </tr>\n",
              "  </thead>\n",
              "  <tbody>\n",
              "    <tr>\n",
              "      <th>7419</th>\n",
              "      <td>World Cup final � cruzbeckham  roadto2022en #f...</td>\n",
              "      <td>davidbeckham</td>\n",
              "      <td>2552193.0</td>\n",
              "      <td>6812</td>\n",
              "      <td>2022-12-18</td>\n",
              "    </tr>\n",
              "    <tr>\n",
              "      <th>7143</th>\n",
              "      <td>Vamos leomessi ❤️�.Sizce bugün Dünya Kupasını ...</td>\n",
              "      <td>cznburak</td>\n",
              "      <td>1704190.0</td>\n",
              "      <td>6054</td>\n",
              "      <td>2022-12-18</td>\n",
              "    </tr>\n",
              "    <tr>\n",
              "      <th>7146</th>\n",
              "      <td>Güzel insan davidbeckham ile beraberiz❤️.Sizce...</td>\n",
              "      <td>cznburak</td>\n",
              "      <td>1599746.0</td>\n",
              "      <td>4415</td>\n",
              "      <td>2022-12-11</td>\n",
              "    </tr>\n",
              "    <tr>\n",
              "      <th>7546</th>\n",
              "      <td>Can't wait for this great World Cup semi-final...</td>\n",
              "      <td>m10_official</td>\n",
              "      <td>1589392.0</td>\n",
              "      <td>10354</td>\n",
              "      <td>2022-12-15</td>\n",
              "    </tr>\n",
              "    <tr>\n",
              "      <th>7420</th>\n",
              "      <td>Thank you for an unforgettable visit and a Wor...</td>\n",
              "      <td>iamzlatanibrahimovic</td>\n",
              "      <td>1337540.0</td>\n",
              "      <td>2992</td>\n",
              "      <td>2022-12-22</td>\n",
              "    </tr>\n",
              "  </tbody>\n",
              "</table>\n",
              "</div>"
            ],
            "text/plain": [
              "                                                content                  from  \\\n",
              "7419  World Cup final � cruzbeckham  roadto2022en #f...          davidbeckham   \n",
              "7143  Vamos leomessi ❤️�.Sizce bugün Dünya Kupasını ...              cznburak   \n",
              "7146  Güzel insan davidbeckham ile beraberiz❤️.Sizce...              cznburak   \n",
              "7546  Can't wait for this great World Cup semi-final...          m10_official   \n",
              "7420  Thank you for an unforgettable visit and a Wor...  iamzlatanibrahimovic   \n",
              "\n",
              "          likes  comments       Date  \n",
              "7419  2552193.0      6812 2022-12-18  \n",
              "7143  1704190.0      6054 2022-12-18  \n",
              "7146  1599746.0      4415 2022-12-11  \n",
              "7546  1589392.0     10354 2022-12-15  \n",
              "7420  1337540.0      2992 2022-12-22  "
            ]
          },
          "execution_count": 8,
          "metadata": {},
          "output_type": "execute_result"
        }
      ],
      "source": [
        "sorted_insta_likes = insta.sort_values(by=\"likes\", ascending=False)\n",
        "sorted_insta_likes.head()"
      ]
    },
    {
      "cell_type": "code",
      "execution_count": null,
      "id": "32e86334",
      "metadata": {
        "id": "32e86334",
        "outputId": "d8cf74a1-8bad-4cd7-dc00-52c260f613cd"
      },
      "outputs": [
        {
          "data": {
            "text/html": [
              "<div>\n",
              "<style scoped>\n",
              "    .dataframe tbody tr th:only-of-type {\n",
              "        vertical-align: middle;\n",
              "    }\n",
              "\n",
              "    .dataframe tbody tr th {\n",
              "        vertical-align: top;\n",
              "    }\n",
              "\n",
              "    .dataframe thead th {\n",
              "        text-align: right;\n",
              "    }\n",
              "</style>\n",
              "<table border=\"1\" class=\"dataframe\">\n",
              "  <thead>\n",
              "    <tr style=\"text-align: right;\">\n",
              "      <th></th>\n",
              "      <th>content</th>\n",
              "      <th>from</th>\n",
              "      <th>likes</th>\n",
              "      <th>comments</th>\n",
              "      <th>Date</th>\n",
              "    </tr>\n",
              "  </thead>\n",
              "  <tbody>\n",
              "    <tr>\n",
              "      <th>7426</th>\n",
              "      <td>A pitch invader carrying a rainbow flag brough...</td>\n",
              "      <td>cnn</td>\n",
              "      <td>517036.0</td>\n",
              "      <td>20473</td>\n",
              "      <td>2022-11-29</td>\n",
              "    </tr>\n",
              "    <tr>\n",
              "      <th>7546</th>\n",
              "      <td>Can't wait for this great World Cup semi-final...</td>\n",
              "      <td>m10_official</td>\n",
              "      <td>1589392.0</td>\n",
              "      <td>10354</td>\n",
              "      <td>2022-12-15</td>\n",
              "    </tr>\n",
              "    <tr>\n",
              "      <th>7421</th>\n",
              "      <td>American journalist Grant Wahl has died in Qat...</td>\n",
              "      <td>cnn</td>\n",
              "      <td>164963.0</td>\n",
              "      <td>7375</td>\n",
              "      <td>2022-12-10</td>\n",
              "    </tr>\n",
              "    <tr>\n",
              "      <th>7419</th>\n",
              "      <td>World Cup final � cruzbeckham  roadto2022en #f...</td>\n",
              "      <td>davidbeckham</td>\n",
              "      <td>2552193.0</td>\n",
              "      <td>6812</td>\n",
              "      <td>2022-12-18</td>\n",
              "    </tr>\n",
              "    <tr>\n",
              "      <th>7143</th>\n",
              "      <td>Vamos leomessi ❤️�.Sizce bugün Dünya Kupasını ...</td>\n",
              "      <td>cznburak</td>\n",
              "      <td>1704190.0</td>\n",
              "      <td>6054</td>\n",
              "      <td>2022-12-18</td>\n",
              "    </tr>\n",
              "  </tbody>\n",
              "</table>\n",
              "</div>"
            ],
            "text/plain": [
              "                                                content          from  \\\n",
              "7426  A pitch invader carrying a rainbow flag brough...           cnn   \n",
              "7546  Can't wait for this great World Cup semi-final...  m10_official   \n",
              "7421  American journalist Grant Wahl has died in Qat...           cnn   \n",
              "7419  World Cup final � cruzbeckham  roadto2022en #f...  davidbeckham   \n",
              "7143  Vamos leomessi ❤️�.Sizce bugün Dünya Kupasını ...      cznburak   \n",
              "\n",
              "          likes  comments       Date  \n",
              "7426   517036.0     20473 2022-11-29  \n",
              "7546  1589392.0     10354 2022-12-15  \n",
              "7421   164963.0      7375 2022-12-10  \n",
              "7419  2552193.0      6812 2022-12-18  \n",
              "7143  1704190.0      6054 2022-12-18  "
            ]
          },
          "execution_count": 9,
          "metadata": {},
          "output_type": "execute_result"
        }
      ],
      "source": [
        "sorted_insta_comments = insta.sort_values(by=\"comments\", ascending=False)\n",
        "sorted_insta_comments.head()"
      ]
    },
    {
      "cell_type": "code",
      "execution_count": null,
      "id": "eedc2496",
      "metadata": {
        "id": "eedc2496"
      },
      "outputs": [],
      "source": [
        "##EDA\n",
        "\n",
        "#to do:\n",
        "# - most used words by user\n",
        "# - split up dataset into pre, during and post match to perform EDA as below\n",
        "# - look into most used words using word cloud\n",
        "# - correlation matrix of likes and comments"
      ]
    },
    {
      "cell_type": "code",
      "execution_count": null,
      "id": "1357fe73",
      "metadata": {
        "id": "1357fe73",
        "outputId": "259d696c-1d65-4883-fb00-368bd241d2fa"
      },
      "outputs": [
        {
          "data": {
            "image/png": "[encoded data removed]",
            "text/plain": [
              "<Figure size 432x288 with 1 Axes>"
            ]
          },
          "metadata": {
            "needs_background": "light"
          },
          "output_type": "display_data"
        }
      ],
      "source": [
        "#trend of comments\n",
        "insta.plot(x=\"Date\", y=\"comments\")\n",
        "plt.xlim([\"2022-11-20\", \"2022-12-18\"])\n",
        "plt.show()"
      ]
    },
    {
      "cell_type": "code",
      "execution_count": null,
      "id": "22bd00c8",
      "metadata": {
        "id": "22bd00c8",
        "outputId": "72dfb95e-e4e2-4f98-fc24-e6697bad7bb1"
      },
      "outputs": [
        {
          "data": {
            "image/png": "[encoded data removed]",
            "text/plain": [
              "<Figure size 432x288 with 1 Axes>"
            ]
          },
          "metadata": {
            "needs_background": "light"
          },
          "output_type": "display_data"
        }
      ],
      "source": [
        "#users with most number of likes\n",
        "user_likes = insta.groupby([\"from\"])[\"likes\"].sum()\n",
        "filtered_user_likes = user_likes[user_likes >= 20000]\n",
        "# filtered_user_likes\n",
        "\n",
        "plt.bar(filtered_user_likes.index, filtered_user_likes.values)\n",
        "plt.xticks(rotation=45)\n",
        "plt.show()\n",
        "#need to increase the fig size + colour"
      ]
    },
    {
      "cell_type": "code",
      "execution_count": null,
      "id": "d8c80961",
      "metadata": {
        "id": "d8c80961",
        "outputId": "0c9b8e73-e4a6-41f7-c0f0-754432cbdaba"
      },
      "outputs": [
        {
          "data": {
            "image/png": "[encoded data removed]",
            "text/plain": [
              "<Figure size 432x288 with 1 Axes>"
            ]
          },
          "metadata": {
            "needs_background": "light"
          },
          "output_type": "display_data"
        }
      ],
      "source": [
        "#users with most number of comments\n",
        "user_com = insta.groupby(\"from\")[\"comments\"].sum()\n",
        "filtered_user_com = user_likes[user_com >= 1000]\n",
        "\n",
        "plt.bar(filtered_user_com.index, filtered_user_com.values)\n",
        "plt.xticks(rotation=45)\n",
        "plt.show()"
      ]
    },
    {
      "cell_type": "code",
      "execution_count": null,
      "id": "34c83f3d",
      "metadata": {
        "id": "34c83f3d",
        "outputId": "35332187-74c6-4ced-8a96-8d61a8a3f073"
      },
      "outputs": [
        {
          "name": "stderr",
          "output_type": "stream",
          "text": [
            "[nltk_data] Downloading package stopwords to\n",
            "[nltk_data]     C:\\Users\\snous\\AppData\\Roaming\\nltk_data...\n",
            "[nltk_data]   Package stopwords is already up-to-date!\n",
            "[nltk_data] Downloading package punkt to\n",
            "[nltk_data]     C:\\Users\\snous\\AppData\\Roaming\\nltk_data...\n",
            "[nltk_data]   Package punkt is already up-to-date!\n"
          ]
        },
        {
          "data": {
            "text/html": [
              "<div>\n",
              "<style scoped>\n",
              "    .dataframe tbody tr th:only-of-type {\n",
              "        vertical-align: middle;\n",
              "    }\n",
              "\n",
              "    .dataframe tbody tr th {\n",
              "        vertical-align: top;\n",
              "    }\n",
              "\n",
              "    .dataframe thead th {\n",
              "        text-align: right;\n",
              "    }\n",
              "</style>\n",
              "<table border=\"1\" class=\"dataframe\">\n",
              "  <thead>\n",
              "    <tr style=\"text-align: right;\">\n",
              "      <th></th>\n",
              "      <th>content</th>\n",
              "      <th>from</th>\n",
              "      <th>likes</th>\n",
              "      <th>comments</th>\n",
              "      <th>Date</th>\n",
              "    </tr>\n",
              "  </thead>\n",
              "  <tbody>\n",
              "    <tr>\n",
              "      <th>0</th>\n",
              "      <td>FIFA World Cup Qatar 2022™ kicks today standal...</td>\n",
              "      <td>vivo_global</td>\n",
              "      <td>430.0</td>\n",
              "      <td>8</td>\n",
              "      <td>2022-11-20</td>\n",
              "    </tr>\n",
              "    <tr>\n",
              "      <th>1</th>\n",
              "      <td>� FIFA World Cup Qatar 2022™ 3 days away! ⚽️ G...</td>\n",
              "      <td>hisense_international</td>\n",
              "      <td>161.0</td>\n",
              "      <td>66</td>\n",
              "      <td>2022-11-17</td>\n",
              "    </tr>\n",
              "    <tr>\n",
              "      <th>2</th>\n",
              "      <td>FIFA World Cup Qatar 2022™ kicks 3 days. Let’s...</td>\n",
              "      <td>vivo_global</td>\n",
              "      <td>662.0</td>\n",
              "      <td>11</td>\n",
              "      <td>2022-11-17</td>\n",
              "    </tr>\n",
              "    <tr>\n",
              "      <th>3</th>\n",
              "      <td>FIFA World Cup Qatar 2022™ one week away it’s ...</td>\n",
              "      <td>hisensesports</td>\n",
              "      <td>74.0</td>\n",
              "      <td>2</td>\n",
              "      <td>2022-11-12</td>\n",
              "    </tr>\n",
              "    <tr>\n",
              "      <th>4</th>\n",
              "      <td>10 days away FIFA World Cup Qatar 2022™! ⚽️ ⁣ ...</td>\n",
              "      <td>hisensesports</td>\n",
              "      <td>46.0</td>\n",
              "      <td>3</td>\n",
              "      <td>2022-11-10</td>\n",
              "    </tr>\n",
              "  </tbody>\n",
              "</table>\n",
              "</div>"
            ],
            "text/plain": [
              "                                             content                   from  \\\n",
              "0  FIFA World Cup Qatar 2022™ kicks today standal...            vivo_global   \n",
              "1  � FIFA World Cup Qatar 2022™ 3 days away! ⚽️ G...  hisense_international   \n",
              "2  FIFA World Cup Qatar 2022™ kicks 3 days. Let’s...            vivo_global   \n",
              "3  FIFA World Cup Qatar 2022™ one week away it’s ...          hisensesports   \n",
              "4  10 days away FIFA World Cup Qatar 2022™! ⚽️ ⁣ ...          hisensesports   \n",
              "\n",
              "   likes  comments       Date  \n",
              "0  430.0         8 2022-11-20  \n",
              "1  161.0        66 2022-11-17  \n",
              "2  662.0        11 2022-11-17  \n",
              "3   74.0         2 2022-11-12  \n",
              "4   46.0         3 2022-11-10  "
            ]
          },
          "execution_count": 78,
          "metadata": {},
          "output_type": "execute_result"
        }
      ],
      "source": [
        "#stop words\n",
        "\n",
        "# insta.head()\n",
        "nltk.download(\"stopwords\")\n",
        "nltk.download(\"punkt\")\n",
        "stop_words = set(stopwords.words(\"english\"))\n",
        "\n",
        "insta['content'] = insta['content'].apply(lambda x: ' '.join([word for word in x.split() if word.lower() not in stop_words]))\n",
        "\n",
        "insta.head()\n"
      ]
    },
    {
      "cell_type": "code",
      "execution_count": null,
      "id": "7ec3c891",
      "metadata": {
        "id": "7ec3c891",
        "outputId": "92b3c197-8a62-428e-9674-53ab26b99c5c"
      },
      "outputs": [
        {
          "data": {
            "text/html": [
              "<div>\n",
              "<style scoped>\n",
              "    .dataframe tbody tr th:only-of-type {\n",
              "        vertical-align: middle;\n",
              "    }\n",
              "\n",
              "    .dataframe tbody tr th {\n",
              "        vertical-align: top;\n",
              "    }\n",
              "\n",
              "    .dataframe thead th {\n",
              "        text-align: right;\n",
              "    }\n",
              "</style>\n",
              "<table border=\"1\" class=\"dataframe\">\n",
              "  <thead>\n",
              "    <tr style=\"text-align: right;\">\n",
              "      <th></th>\n",
              "      <th>content</th>\n",
              "      <th>from</th>\n",
              "      <th>likes</th>\n",
              "      <th>comments</th>\n",
              "      <th>Date</th>\n",
              "    </tr>\n",
              "  </thead>\n",
              "  <tbody>\n",
              "    <tr>\n",
              "      <th>0</th>\n",
              "      <td>FIFA World Cup Qatar 2022™ kicks today standal...</td>\n",
              "      <td>vivo_global</td>\n",
              "      <td>430.0</td>\n",
              "      <td>8</td>\n",
              "      <td>2022-11-20</td>\n",
              "    </tr>\n",
              "    <tr>\n",
              "      <th>1</th>\n",
              "      <td>FIFA World Cup Qatar 2022™ 3 days away!  Gues...</td>\n",
              "      <td>hisense_international</td>\n",
              "      <td>161.0</td>\n",
              "      <td>66</td>\n",
              "      <td>2022-11-17</td>\n",
              "    </tr>\n",
              "    <tr>\n",
              "      <th>2</th>\n",
              "      <td>FIFA World Cup Qatar 2022™ kicks 3 days. Let’s...</td>\n",
              "      <td>vivo_global</td>\n",
              "      <td>662.0</td>\n",
              "      <td>11</td>\n",
              "      <td>2022-11-17</td>\n",
              "    </tr>\n",
              "    <tr>\n",
              "      <th>3</th>\n",
              "      <td>FIFA World Cup Qatar 2022™ one week away it’s ...</td>\n",
              "      <td>hisensesports</td>\n",
              "      <td>74.0</td>\n",
              "      <td>2</td>\n",
              "      <td>2022-11-12</td>\n",
              "    </tr>\n",
              "    <tr>\n",
              "      <th>4</th>\n",
              "      <td>10 days away FIFA World Cup Qatar 2022™!  ⁣ ⁣ ...</td>\n",
              "      <td>hisensesports</td>\n",
              "      <td>46.0</td>\n",
              "      <td>3</td>\n",
              "      <td>2022-11-10</td>\n",
              "    </tr>\n",
              "    <tr>\n",
              "      <th>...</th>\n",
              "      <td>...</td>\n",
              "      <td>...</td>\n",
              "      <td>...</td>\n",
              "      <td>...</td>\n",
              "      <td>...</td>\n",
              "    </tr>\n",
              "    <tr>\n",
              "      <th>7629</th>\n",
              "      <td>tensions high  Skyworth enjoy every moment FIF...</td>\n",
              "      <td>skyworth_my</td>\n",
              "      <td>5.0</td>\n",
              "      <td>0</td>\n",
              "      <td>2022-12-13</td>\n",
              "    </tr>\n",
              "    <tr>\n",
              "      <th>7630</th>\n",
              "      <td>Morocco’s World Cup magic potion, part, family...</td>\n",
              "      <td>freemalaysiatoday</td>\n",
              "      <td>1413.0</td>\n",
              "      <td>6</td>\n",
              "      <td>2022-12-13</td>\n",
              "    </tr>\n",
              "    <tr>\n",
              "      <th>7631</th>\n",
              "      <td>Watch FIFA World Cup Qatar 2022 ™ like never I...</td>\n",
              "      <td>officialhlive</td>\n",
              "      <td>47.0</td>\n",
              "      <td>5</td>\n",
              "      <td>2022-12-05</td>\n",
              "    </tr>\n",
              "    <tr>\n",
              "      <th>7632</th>\n",
              "      <td>Many eyes Iran’s side World Cup, conflating re...</td>\n",
              "      <td>carnegiemiddleeast</td>\n",
              "      <td>5.0</td>\n",
              "      <td>0</td>\n",
              "      <td>2022-11-23</td>\n",
              "    </tr>\n",
              "    <tr>\n",
              "      <th>7633</th>\n",
              "      <td>expensive FIFA World Cup ever kicked November ...</td>\n",
              "      <td>dwdocumentary</td>\n",
              "      <td>1357.0</td>\n",
              "      <td>56</td>\n",
              "      <td>2022-12-02</td>\n",
              "    </tr>\n",
              "  </tbody>\n",
              "</table>\n",
              "<p>7634 rows × 5 columns</p>\n",
              "</div>"
            ],
            "text/plain": [
              "                                                content  \\\n",
              "0     FIFA World Cup Qatar 2022™ kicks today standal...   \n",
              "1      FIFA World Cup Qatar 2022™ 3 days away!  Gues...   \n",
              "2     FIFA World Cup Qatar 2022™ kicks 3 days. Let’s...   \n",
              "3     FIFA World Cup Qatar 2022™ one week away it’s ...   \n",
              "4     10 days away FIFA World Cup Qatar 2022™!  ⁣ ⁣ ...   \n",
              "...                                                 ...   \n",
              "7629  tensions high  Skyworth enjoy every moment FIF...   \n",
              "7630  Morocco’s World Cup magic potion, part, family...   \n",
              "7631  Watch FIFA World Cup Qatar 2022 ™ like never I...   \n",
              "7632  Many eyes Iran’s side World Cup, conflating re...   \n",
              "7633  expensive FIFA World Cup ever kicked November ...   \n",
              "\n",
              "                       from   likes  comments       Date  \n",
              "0               vivo_global   430.0         8 2022-11-20  \n",
              "1     hisense_international   161.0        66 2022-11-17  \n",
              "2               vivo_global   662.0        11 2022-11-17  \n",
              "3             hisensesports    74.0         2 2022-11-12  \n",
              "4             hisensesports    46.0         3 2022-11-10  \n",
              "...                     ...     ...       ...        ...  \n",
              "7629            skyworth_my     5.0         0 2022-12-13  \n",
              "7630      freemalaysiatoday  1413.0         6 2022-12-13  \n",
              "7631          officialhlive    47.0         5 2022-12-05  \n",
              "7632     carnegiemiddleeast     5.0         0 2022-11-23  \n",
              "7633          dwdocumentary  1357.0        56 2022-12-02  \n",
              "\n",
              "[7634 rows x 5 columns]"
            ]
          },
          "execution_count": 79,
          "metadata": {},
          "output_type": "execute_result"
        }
      ],
      "source": [
        "#removing emojis\n",
        "df_emoji = pd.DataFrame(insta)\n",
        "def remove_emojis(insta):\n",
        "    emoj = re.compile(\"[\"\n",
        "        u\"\\U0001F600-\\U0001F64F\"  # emoticons\n",
        "        u\"\\U0001F300-\\U0001F5FF\"  # symbols & pictographs\n",
        "        u\"\\U0001F680-\\U0001F6FF\"  # transport & map symbols\n",
        "        u\"\\U0001F1E0-\\U0001F1FF\"  # flags (iOS)\n",
        "        u\"\\U00002500-\\U00002BEF\"  # chinese char\n",
        "        u\"\\U00002702-\\U000027B0\"\n",
        "        u\"\\U00002702-\\U000027B0\"\n",
        "        u\"\\U000024C2-\\U0001F251\"\n",
        "        u\"\\U0001f926-\\U0001f937\"\n",
        "        u\"\\U00010000-\\U0010ffff\"\n",
        "        u\"\\u2640-\\u2642\"\n",
        "        u\"\\u2600-\\u2B55\"\n",
        "        u\"\\u200d\"\n",
        "        u\"\\u23cf\"\n",
        "        u\"\\u23e9\"\n",
        "        u\"\\u231a\"\n",
        "        u\"\\ufe0f\"  # dingbats\n",
        "        u\"\\u3030\"\n",
        "                      \"]+\", re.UNICODE)\n",
        "    return re.sub(emoj, '',insta)\n",
        "df_emoji.content=df_emoji['content'].apply(remove_emojis)\n",
        "df_emoji\n"
      ]
    },
    {
      "cell_type": "code",
      "execution_count": null,
      "id": "afb93174",
      "metadata": {
        "id": "afb93174"
      },
      "outputs": [],
      "source": [
        "#Remove specific words\n",
        "#words_remove = [\"\", \"\"]\n",
        "#stop_words = set(stopwords.words('english'))\n",
        "#insta['content] = insta['content'].apply(lambda x: ' '.join([word for word in x.split() if word.lower() not in (stop_words.union(words_to_remove))]))\n",
        "#insta.head()"
      ]
    },
    {
      "cell_type": "code",
      "execution_count": null,
      "id": "8e58a6f1",
      "metadata": {
        "id": "8e58a6f1",
        "outputId": "8efce8b7-3788-4dd8-8f55-815a3217d30b"
      },
      "outputs": [
        {
          "data": {
            "text/html": [
              "<div>\n",
              "<style scoped>\n",
              "    .dataframe tbody tr th:only-of-type {\n",
              "        vertical-align: middle;\n",
              "    }\n",
              "\n",
              "    .dataframe tbody tr th {\n",
              "        vertical-align: top;\n",
              "    }\n",
              "\n",
              "    .dataframe thead th {\n",
              "        text-align: right;\n",
              "    }\n",
              "</style>\n",
              "<table border=\"1\" class=\"dataframe\">\n",
              "  <thead>\n",
              "    <tr style=\"text-align: right;\">\n",
              "      <th></th>\n",
              "      <th>content</th>\n",
              "      <th>from</th>\n",
              "      <th>likes</th>\n",
              "      <th>comments</th>\n",
              "      <th>Date</th>\n",
              "    </tr>\n",
              "  </thead>\n",
              "  <tbody>\n",
              "    <tr>\n",
              "      <th>7400</th>\n",
              "      <td>entered #Hisense amazonfiretv competition year...</td>\n",
              "      <td>hisense_usa</td>\n",
              "      <td>35.0</td>\n",
              "      <td>1</td>\n",
              "      <td>2022-11-01</td>\n",
              "    </tr>\n",
              "    <tr>\n",
              "      <th>7024</th>\n",
              "      <td>support successful delivery FIFA World Cup Qat...</td>\n",
              "      <td>gulftimes</td>\n",
              "      <td>53.0</td>\n",
              "      <td>6</td>\n",
              "      <td>2022-11-01</td>\n",
              "    </tr>\n",
              "    <tr>\n",
              "      <th>7618</th>\n",
              "      <td>World Cup trophies official football for upcom...</td>\n",
              "      <td>chinaxinhuanews</td>\n",
              "      <td>175.0</td>\n",
              "      <td>2</td>\n",
              "      <td>2022-11-02</td>\n",
              "    </tr>\n",
              "    <tr>\n",
              "      <th>7141</th>\n",
              "      <td>2022 Qatar World Cup2022 coming soon, ready  ...</td>\n",
              "      <td>herotai_official</td>\n",
              "      <td>1072.0</td>\n",
              "      <td>20</td>\n",
              "      <td>2022-11-02</td>\n",
              "    </tr>\n",
              "    <tr>\n",
              "      <th>7402</th>\n",
              "      <td>Qatar’s moment arrived.⁠ ⁠ tiny emirate using ...</td>\n",
              "      <td>apnews</td>\n",
              "      <td>1289.0</td>\n",
              "      <td>29</td>\n",
              "      <td>2022-11-02</td>\n",
              "    </tr>\n",
              "    <tr>\n",
              "      <th>...</th>\n",
              "      <td>...</td>\n",
              "      <td>...</td>\n",
              "      <td>...</td>\n",
              "      <td>...</td>\n",
              "      <td>...</td>\n",
              "    </tr>\n",
              "    <tr>\n",
              "      <th>7615</th>\n",
              "      <td>[#]  [#World] total cost hosting World Cup yea...</td>\n",
              "      <td>explainerhk</td>\n",
              "      <td>534.0</td>\n",
              "      <td>3</td>\n",
              "      <td>2022-11-19</td>\n",
              "    </tr>\n",
              "    <tr>\n",
              "      <th>7468</th>\n",
              "      <td>“Beer football go hand hand.” Football fans Q...</td>\n",
              "      <td>footballdailyuk_</td>\n",
              "      <td>15908.0</td>\n",
              "      <td>433</td>\n",
              "      <td>2022-11-19</td>\n",
              "    </tr>\n",
              "    <tr>\n",
              "      <th>1784</th>\n",
              "      <td>Enjoy Football Fever FIFA World Cup around cor...</td>\n",
              "      <td>&lt;NA&gt;</td>\n",
              "      <td>2.0</td>\n",
              "      <td>0</td>\n",
              "      <td>2022-11-19</td>\n",
              "    </tr>\n",
              "    <tr>\n",
              "      <th>1788</th>\n",
              "      <td>one places broadcast FIFA WORLD CUP QATAR 2022...</td>\n",
              "      <td>&lt;NA&gt;</td>\n",
              "      <td>18.0</td>\n",
              "      <td>0</td>\n",
              "      <td>2022-11-19</td>\n",
              "    </tr>\n",
              "    <tr>\n",
              "      <th>7610</th>\n",
              "      <td>? Official Timekeeper FIFA World Cup 2022T...</td>\n",
              "      <td>travisvis</td>\n",
              "      <td>1022.0</td>\n",
              "      <td>24</td>\n",
              "      <td>2022-11-19</td>\n",
              "    </tr>\n",
              "  </tbody>\n",
              "</table>\n",
              "<p>149 rows × 5 columns</p>\n",
              "</div>"
            ],
            "text/plain": [
              "                                                content              from  \\\n",
              "7400  entered #Hisense amazonfiretv competition year...       hisense_usa   \n",
              "7024  support successful delivery FIFA World Cup Qat...         gulftimes   \n",
              "7618  World Cup trophies official football for upcom...   chinaxinhuanews   \n",
              "7141   2022 Qatar World Cup2022 coming soon, ready  ...  herotai_official   \n",
              "7402  Qatar’s moment arrived.⁠ ⁠ tiny emirate using ...            apnews   \n",
              "...                                                 ...               ...   \n",
              "7615  [#]  [#World] total cost hosting World Cup yea...       explainerhk   \n",
              "7468   “Beer football go hand hand.” Football fans Q...  footballdailyuk_   \n",
              "1784  Enjoy Football Fever FIFA World Cup around cor...              <NA>   \n",
              "1788  one places broadcast FIFA WORLD CUP QATAR 2022...              <NA>   \n",
              "7610      ? Official Timekeeper FIFA World Cup 2022T...         travisvis   \n",
              "\n",
              "        likes  comments       Date  \n",
              "7400     35.0         1 2022-11-01  \n",
              "7024     53.0         6 2022-11-01  \n",
              "7618    175.0         2 2022-11-02  \n",
              "7141   1072.0        20 2022-11-02  \n",
              "7402   1289.0        29 2022-11-02  \n",
              "...       ...       ...        ...  \n",
              "7615    534.0         3 2022-11-19  \n",
              "7468  15908.0       433 2022-11-19  \n",
              "1784      2.0         0 2022-11-19  \n",
              "1788     18.0         0 2022-11-19  \n",
              "7610   1022.0        24 2022-11-19  \n",
              "\n",
              "[149 rows x 5 columns]"
            ]
          },
          "execution_count": 85,
          "metadata": {},
          "output_type": "execute_result"
        }
      ],
      "source": [
        "# splitting dataset into pre-match\n",
        "start_date = '2022-11-01'\n",
        "end_date = '2022-11-19'\n",
        "insta_pre = insta[(insta['Date'] >= start_date) & (insta['Date'] <= end_date)]\n",
        "#insta_pre"
      ]
    },
    {
      "cell_type": "code",
      "execution_count": null,
      "id": "3f26011a",
      "metadata": {
        "id": "3f26011a"
      },
      "outputs": [],
      "source": [
        "# splitting dataset into during match - need to further split by rounds once decided\n",
        "start_date = '2022-11-20'\n",
        "end_date = '2022-12-18'\n",
        "insta_during = insta[(insta['Date'] >= start_date) & (insta['Date'] <= end_date)]\n",
        "#insta_during"
      ]
    },
    {
      "cell_type": "code",
      "execution_count": null,
      "id": "d6fa442d",
      "metadata": {
        "id": "d6fa442d",
        "outputId": "f7408daa-09ad-4912-90bd-13a2bc76df19"
      },
      "outputs": [
        {
          "data": {
            "text/html": [
              "<div>\n",
              "<style scoped>\n",
              "    .dataframe tbody tr th:only-of-type {\n",
              "        vertical-align: middle;\n",
              "    }\n",
              "\n",
              "    .dataframe tbody tr th {\n",
              "        vertical-align: top;\n",
              "    }\n",
              "\n",
              "    .dataframe thead th {\n",
              "        text-align: right;\n",
              "    }\n",
              "</style>\n",
              "<table border=\"1\" class=\"dataframe\">\n",
              "  <thead>\n",
              "    <tr style=\"text-align: right;\">\n",
              "      <th></th>\n",
              "      <th>content</th>\n",
              "      <th>from</th>\n",
              "      <th>likes</th>\n",
              "      <th>comments</th>\n",
              "      <th>Date</th>\n",
              "    </tr>\n",
              "  </thead>\n",
              "  <tbody>\n",
              "    <tr>\n",
              "      <th>2725</th>\n",
              "      <td>winner FIFA World Cup here!  #messi #qatar2022...</td>\n",
              "      <td>diamondcorner_</td>\n",
              "      <td>6.0</td>\n",
              "      <td>0</td>\n",
              "      <td>2022-12-19</td>\n",
              "    </tr>\n",
              "    <tr>\n",
              "      <th>2724</th>\n",
              "      <td>messi argentina win fifa world cup 22 #tofan #...</td>\n",
              "      <td>rishabhtiwari1483</td>\n",
              "      <td>5.0</td>\n",
              "      <td>0</td>\n",
              "      <td>2022-12-19</td>\n",
              "    </tr>\n",
              "    <tr>\n",
              "      <th>2723</th>\n",
              "      <td>Vamos Argentina Champions Qatar World cup 2022...</td>\n",
              "      <td>its_diman_01</td>\n",
              "      <td>4.0</td>\n",
              "      <td>0</td>\n",
              "      <td>2022-12-19</td>\n",
              "    </tr>\n",
              "    <tr>\n",
              "      <th>2722</th>\n",
              "      <td>World Cup Upper Deck Breakthrough signed Lione...</td>\n",
              "      <td>chefmatt716</td>\n",
              "      <td>5.0</td>\n",
              "      <td>0</td>\n",
              "      <td>2022-12-19</td>\n",
              "    </tr>\n",
              "    <tr>\n",
              "      <th>2721</th>\n",
              "      <td>Lionel Messi ends Argentina's 36 years wait wi...</td>\n",
              "      <td>cpscr_official</td>\n",
              "      <td>8.0</td>\n",
              "      <td>0</td>\n",
              "      <td>2022-12-19</td>\n",
              "    </tr>\n",
              "    <tr>\n",
              "      <th>...</th>\n",
              "      <td>...</td>\n",
              "      <td>...</td>\n",
              "      <td>...</td>\n",
              "      <td>...</td>\n",
              "      <td>...</td>\n",
              "    </tr>\n",
              "    <tr>\n",
              "      <th>7080</th>\n",
              "      <td>United States' Special Advisor International D...</td>\n",
              "      <td>gulftimes</td>\n",
              "      <td>39.0</td>\n",
              "      <td>0</td>\n",
              "      <td>2023-01-26</td>\n",
              "    </tr>\n",
              "    <tr>\n",
              "      <th>7084</th>\n",
              "      <td>Qatar’s FIFA World Cup journey showcased secon...</td>\n",
              "      <td>gulftimes</td>\n",
              "      <td>9.0</td>\n",
              "      <td>0</td>\n",
              "      <td>2023-01-26</td>\n",
              "    </tr>\n",
              "    <tr>\n",
              "      <th>7082</th>\n",
              "      <td>Department Communication Public Relations Qata...</td>\n",
              "      <td>gulftimes</td>\n",
              "      <td>4.0</td>\n",
              "      <td>0</td>\n",
              "      <td>2023-01-27</td>\n",
              "    </tr>\n",
              "    <tr>\n",
              "      <th>7083</th>\n",
              "      <td>Doha Declaration issued high-level event 42nd ...</td>\n",
              "      <td>gulftimes</td>\n",
              "      <td>55.0</td>\n",
              "      <td>2</td>\n",
              "      <td>2023-01-27</td>\n",
              "    </tr>\n",
              "    <tr>\n",
              "      <th>7079</th>\n",
              "      <td>Visit Qatar GKA Freestyle Kite World Cup 2023 ...</td>\n",
              "      <td>gulftimes</td>\n",
              "      <td>4.0</td>\n",
              "      <td>0</td>\n",
              "      <td>2023-01-30</td>\n",
              "    </tr>\n",
              "  </tbody>\n",
              "</table>\n",
              "<p>1145 rows × 5 columns</p>\n",
              "</div>"
            ],
            "text/plain": [
              "                                                content               from  \\\n",
              "2725  winner FIFA World Cup here!  #messi #qatar2022...     diamondcorner_   \n",
              "2724  messi argentina win fifa world cup 22 #tofan #...  rishabhtiwari1483   \n",
              "2723  Vamos Argentina Champions Qatar World cup 2022...       its_diman_01   \n",
              "2722  World Cup Upper Deck Breakthrough signed Lione...        chefmatt716   \n",
              "2721  Lionel Messi ends Argentina's 36 years wait wi...     cpscr_official   \n",
              "...                                                 ...                ...   \n",
              "7080  United States' Special Advisor International D...          gulftimes   \n",
              "7084  Qatar’s FIFA World Cup journey showcased secon...          gulftimes   \n",
              "7082  Department Communication Public Relations Qata...          gulftimes   \n",
              "7083  Doha Declaration issued high-level event 42nd ...          gulftimes   \n",
              "7079  Visit Qatar GKA Freestyle Kite World Cup 2023 ...          gulftimes   \n",
              "\n",
              "      likes  comments       Date  \n",
              "2725    6.0         0 2022-12-19  \n",
              "2724    5.0         0 2022-12-19  \n",
              "2723    4.0         0 2022-12-19  \n",
              "2722    5.0         0 2022-12-19  \n",
              "2721    8.0         0 2022-12-19  \n",
              "...     ...       ...        ...  \n",
              "7080   39.0         0 2023-01-26  \n",
              "7084    9.0         0 2023-01-26  \n",
              "7082    4.0         0 2023-01-27  \n",
              "7083   55.0         2 2023-01-27  \n",
              "7079    4.0         0 2023-01-30  \n",
              "\n",
              "[1145 rows x 5 columns]"
            ]
          },
          "execution_count": 89,
          "metadata": {},
          "output_type": "execute_result"
        }
      ],
      "source": [
        "# splitting dataset into post-match\n",
        "start_date = '2022-12-19'\n",
        "end_date = '2023-01-30'\n",
        "insta_post = insta[(insta['Date'] >= start_date) & (insta['Date'] <= end_date)]\n",
        "#insta_post"
      ]
    }
  ],
  "metadata": {
    "kernelspec": {
      "display_name": "Python 3 (ipykernel)",
      "language": "python",
      "name": "python3"
    },
    "language_info": {
      "codemirror_mode": {
        "name": "ipython",
        "version": 3
      },
      "file_extension": ".py",
      "mimetype": "text/x-python",
      "name": "python",
      "nbconvert_exporter": "python",
      "pygments_lexer": "ipython3",
      "version": "3.9.7"
    },
    "colab": {
      "provenance": [],
      "include_colab_link": true
    }
  },
  "nbformat": 4,
  "nbformat_minor": 5
}