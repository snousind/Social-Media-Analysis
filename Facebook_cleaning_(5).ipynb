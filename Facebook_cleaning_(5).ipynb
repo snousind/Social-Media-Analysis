{
  "cells": [
    {
      "cell_type": "markdown",
      "metadata": {
        "id": "view-in-github",
        "colab_type": "text"
      },
      "source": [
        "<a href=\"https://colab.research.google.com/github/snousind/Social-Media-Analysis/blob/Facebook/Facebook_cleaning_(5).ipynb\" target=\"_parent\"><img src=\"https://colab.research.google.com/assets/colab-badge.svg\" alt=\"Open In Colab\"/></a>"
      ]
    },
    {
      "cell_type": "code",
      "execution_count": null,
      "id": "297e4264",
      "metadata": {
        "id": "297e4264"
      },
      "outputs": [],
      "source": [
        "import pandas as pd\n",
        "import numpy as np\n",
        "import matplotlib.pyplot as plt\n",
        "import seaborn as sns\n",
        "import nltk\n",
        "from nltk.corpus import stopwords\n",
        "from nltk.tokenize import word_tokenize"
      ]
    },
    {
      "cell_type": "code",
      "execution_count": null,
      "id": "5854680b",
      "metadata": {
        "scrolled": true,
        "id": "5854680b",
        "outputId": "9a882e04-cc96-419c-99db-685c741f80c0"
      },
      "outputs": [
        {
          "data": {
            "text/html": [
              "<div>\n",
              "<style scoped>\n",
              "    .dataframe tbody tr th:only-of-type {\n",
              "        vertical-align: middle;\n",
              "    }\n",
              "\n",
              "    .dataframe tbody tr th {\n",
              "        vertical-align: top;\n",
              "    }\n",
              "\n",
              "    .dataframe thead th {\n",
              "        text-align: right;\n",
              "    }\n",
              "</style>\n",
              "<table border=\"1\" class=\"dataframe\">\n",
              "  <thead>\n",
              "    <tr style=\"text-align: right;\">\n",
              "      <th></th>\n",
              "      <th>title</th>\n",
              "      <th>content</th>\n",
              "      <th>from</th>\n",
              "      <th>in</th>\n",
              "      <th>date</th>\n",
              "      <th>images</th>\n",
              "      <th>url</th>\n",
              "      <th>by</th>\n",
              "      <th>comments</th>\n",
              "      <th>hits</th>\n",
              "      <th>likes</th>\n",
              "      <th>shares</th>\n",
              "      <th>loves</th>\n",
              "      <th>wows</th>\n",
              "      <th>hahas</th>\n",
              "      <th>sads</th>\n",
              "      <th>angrys</th>\n",
              "      <th>thankfuls</th>\n",
              "      <th>supports</th>\n",
              "      <th>byImageUrl</th>\n",
              "    </tr>\n",
              "  </thead>\n",
              "  <tbody>\n",
              "    <tr>\n",
              "      <th>0</th>\n",
              "      <td>NaN</td>\n",
              "      <td>Visit us at  https://asiatimes.com/Premium con...</td>\n",
              "      <td>Asia Times</td>\n",
              "      <td>NaN</td>\n",
              "      <td>2022-12-22 16:24:43</td>\n",
              "      <td>[\"https://external-sin6-1.xx.fbcdn.net/emg1/v/...</td>\n",
              "      <td>https://www.facebook.com/asiatimesonline/posts...</td>\n",
              "      <td>Asia Times</td>\n",
              "      <td>0.0</td>\n",
              "      <td>NaN</td>\n",
              "      <td>4.0</td>\n",
              "      <td>1.0</td>\n",
              "      <td>0.0</td>\n",
              "      <td>0.0</td>\n",
              "      <td>0.0</td>\n",
              "      <td>0.0</td>\n",
              "      <td>0.0</td>\n",
              "      <td>0.0</td>\n",
              "      <td>NaN</td>\n",
              "      <td>https://graph.facebook.com/186423081422922/pic...</td>\n",
              "    </tr>\n",
              "    <tr>\n",
              "      <th>1</th>\n",
              "      <td>NaN</td>\n",
              "      <td>With a capacity of over 68,000 seats, Al Bayt ...</td>\n",
              "      <td>HISTORY</td>\n",
              "      <td>NaN</td>\n",
              "      <td>2022-12-09 18:00:00</td>\n",
              "      <td>[\"https://scontent-sin6-1.xx.fbcdn.net/v/t15.5...</td>\n",
              "      <td>https://www.facebook.com/HISTORYasia/posts/101...</td>\n",
              "      <td>HISTORY</td>\n",
              "      <td>3.0</td>\n",
              "      <td>NaN</td>\n",
              "      <td>177.0</td>\n",
              "      <td>11.0</td>\n",
              "      <td>2.0</td>\n",
              "      <td>0.0</td>\n",
              "      <td>0.0</td>\n",
              "      <td>0.0</td>\n",
              "      <td>0.0</td>\n",
              "      <td>0.0</td>\n",
              "      <td>NaN</td>\n",
              "      <td>https://graph.facebook.com/285783598753/pictur...</td>\n",
              "    </tr>\n",
              "    <tr>\n",
              "      <th>2</th>\n",
              "      <td>NaN</td>\n",
              "      <td>Visit us at  https://asiatimes.com/Premium con...</td>\n",
              "      <td>Asia Times</td>\n",
              "      <td>NaN</td>\n",
              "      <td>2022-11-16 13:24:45</td>\n",
              "      <td>[\"https://external-sin6-4.xx.fbcdn.net/emg1/v/...</td>\n",
              "      <td>https://www.facebook.com/asiatimesonline/posts...</td>\n",
              "      <td>Asia Times</td>\n",
              "      <td>0.0</td>\n",
              "      <td>NaN</td>\n",
              "      <td>5.0</td>\n",
              "      <td>0.0</td>\n",
              "      <td>1.0</td>\n",
              "      <td>0.0</td>\n",
              "      <td>1.0</td>\n",
              "      <td>0.0</td>\n",
              "      <td>0.0</td>\n",
              "      <td>0.0</td>\n",
              "      <td>NaN</td>\n",
              "      <td>https://graph.facebook.com/186423081422922/pic...</td>\n",
              "    </tr>\n",
              "    <tr>\n",
              "      <th>3</th>\n",
              "      <td>NaN</td>\n",
              "      <td>What a game! #Argentina defeated the defending...</td>\n",
              "      <td>Hisense</td>\n",
              "      <td>NaN</td>\n",
              "      <td>2022-12-19 08:23:59</td>\n",
              "      <td>[\"https://scontent-nrt1-1.xx.fbcdn.net/v/t39.3...</td>\n",
              "      <td>https://www.facebook.com/HisenseGlobal/posts/5...</td>\n",
              "      <td>Hisense</td>\n",
              "      <td>8.0</td>\n",
              "      <td>NaN</td>\n",
              "      <td>193.0</td>\n",
              "      <td>13.0</td>\n",
              "      <td>16.0</td>\n",
              "      <td>0.0</td>\n",
              "      <td>1.0</td>\n",
              "      <td>0.0</td>\n",
              "      <td>2.0</td>\n",
              "      <td>0.0</td>\n",
              "      <td>NaN</td>\n",
              "      <td>https://graph.facebook.com/492483184105033/pic...</td>\n",
              "    </tr>\n",
              "    <tr>\n",
              "      <th>4</th>\n",
              "      <td>NaN</td>\n",
              "      <td>UPDATE: Spain run riot over Costa Rica to go t...</td>\n",
              "      <td>Daily Monitor</td>\n",
              "      <td>NaN</td>\n",
              "      <td>2022-11-24 02:01:26</td>\n",
              "      <td>[\"https://scontent-nrt1-1.xx.fbcdn.net/v/t39.3...</td>\n",
              "      <td>https://www.facebook.com/DailyMonitor/posts/10...</td>\n",
              "      <td>Daily Monitor</td>\n",
              "      <td>13.0</td>\n",
              "      <td>NaN</td>\n",
              "      <td>228.0</td>\n",
              "      <td>2.0</td>\n",
              "      <td>3.0</td>\n",
              "      <td>6.0</td>\n",
              "      <td>2.0</td>\n",
              "      <td>0.0</td>\n",
              "      <td>0.0</td>\n",
              "      <td>0.0</td>\n",
              "      <td>NaN</td>\n",
              "      <td>https://graph.facebook.com/105583497196/pictur...</td>\n",
              "    </tr>\n",
              "    <tr>\n",
              "      <th>...</th>\n",
              "      <td>...</td>\n",
              "      <td>...</td>\n",
              "      <td>...</td>\n",
              "      <td>...</td>\n",
              "      <td>...</td>\n",
              "      <td>...</td>\n",
              "      <td>...</td>\n",
              "      <td>...</td>\n",
              "      <td>...</td>\n",
              "      <td>...</td>\n",
              "      <td>...</td>\n",
              "      <td>...</td>\n",
              "      <td>...</td>\n",
              "      <td>...</td>\n",
              "      <td>...</td>\n",
              "      <td>...</td>\n",
              "      <td>...</td>\n",
              "      <td>...</td>\n",
              "      <td>...</td>\n",
              "      <td>...</td>\n",
              "    </tr>\n",
              "    <tr>\n",
              "      <th>17147</th>\n",
              "      <td>TUDN MEX──在 2022 FIFA World Cup Qatar 。</td>\n",
              "      <td>� Un XI alternativo que no podrá estar en Qata...</td>\n",
              "      <td>TUDN MEX</td>\n",
              "      <td>NaN</td>\n",
              "      <td>2022-11-18 01:51:57</td>\n",
              "      <td>[\"https://scontent-sin6-1.xx.fbcdn.net/v/t39.3...</td>\n",
              "      <td>https://www.facebook.com/tudnmex/posts/1016059...</td>\n",
              "      <td>TUDN MEX</td>\n",
              "      <td>1831.0</td>\n",
              "      <td>NaN</td>\n",
              "      <td>4190.0</td>\n",
              "      <td>521.0</td>\n",
              "      <td>765.0</td>\n",
              "      <td>46.0</td>\n",
              "      <td>256.0</td>\n",
              "      <td>2233.0</td>\n",
              "      <td>64.0</td>\n",
              "      <td>0.0</td>\n",
              "      <td>NaN</td>\n",
              "      <td>https://graph.facebook.com/22653382339/picture...</td>\n",
              "    </tr>\n",
              "    <tr>\n",
              "      <th>17148</th>\n",
              "      <td>NaN</td>\n",
              "      <td>�� ��� ��� ������� ��?Qatar University announc...</td>\n",
              "      <td>TUDN USA</td>\n",
              "      <td>NaN</td>\n",
              "      <td>2022-12-29 01:35:47</td>\n",
              "      <td>[\"https://scontent-sin6-1.xx.fbcdn.net/v/t39.3...</td>\n",
              "      <td>https://www.facebook.com/tudnusa/posts/1016059...</td>\n",
              "      <td>TUDN USA</td>\n",
              "      <td>43.0</td>\n",
              "      <td>NaN</td>\n",
              "      <td>111.0</td>\n",
              "      <td>4.0</td>\n",
              "      <td>17.0</td>\n",
              "      <td>2.0</td>\n",
              "      <td>54.0</td>\n",
              "      <td>0.0</td>\n",
              "      <td>0.0</td>\n",
              "      <td>0.0</td>\n",
              "      <td>NaN</td>\n",
              "      <td>https://graph.facebook.com/173155703431/pictur...</td>\n",
              "    </tr>\n",
              "    <tr>\n",
              "      <th>17149</th>\n",
              "      <td>NaN</td>\n",
              "      <td>There were allegations that World Cup host Qat...</td>\n",
              "      <td>NaN</td>\n",
              "      <td>NaN</td>\n",
              "      <td>NaT</td>\n",
              "      <td>NaN</td>\n",
              "      <td>NaN</td>\n",
              "      <td>NaN</td>\n",
              "      <td>NaN</td>\n",
              "      <td>NaN</td>\n",
              "      <td>NaN</td>\n",
              "      <td>NaN</td>\n",
              "      <td>NaN</td>\n",
              "      <td>NaN</td>\n",
              "      <td>NaN</td>\n",
              "      <td>NaN</td>\n",
              "      <td>NaN</td>\n",
              "      <td>NaN</td>\n",
              "      <td>NaN</td>\n",
              "      <td>NaN</td>\n",
              "    </tr>\n",
              "    <tr>\n",
              "      <th>17150</th>\n",
              "      <td>NaN</td>\n",
              "      <td>Recent reports indicate he will receive around...</td>\n",
              "      <td>NaN</td>\n",
              "      <td>NaN</td>\n",
              "      <td>NaT</td>\n",
              "      <td>NaN</td>\n",
              "      <td>NaN</td>\n",
              "      <td>NaN</td>\n",
              "      <td>NaN</td>\n",
              "      <td>NaN</td>\n",
              "      <td>NaN</td>\n",
              "      <td>NaN</td>\n",
              "      <td>NaN</td>\n",
              "      <td>NaN</td>\n",
              "      <td>NaN</td>\n",
              "      <td>NaN</td>\n",
              "      <td>NaN</td>\n",
              "      <td>NaN</td>\n",
              "      <td>NaN</td>\n",
              "      <td>NaN</td>\n",
              "    </tr>\n",
              "    <tr>\n",
              "      <th>17151</th>\n",
              "      <td>NaN</td>\n",
              "      <td>Morocco became the first Arabic-speaking count...</td>\n",
              "      <td>NaN</td>\n",
              "      <td>NaN</td>\n",
              "      <td>NaT</td>\n",
              "      <td>NaN</td>\n",
              "      <td>NaN</td>\n",
              "      <td>NaN</td>\n",
              "      <td>NaN</td>\n",
              "      <td>NaN</td>\n",
              "      <td>NaN</td>\n",
              "      <td>NaN</td>\n",
              "      <td>NaN</td>\n",
              "      <td>NaN</td>\n",
              "      <td>NaN</td>\n",
              "      <td>NaN</td>\n",
              "      <td>NaN</td>\n",
              "      <td>NaN</td>\n",
              "      <td>NaN</td>\n",
              "      <td>NaN</td>\n",
              "    </tr>\n",
              "  </tbody>\n",
              "</table>\n",
              "<p>17152 rows × 20 columns</p>\n",
              "</div>"
            ],
            "text/plain": [
              "                                         title  \\\n",
              "0                                          NaN   \n",
              "1                                          NaN   \n",
              "2                                          NaN   \n",
              "3                                          NaN   \n",
              "4                                          NaN   \n",
              "...                                        ...   \n",
              "17147  TUDN MEX──在 2022 FIFA World Cup Qatar 。   \n",
              "17148                                      NaN   \n",
              "17149                                      NaN   \n",
              "17150                                      NaN   \n",
              "17151                                      NaN   \n",
              "\n",
              "                                                 content           from  in  \\\n",
              "0      Visit us at  https://asiatimes.com/Premium con...     Asia Times NaN   \n",
              "1      With a capacity of over 68,000 seats, Al Bayt ...        HISTORY NaN   \n",
              "2      Visit us at  https://asiatimes.com/Premium con...     Asia Times NaN   \n",
              "3      What a game! #Argentina defeated the defending...        Hisense NaN   \n",
              "4      UPDATE: Spain run riot over Costa Rica to go t...  Daily Monitor NaN   \n",
              "...                                                  ...            ...  ..   \n",
              "17147  � Un XI alternativo que no podrá estar en Qata...       TUDN MEX NaN   \n",
              "17148  �� ��� ��� ������� ��?Qatar University announc...       TUDN USA NaN   \n",
              "17149  There were allegations that World Cup host Qat...            NaN NaN   \n",
              "17150  Recent reports indicate he will receive around...            NaN NaN   \n",
              "17151  Morocco became the first Arabic-speaking count...            NaN NaN   \n",
              "\n",
              "                     date                                             images  \\\n",
              "0     2022-12-22 16:24:43  [\"https://external-sin6-1.xx.fbcdn.net/emg1/v/...   \n",
              "1     2022-12-09 18:00:00  [\"https://scontent-sin6-1.xx.fbcdn.net/v/t15.5...   \n",
              "2     2022-11-16 13:24:45  [\"https://external-sin6-4.xx.fbcdn.net/emg1/v/...   \n",
              "3     2022-12-19 08:23:59  [\"https://scontent-nrt1-1.xx.fbcdn.net/v/t39.3...   \n",
              "4     2022-11-24 02:01:26  [\"https://scontent-nrt1-1.xx.fbcdn.net/v/t39.3...   \n",
              "...                   ...                                                ...   \n",
              "17147 2022-11-18 01:51:57  [\"https://scontent-sin6-1.xx.fbcdn.net/v/t39.3...   \n",
              "17148 2022-12-29 01:35:47  [\"https://scontent-sin6-1.xx.fbcdn.net/v/t39.3...   \n",
              "17149                 NaT                                                NaN   \n",
              "17150                 NaT                                                NaN   \n",
              "17151                 NaT                                                NaN   \n",
              "\n",
              "                                                     url             by  \\\n",
              "0      https://www.facebook.com/asiatimesonline/posts...     Asia Times   \n",
              "1      https://www.facebook.com/HISTORYasia/posts/101...        HISTORY   \n",
              "2      https://www.facebook.com/asiatimesonline/posts...     Asia Times   \n",
              "3      https://www.facebook.com/HisenseGlobal/posts/5...        Hisense   \n",
              "4      https://www.facebook.com/DailyMonitor/posts/10...  Daily Monitor   \n",
              "...                                                  ...            ...   \n",
              "17147  https://www.facebook.com/tudnmex/posts/1016059...       TUDN MEX   \n",
              "17148  https://www.facebook.com/tudnusa/posts/1016059...       TUDN USA   \n",
              "17149                                                NaN            NaN   \n",
              "17150                                                NaN            NaN   \n",
              "17151                                                NaN            NaN   \n",
              "\n",
              "       comments  hits   likes  shares  loves  wows  hahas    sads  angrys  \\\n",
              "0           0.0   NaN     4.0     1.0    0.0   0.0    0.0     0.0     0.0   \n",
              "1           3.0   NaN   177.0    11.0    2.0   0.0    0.0     0.0     0.0   \n",
              "2           0.0   NaN     5.0     0.0    1.0   0.0    1.0     0.0     0.0   \n",
              "3           8.0   NaN   193.0    13.0   16.0   0.0    1.0     0.0     2.0   \n",
              "4          13.0   NaN   228.0     2.0    3.0   6.0    2.0     0.0     0.0   \n",
              "...         ...   ...     ...     ...    ...   ...    ...     ...     ...   \n",
              "17147    1831.0   NaN  4190.0   521.0  765.0  46.0  256.0  2233.0    64.0   \n",
              "17148      43.0   NaN   111.0     4.0   17.0   2.0   54.0     0.0     0.0   \n",
              "17149       NaN   NaN     NaN     NaN    NaN   NaN    NaN     NaN     NaN   \n",
              "17150       NaN   NaN     NaN     NaN    NaN   NaN    NaN     NaN     NaN   \n",
              "17151       NaN   NaN     NaN     NaN    NaN   NaN    NaN     NaN     NaN   \n",
              "\n",
              "       thankfuls  supports                                         byImageUrl  \n",
              "0            0.0       NaN  https://graph.facebook.com/186423081422922/pic...  \n",
              "1            0.0       NaN  https://graph.facebook.com/285783598753/pictur...  \n",
              "2            0.0       NaN  https://graph.facebook.com/186423081422922/pic...  \n",
              "3            0.0       NaN  https://graph.facebook.com/492483184105033/pic...  \n",
              "4            0.0       NaN  https://graph.facebook.com/105583497196/pictur...  \n",
              "...          ...       ...                                                ...  \n",
              "17147        0.0       NaN  https://graph.facebook.com/22653382339/picture...  \n",
              "17148        0.0       NaN  https://graph.facebook.com/173155703431/pictur...  \n",
              "17149        NaN       NaN                                                NaN  \n",
              "17150        NaN       NaN                                                NaN  \n",
              "17151        NaN       NaN                                                NaN  \n",
              "\n",
              "[17152 rows x 20 columns]"
            ]
          },
          "execution_count": 132,
          "metadata": {},
          "output_type": "execute_result"
        }
      ],
      "source": [
        "df = pd.read_excel('facebook.xlsx')\n",
        "df"
      ]
    },
    {
      "cell_type": "code",
      "execution_count": null,
      "id": "daca701f",
      "metadata": {
        "id": "daca701f",
        "outputId": "b03451a4-bbff-4941-8b25-5df920ae5403"
      },
      "outputs": [
        {
          "data": {
            "text/plain": [
              "0"
            ]
          },
          "execution_count": 133,
          "metadata": {},
          "output_type": "execute_result"
        }
      ],
      "source": [
        "df.duplicated().sum()"
      ]
    },
    {
      "cell_type": "code",
      "execution_count": null,
      "id": "278f9630",
      "metadata": {
        "id": "278f9630"
      },
      "outputs": [],
      "source": [
        "df = df.drop(['title', 'in', 'images', 'url', 'hits', 'supports', 'byImageUrl', 'thankfuls'], axis=1)"
      ]
    },
    {
      "cell_type": "code",
      "execution_count": null,
      "id": "d2204913",
      "metadata": {
        "id": "d2204913"
      },
      "outputs": [],
      "source": [
        "df = df.drop([17151,17150,17149])"
      ]
    },
    {
      "cell_type": "code",
      "execution_count": null,
      "id": "774367f0",
      "metadata": {
        "id": "774367f0",
        "outputId": "2a39f214-0312-427e-86fa-178fe8564a5e"
      },
      "outputs": [
        {
          "data": {
            "text/plain": [
              "content     0\n",
              "from        0\n",
              "date        0\n",
              "by          0\n",
              "comments    0\n",
              "likes       0\n",
              "shares      0\n",
              "loves       0\n",
              "wows        0\n",
              "hahas       0\n",
              "sads        0\n",
              "angrys      0\n",
              "dtype: int64"
            ]
          },
          "execution_count": 136,
          "metadata": {},
          "output_type": "execute_result"
        }
      ],
      "source": [
        "df.isna().sum()"
      ]
    },
    {
      "cell_type": "code",
      "execution_count": null,
      "id": "1b2b20d2",
      "metadata": {
        "scrolled": false,
        "id": "1b2b20d2",
        "outputId": "bfab5975-f6aa-4da0-9397-b647b0fe0ffa"
      },
      "outputs": [
        {
          "data": {
            "text/plain": [
              "content             object\n",
              "from                object\n",
              "date        datetime64[ns]\n",
              "by                  object\n",
              "comments           float64\n",
              "likes              float64\n",
              "shares             float64\n",
              "loves              float64\n",
              "wows               float64\n",
              "hahas              float64\n",
              "sads               float64\n",
              "angrys             float64\n",
              "dtype: object"
            ]
          },
          "execution_count": 137,
          "metadata": {},
          "output_type": "execute_result"
        }
      ],
      "source": [
        "df.dtypes"
      ]
    },
    {
      "cell_type": "code",
      "execution_count": null,
      "id": "358e344c",
      "metadata": {
        "id": "358e344c",
        "outputId": "1db271b2-b48f-497c-b346-a724285b646b"
      },
      "outputs": [
        {
          "data": {
            "text/plain": [
              "Index(['content', 'from', 'date', 'by', 'comments', 'likes', 'shares', 'loves',\n",
              "       'wows', 'hahas', 'sads', 'angrys'],\n",
              "      dtype='object')"
            ]
          },
          "execution_count": 138,
          "metadata": {},
          "output_type": "execute_result"
        }
      ],
      "source": [
        "df.columns"
      ]
    },
    {
      "cell_type": "code",
      "execution_count": null,
      "id": "6fd83c14",
      "metadata": {
        "id": "6fd83c14"
      },
      "outputs": [],
      "source": [
        "columns_aggr = ['likes', 'shares', 'loves',\n",
        "       'wows', 'hahas', 'sads', 'angrys']\n",
        "\n",
        "# Create a new column with the sum of selected columns\n",
        "df['interactions'] = df[columns_aggr].sum(axis=1)"
      ]
    },
    {
      "cell_type": "code",
      "execution_count": null,
      "id": "b4e792e1",
      "metadata": {
        "id": "b4e792e1"
      },
      "outputs": [],
      "source": [
        "reacts_sorted = df.sort_values(by='interactions', ascending = False)"
      ]
    },
    {
      "cell_type": "code",
      "execution_count": null,
      "id": "da24c180",
      "metadata": {
        "id": "da24c180",
        "outputId": "3874852f-7d16-4a4a-8e87-a2397d611dab"
      },
      "outputs": [
        {
          "data": {
            "text/html": [
              "<div>\n",
              "<style scoped>\n",
              "    .dataframe tbody tr th:only-of-type {\n",
              "        vertical-align: middle;\n",
              "    }\n",
              "\n",
              "    .dataframe tbody tr th {\n",
              "        vertical-align: top;\n",
              "    }\n",
              "\n",
              "    .dataframe thead th {\n",
              "        text-align: right;\n",
              "    }\n",
              "</style>\n",
              "<table border=\"1\" class=\"dataframe\">\n",
              "  <thead>\n",
              "    <tr style=\"text-align: right;\">\n",
              "      <th></th>\n",
              "      <th>content</th>\n",
              "      <th>from</th>\n",
              "      <th>date</th>\n",
              "      <th>by</th>\n",
              "      <th>comments</th>\n",
              "      <th>likes</th>\n",
              "      <th>shares</th>\n",
              "      <th>loves</th>\n",
              "      <th>wows</th>\n",
              "      <th>hahas</th>\n",
              "      <th>sads</th>\n",
              "      <th>angrys</th>\n",
              "      <th>interactions</th>\n",
              "    </tr>\n",
              "  </thead>\n",
              "  <tbody>\n",
              "    <tr>\n",
              "      <th>9286</th>\n",
              "      <td>We've had some special opening ceremonies �Can...</td>\n",
              "      <td>FIFA World Cup</td>\n",
              "      <td>2022-11-20 03:21:32</td>\n",
              "      <td>FIFA World Cup</td>\n",
              "      <td>48691.0</td>\n",
              "      <td>3656165.0</td>\n",
              "      <td>339926.0</td>\n",
              "      <td>1167869.0</td>\n",
              "      <td>14544.0</td>\n",
              "      <td>12343.0</td>\n",
              "      <td>2212.0</td>\n",
              "      <td>3738.0</td>\n",
              "      <td>5196797.0</td>\n",
              "    </tr>\n",
              "    <tr>\n",
              "      <th>10999</th>\n",
              "      <td>Can't wait for this great World Cup semi-final...</td>\n",
              "      <td>Mesut Özil</td>\n",
              "      <td>2022-12-15 02:20:37</td>\n",
              "      <td>Mesut Özil</td>\n",
              "      <td>54445.0</td>\n",
              "      <td>1779102.0</td>\n",
              "      <td>29761.0</td>\n",
              "      <td>868409.0</td>\n",
              "      <td>1603.0</td>\n",
              "      <td>6512.0</td>\n",
              "      <td>1727.0</td>\n",
              "      <td>392.0</td>\n",
              "      <td>2687506.0</td>\n",
              "    </tr>\n",
              "    <tr>\n",
              "      <th>14934</th>\n",
              "      <td>Son muchos los recuerdos, buenos momentos y no...</td>\n",
              "      <td>Leo Messi</td>\n",
              "      <td>2022-11-22 04:06:08</td>\n",
              "      <td>Leo Messi</td>\n",
              "      <td>65977.0</td>\n",
              "      <td>527424.0</td>\n",
              "      <td>36493.0</td>\n",
              "      <td>513938.0</td>\n",
              "      <td>681.0</td>\n",
              "      <td>4366.0</td>\n",
              "      <td>802.0</td>\n",
              "      <td>217.0</td>\n",
              "      <td>1083921.0</td>\n",
              "    </tr>\n",
              "    <tr>\n",
              "      <th>10461</th>\n",
              "      <td>World Cup final � @cruzbeckhamRoad to 2022 #fi...</td>\n",
              "      <td>David Beckham</td>\n",
              "      <td>2022-12-18 23:07:03</td>\n",
              "      <td>David Beckham</td>\n",
              "      <td>7642.0</td>\n",
              "      <td>814887.0</td>\n",
              "      <td>6148.0</td>\n",
              "      <td>177540.0</td>\n",
              "      <td>679.0</td>\n",
              "      <td>514.0</td>\n",
              "      <td>60.0</td>\n",
              "      <td>153.0</td>\n",
              "      <td>999981.0</td>\n",
              "    </tr>\n",
              "    <tr>\n",
              "      <th>7237</th>\n",
              "      <td>Thank you for an unforgettable visit and a Wor...</td>\n",
              "      <td>Zlatan Ibrahimović</td>\n",
              "      <td>2022-12-22 00:08:16</td>\n",
              "      <td>Zlatan Ibrahimović</td>\n",
              "      <td>10244.0</td>\n",
              "      <td>713547.0</td>\n",
              "      <td>3239.0</td>\n",
              "      <td>166533.0</td>\n",
              "      <td>529.0</td>\n",
              "      <td>1429.0</td>\n",
              "      <td>99.0</td>\n",
              "      <td>253.0</td>\n",
              "      <td>885629.0</td>\n",
              "    </tr>\n",
              "    <tr>\n",
              "      <th>...</th>\n",
              "      <td>...</td>\n",
              "      <td>...</td>\n",
              "      <td>...</td>\n",
              "      <td>...</td>\n",
              "      <td>...</td>\n",
              "      <td>...</td>\n",
              "      <td>...</td>\n",
              "      <td>...</td>\n",
              "      <td>...</td>\n",
              "      <td>...</td>\n",
              "      <td>...</td>\n",
              "      <td>...</td>\n",
              "      <td>...</td>\n",
              "    </tr>\n",
              "    <tr>\n",
              "      <th>10364</th>\n",
              "      <td>As Qatar welcomes more than a million fans for...</td>\n",
              "      <td>Bristol Herald Courier</td>\n",
              "      <td>2022-11-28 22:37:02</td>\n",
              "      <td>Bristol Herald Courier</td>\n",
              "      <td>0.0</td>\n",
              "      <td>0.0</td>\n",
              "      <td>0.0</td>\n",
              "      <td>0.0</td>\n",
              "      <td>0.0</td>\n",
              "      <td>0.0</td>\n",
              "      <td>0.0</td>\n",
              "      <td>0.0</td>\n",
              "      <td>0.0</td>\n",
              "    </tr>\n",
              "    <tr>\n",
              "      <th>10970</th>\n",
              "      <td>The Qatar World Cup should be a watershed mome...</td>\n",
              "      <td>Guardian US sports</td>\n",
              "      <td>2022-12-20 16:06:07</td>\n",
              "      <td>Guardian US sports</td>\n",
              "      <td>1.0</td>\n",
              "      <td>0.0</td>\n",
              "      <td>0.0</td>\n",
              "      <td>0.0</td>\n",
              "      <td>0.0</td>\n",
              "      <td>0.0</td>\n",
              "      <td>0.0</td>\n",
              "      <td>0.0</td>\n",
              "      <td>0.0</td>\n",
              "    </tr>\n",
              "    <tr>\n",
              "      <th>2525</th>\n",
              "      <td>#Arab Fans In #Qatar Rally Behind #MoroccoArab...</td>\n",
              "      <td>Kashmir Observer</td>\n",
              "      <td>2022-12-06 01:45:31</td>\n",
              "      <td>Kashmir Observer</td>\n",
              "      <td>0.0</td>\n",
              "      <td>0.0</td>\n",
              "      <td>0.0</td>\n",
              "      <td>0.0</td>\n",
              "      <td>0.0</td>\n",
              "      <td>0.0</td>\n",
              "      <td>0.0</td>\n",
              "      <td>0.0</td>\n",
              "      <td>0.0</td>\n",
              "    </tr>\n",
              "    <tr>\n",
              "      <th>5324</th>\n",
              "      <td>Football v soccer: can the World Cup win a US ...</td>\n",
              "      <td>Media Guardian</td>\n",
              "      <td>2022-11-23 18:10:35</td>\n",
              "      <td>Media Guardian</td>\n",
              "      <td>1.0</td>\n",
              "      <td>0.0</td>\n",
              "      <td>0.0</td>\n",
              "      <td>0.0</td>\n",
              "      <td>0.0</td>\n",
              "      <td>0.0</td>\n",
              "      <td>0.0</td>\n",
              "      <td>0.0</td>\n",
              "      <td>0.0</td>\n",
              "    </tr>\n",
              "    <tr>\n",
              "      <th>391</th>\n",
              "      <td>Malaysia Top 1 Online Casino��-GOL988  FIFA WO...</td>\n",
              "      <td>2022世界杯卡塔尔</td>\n",
              "      <td>2022-11-30 18:41:14</td>\n",
              "      <td>Olivia Wei</td>\n",
              "      <td>0.0</td>\n",
              "      <td>0.0</td>\n",
              "      <td>0.0</td>\n",
              "      <td>0.0</td>\n",
              "      <td>0.0</td>\n",
              "      <td>0.0</td>\n",
              "      <td>0.0</td>\n",
              "      <td>0.0</td>\n",
              "      <td>0.0</td>\n",
              "    </tr>\n",
              "  </tbody>\n",
              "</table>\n",
              "<p>17149 rows × 13 columns</p>\n",
              "</div>"
            ],
            "text/plain": [
              "                                                 content  \\\n",
              "9286   We've had some special opening ceremonies �Can...   \n",
              "10999  Can't wait for this great World Cup semi-final...   \n",
              "14934  Son muchos los recuerdos, buenos momentos y no...   \n",
              "10461  World Cup final � @cruzbeckhamRoad to 2022 #fi...   \n",
              "7237   Thank you for an unforgettable visit and a Wor...   \n",
              "...                                                  ...   \n",
              "10364  As Qatar welcomes more than a million fans for...   \n",
              "10970  The Qatar World Cup should be a watershed mome...   \n",
              "2525   #Arab Fans In #Qatar Rally Behind #MoroccoArab...   \n",
              "5324   Football v soccer: can the World Cup win a US ...   \n",
              "391    Malaysia Top 1 Online Casino��-GOL988  FIFA WO...   \n",
              "\n",
              "                         from                date                      by  \\\n",
              "9286           FIFA World Cup 2022-11-20 03:21:32          FIFA World Cup   \n",
              "10999              Mesut Özil 2022-12-15 02:20:37              Mesut Özil   \n",
              "14934               Leo Messi 2022-11-22 04:06:08               Leo Messi   \n",
              "10461           David Beckham 2022-12-18 23:07:03           David Beckham   \n",
              "7237       Zlatan Ibrahimović 2022-12-22 00:08:16      Zlatan Ibrahimović   \n",
              "...                       ...                 ...                     ...   \n",
              "10364  Bristol Herald Courier 2022-11-28 22:37:02  Bristol Herald Courier   \n",
              "10970      Guardian US sports 2022-12-20 16:06:07      Guardian US sports   \n",
              "2525         Kashmir Observer 2022-12-06 01:45:31        Kashmir Observer   \n",
              "5324           Media Guardian 2022-11-23 18:10:35          Media Guardian   \n",
              "391                2022世界杯卡塔尔 2022-11-30 18:41:14              Olivia Wei   \n",
              "\n",
              "       comments      likes    shares      loves     wows    hahas    sads  \\\n",
              "9286    48691.0  3656165.0  339926.0  1167869.0  14544.0  12343.0  2212.0   \n",
              "10999   54445.0  1779102.0   29761.0   868409.0   1603.0   6512.0  1727.0   \n",
              "14934   65977.0   527424.0   36493.0   513938.0    681.0   4366.0   802.0   \n",
              "10461    7642.0   814887.0    6148.0   177540.0    679.0    514.0    60.0   \n",
              "7237    10244.0   713547.0    3239.0   166533.0    529.0   1429.0    99.0   \n",
              "...         ...        ...       ...        ...      ...      ...     ...   \n",
              "10364       0.0        0.0       0.0        0.0      0.0      0.0     0.0   \n",
              "10970       1.0        0.0       0.0        0.0      0.0      0.0     0.0   \n",
              "2525        0.0        0.0       0.0        0.0      0.0      0.0     0.0   \n",
              "5324        1.0        0.0       0.0        0.0      0.0      0.0     0.0   \n",
              "391         0.0        0.0       0.0        0.0      0.0      0.0     0.0   \n",
              "\n",
              "       angrys  interactions  \n",
              "9286   3738.0     5196797.0  \n",
              "10999   392.0     2687506.0  \n",
              "14934   217.0     1083921.0  \n",
              "10461   153.0      999981.0  \n",
              "7237    253.0      885629.0  \n",
              "...       ...           ...  \n",
              "10364     0.0           0.0  \n",
              "10970     0.0           0.0  \n",
              "2525      0.0           0.0  \n",
              "5324      0.0           0.0  \n",
              "391       0.0           0.0  \n",
              "\n",
              "[17149 rows x 13 columns]"
            ]
          },
          "execution_count": 141,
          "metadata": {},
          "output_type": "execute_result"
        }
      ],
      "source": [
        "reacts_sorted"
      ]
    },
    {
      "cell_type": "code",
      "execution_count": null,
      "id": "8581585d",
      "metadata": {
        "id": "8581585d",
        "outputId": "3ab33451-7216-4b87-c9b1-934d9e6fbf71"
      },
      "outputs": [
        {
          "name": "stdout",
          "output_type": "stream",
          "text": [
            "There are 2215 different people/pages that posted on facebook in this dataset\n"
          ]
        }
      ],
      "source": [
        "print(f\"There are {len(df['by'].unique())} different people/pages that posted on facebook in this dataset\")"
      ]
    },
    {
      "cell_type": "code",
      "execution_count": null,
      "id": "08e94b5c",
      "metadata": {
        "id": "08e94b5c"
      },
      "outputs": [],
      "source": [
        "df['date'] = df['date'].dt.date"
      ]
    },
    {
      "cell_type": "code",
      "execution_count": null,
      "id": "c395f1fd",
      "metadata": {
        "id": "c395f1fd"
      },
      "outputs": [],
      "source": [
        "df['content'] = df['content'].str.lower()"
      ]
    },
    {
      "cell_type": "code",
      "execution_count": null,
      "id": "3f851a4a",
      "metadata": {
        "id": "3f851a4a",
        "outputId": "1391aa46-3532-4457-ba06-887611020229"
      },
      "outputs": [
        {
          "data": {
            "image/png": "[encoded data removed]",
            "text/plain": [
              "<Figure size 1000x600 with 4 Axes>"
            ]
          },
          "metadata": {},
          "output_type": "display_data"
        }
      ],
      "source": [
        "fig, axes = plt.subplots(nrows=2, ncols=2, figsize=(10, 6))\n",
        "plt.subplots_adjust(wspace=0.4, hspace=0.4)\n",
        "\n",
        "# Calculate quartiles\n",
        "q1 = reacts_sorted['interactions'].quantile(0.25)\n",
        "q2 = reacts_sorted['interactions'].quantile(0.5)\n",
        "q3 = reacts_sorted['interactions'].quantile(0.75)\n",
        "\n",
        "# Create boxplots for each quartile\n",
        "axes[0, 0].boxplot(reacts_sorted['interactions'][reacts_sorted['interactions'] <= q1])\n",
        "axes[0, 0].set_title('Quartile 1')\n",
        "axes[0, 1].boxplot(reacts_sorted['interactions'][(reacts_sorted['interactions'] > q1) & (reacts_sorted['interactions'] <= q2)])\n",
        "axes[0, 1].set_title('Quartile 2')\n",
        "axes[1, 0].boxplot(reacts_sorted['interactions'][(reacts_sorted['interactions'] > q2) & (reacts_sorted['interactions'] <= q3)])\n",
        "axes[1, 0].set_title('Quartile 3')\n",
        "axes[1, 1].boxplot(reacts_sorted['interactions'][reacts_sorted['interactions'] > q3])\n",
        "axes[1, 1].set_title('Quartile 4')\n",
        "\n",
        "# Set y-axis labels\n",
        "for ax in axes.flat:\n",
        "    ax.set_ylabel('Interactions')\n",
        "\n",
        "# Show the plot\n",
        "plt.show()"
      ]
    },
    {
      "cell_type": "code",
      "execution_count": null,
      "id": "2266d3af",
      "metadata": {
        "id": "2266d3af"
      },
      "outputs": [],
      "source": [
        "correlation_matrix = df[['likes', 'shares', 'loves',\n",
        "       'wows', 'hahas', 'sads', 'angrys']].corr()"
      ]
    },
    {
      "cell_type": "code",
      "execution_count": null,
      "id": "4fa99d4e",
      "metadata": {
        "id": "4fa99d4e",
        "outputId": "98f98468-295d-405a-a7f8-1ca007df16c8"
      },
      "outputs": [
        {
          "data": {
            "image/png": "[encoded data removed]",
            "text/plain": [
              "<Figure size 800x600 with 2 Axes>"
            ]
          },
          "metadata": {},
          "output_type": "display_data"
        }
      ],
      "source": [
        "sns.set(style='white')  # Set style\n",
        "plt.figure(figsize=(8, 6))  # Set figure size\n",
        "\n",
        "# Create a heatmap\n",
        "sns.heatmap(correlation_matrix, annot=True, cmap='coolwarm', center=0)\n",
        "\n",
        "plt.title('Correlation Matrix')\n",
        "plt.show()"
      ]
    },
    {
      "cell_type": "code",
      "execution_count": null,
      "id": "8c633184",
      "metadata": {
        "scrolled": false,
        "id": "8c633184",
        "outputId": "6f470b74-e341-4d76-a097-94bf1ff18f3a"
      },
      "outputs": [
        {
          "name": "stderr",
          "output_type": "stream",
          "text": [
            "[nltk_data] Downloading package stopwords to\n",
            "[nltk_data]     C:\\Users\\macka\\AppData\\Roaming\\nltk_data...\n",
            "[nltk_data]   Package stopwords is already up-to-date!\n",
            "[nltk_data] Downloading package punkt to\n",
            "[nltk_data]     C:\\Users\\macka\\AppData\\Roaming\\nltk_data...\n",
            "[nltk_data]   Package punkt is already up-to-date!\n",
            "C:\\Users\\macka\\AppData\\Local\\Temp\\ipykernel_23252\\517759990.py:6: SettingWithCopyWarning: \n",
            "A value is trying to be set on a copy of a slice from a DataFrame\n",
            "\n",
            "See the caveats in the documentation: https://pandas.pydata.org/pandas-docs/stable/user_guide/indexing.html#returning-a-view-versus-a-copy\n",
            "  df['content'].loc[i] = unidecode(df['content'].loc[i])\n"
          ]
        }
      ],
      "source": [
        "from unidecode import unidecode\n",
        "nltk.download('stopwords')\n",
        "nltk.download('punkt')\n",
        "stop_words = set(stopwords.words('english'))\n",
        "for i in range(len(df['content'])):\n",
        "    df['content'].loc[i] = unidecode(df['content'].loc[i])"
      ]
    },
    {
      "cell_type": "code",
      "execution_count": null,
      "id": "1b426065",
      "metadata": {
        "id": "1b426065"
      },
      "outputs": [],
      "source": [
        "df['content'] = df['content'].apply(lambda text: ' '.join([word for word in word_tokenize(text) if word.lower() not in stop_words]))"
      ]
    },
    {
      "cell_type": "code",
      "execution_count": null,
      "id": "edd537f3",
      "metadata": {
        "scrolled": false,
        "id": "edd537f3",
        "outputId": "da4780a3-67b3-49f7-8fbd-3908441d6344"
      },
      "outputs": [
        {
          "data": {
            "text/html": [
              "<div>\n",
              "<style scoped>\n",
              "    .dataframe tbody tr th:only-of-type {\n",
              "        vertical-align: middle;\n",
              "    }\n",
              "\n",
              "    .dataframe tbody tr th {\n",
              "        vertical-align: top;\n",
              "    }\n",
              "\n",
              "    .dataframe thead th {\n",
              "        text-align: right;\n",
              "    }\n",
              "</style>\n",
              "<table border=\"1\" class=\"dataframe\">\n",
              "  <thead>\n",
              "    <tr style=\"text-align: right;\">\n",
              "      <th></th>\n",
              "      <th>content</th>\n",
              "      <th>from</th>\n",
              "      <th>date</th>\n",
              "      <th>by</th>\n",
              "      <th>comments</th>\n",
              "      <th>likes</th>\n",
              "      <th>shares</th>\n",
              "      <th>loves</th>\n",
              "      <th>wows</th>\n",
              "      <th>hahas</th>\n",
              "      <th>sads</th>\n",
              "      <th>angrys</th>\n",
              "      <th>interactions</th>\n",
              "    </tr>\n",
              "  </thead>\n",
              "  <tbody>\n",
              "    <tr>\n",
              "      <th>0</th>\n",
              "      <td>visit us https  asiatimescompremium content  h...</td>\n",
              "      <td>Asia Times</td>\n",
              "      <td>2022-12-22</td>\n",
              "      <td>Asia Times</td>\n",
              "      <td>0.0</td>\n",
              "      <td>4.0</td>\n",
              "      <td>1.0</td>\n",
              "      <td>0.0</td>\n",
              "      <td>0.0</td>\n",
              "      <td>0.0</td>\n",
              "      <td>0.0</td>\n",
              "      <td>0.0</td>\n",
              "      <td>5.0</td>\n",
              "    </tr>\n",
              "    <tr>\n",
              "      <th>1</th>\n",
              "      <td>capacity 68000 seats  al bayt stadium one stad...</td>\n",
              "      <td>HISTORY</td>\n",
              "      <td>2022-12-09</td>\n",
              "      <td>HISTORY</td>\n",
              "      <td>3.0</td>\n",
              "      <td>177.0</td>\n",
              "      <td>11.0</td>\n",
              "      <td>2.0</td>\n",
              "      <td>0.0</td>\n",
              "      <td>0.0</td>\n",
              "      <td>0.0</td>\n",
              "      <td>0.0</td>\n",
              "      <td>190.0</td>\n",
              "    </tr>\n",
              "    <tr>\n",
              "      <th>2</th>\n",
              "      <td>visit us https  asiatimescompremium content  h...</td>\n",
              "      <td>Asia Times</td>\n",
              "      <td>2022-11-16</td>\n",
              "      <td>Asia Times</td>\n",
              "      <td>0.0</td>\n",
              "      <td>5.0</td>\n",
              "      <td>0.0</td>\n",
              "      <td>1.0</td>\n",
              "      <td>0.0</td>\n",
              "      <td>1.0</td>\n",
              "      <td>0.0</td>\n",
              "      <td>0.0</td>\n",
              "      <td>7.0</td>\n",
              "    </tr>\n",
              "    <tr>\n",
              "      <th>3</th>\n",
              "      <td>game   argentina defeated defending champion  ...</td>\n",
              "      <td>Hisense</td>\n",
              "      <td>2022-12-19</td>\n",
              "      <td>Hisense</td>\n",
              "      <td>8.0</td>\n",
              "      <td>193.0</td>\n",
              "      <td>13.0</td>\n",
              "      <td>16.0</td>\n",
              "      <td>0.0</td>\n",
              "      <td>1.0</td>\n",
              "      <td>0.0</td>\n",
              "      <td>2.0</td>\n",
              "      <td>225.0</td>\n",
              "    </tr>\n",
              "    <tr>\n",
              "      <th>4</th>\n",
              "      <td>update  spain run riot costa rica go top qatar...</td>\n",
              "      <td>Daily Monitor</td>\n",
              "      <td>2022-11-24</td>\n",
              "      <td>Daily Monitor</td>\n",
              "      <td>13.0</td>\n",
              "      <td>228.0</td>\n",
              "      <td>2.0</td>\n",
              "      <td>3.0</td>\n",
              "      <td>6.0</td>\n",
              "      <td>2.0</td>\n",
              "      <td>0.0</td>\n",
              "      <td>0.0</td>\n",
              "      <td>241.0</td>\n",
              "    </tr>\n",
              "  </tbody>\n",
              "</table>\n",
              "</div>"
            ],
            "text/plain": [
              "                                             content           from  \\\n",
              "0  visit us https  asiatimescompremium content  h...     Asia Times   \n",
              "1  capacity 68000 seats  al bayt stadium one stad...        HISTORY   \n",
              "2  visit us https  asiatimescompremium content  h...     Asia Times   \n",
              "3  game   argentina defeated defending champion  ...        Hisense   \n",
              "4  update  spain run riot costa rica go top qatar...  Daily Monitor   \n",
              "\n",
              "         date             by  comments  likes  shares  loves  wows  hahas  \\\n",
              "0  2022-12-22     Asia Times       0.0    4.0     1.0    0.0   0.0    0.0   \n",
              "1  2022-12-09        HISTORY       3.0  177.0    11.0    2.0   0.0    0.0   \n",
              "2  2022-11-16     Asia Times       0.0    5.0     0.0    1.0   0.0    1.0   \n",
              "3  2022-12-19        Hisense       8.0  193.0    13.0   16.0   0.0    1.0   \n",
              "4  2022-11-24  Daily Monitor      13.0  228.0     2.0    3.0   6.0    2.0   \n",
              "\n",
              "   sads  angrys  interactions  \n",
              "0   0.0     0.0           5.0  \n",
              "1   0.0     0.0         190.0  \n",
              "2   0.0     0.0           7.0  \n",
              "3   0.0     2.0         225.0  \n",
              "4   0.0     0.0         241.0  "
            ]
          },
          "execution_count": 150,
          "metadata": {},
          "output_type": "execute_result"
        }
      ],
      "source": [
        "import re\n",
        "\n",
        "def remove_punctuation(text):\n",
        "    return re.sub(r'[^\\w\\s]', '', text)\n",
        "\n",
        "df['content'] = df['content'].apply(remove_punctuation)\n",
        "df.head()"
      ]
    },
    {
      "cell_type": "code",
      "execution_count": null,
      "id": "1b19bce0",
      "metadata": {
        "id": "1b19bce0"
      },
      "outputs": [],
      "source": [
        "players = pd.read_csv('player_shooting.csv')"
      ]
    },
    {
      "cell_type": "code",
      "execution_count": null,
      "id": "abacbf5f",
      "metadata": {
        "id": "abacbf5f"
      },
      "outputs": [],
      "source": [
        "players = players['player'].tolist()"
      ]
    },
    {
      "cell_type": "code",
      "execution_count": null,
      "id": "0478d87f",
      "metadata": {
        "id": "0478d87f"
      },
      "outputs": [],
      "source": [
        "surnames = [' '.join(names.split()[1:]) if len(names.split()) > 1 else names for names in players]\n",
        "surnames = [string.lower() for string in surnames]\n",
        "for i in range(len(surnames)):\n",
        "    surnames[i] = unidecode(surnames[i])"
      ]
    },
    {
      "cell_type": "code",
      "execution_count": null,
      "id": "a40a3e01",
      "metadata": {
        "id": "a40a3e01"
      },
      "outputs": [],
      "source": [
        "from collections import Counter"
      ]
    },
    {
      "cell_type": "code",
      "execution_count": null,
      "id": "e55dbfd0",
      "metadata": {
        "id": "e55dbfd0"
      },
      "outputs": [],
      "source": [
        "all_words = []\n",
        "for string in df['content']:\n",
        "    words = string.split()  # Split the string into words\n",
        "    all_words.extend(words)"
      ]
    },
    {
      "cell_type": "code",
      "execution_count": null,
      "id": "0921ae2c",
      "metadata": {
        "id": "0921ae2c"
      },
      "outputs": [],
      "source": [
        "word_counts = Counter(all_words)"
      ]
    },
    {
      "cell_type": "code",
      "execution_count": null,
      "id": "6731af9b",
      "metadata": {
        "id": "6731af9b"
      },
      "outputs": [],
      "source": [
        "num_of_featured = 40\n",
        "most_common = word_counts.most_common()[0:num_of_featured]\n",
        "word_mentions = []\n",
        "words = []\n",
        "for i in range(num_of_featured):\n",
        "    word_mentions.append(most_common[i][1])\n",
        "    words.append(most_common[i][0])"
      ]
    },
    {
      "cell_type": "code",
      "execution_count": null,
      "id": "eb259e3f",
      "metadata": {
        "id": "eb259e3f",
        "outputId": "616a0910-dc43-4518-bf6b-bba13c56a96a"
      },
      "outputs": [
        {
          "data": {
            "image/png": "[encoded data removed]",
            "text/plain": [
              "<Figure size 1600x600 with 1 Axes>"
            ]
          },
          "metadata": {},
          "output_type": "display_data"
        }
      ],
      "source": [
        "import matplotlib.pyplot as plt\n",
        "plt.style.use('ggplot')\n",
        "plt.figure(figsize=(16, 6))\n",
        "plt.bar(words, word_mentions, color = '#B6EADA', edgecolor='black', linewidth=1)\n",
        "plt.xlabel(\"Word\")\n",
        "plt.ylabel(\"Number of times mentioned\")\n",
        "plt.title(\"Number of times each word has been mentioned\")\n",
        "plt.xticks(rotation=90)\n",
        "plt.show()"
      ]
    },
    {
      "cell_type": "code",
      "execution_count": null,
      "id": "40509650",
      "metadata": {
        "id": "40509650",
        "outputId": "db6f4098-cd82-443d-95c9-a06d43d1c723"
      },
      "outputs": [
        {
          "name": "stdout",
          "output_type": "stream",
          "text": [
            "Most trending player: messi\n",
            "Number of mentions: 2518\n"
          ]
        }
      ],
      "source": [
        "sorted_surnames = sorted(surnames, key=lambda word: word_counts.get(word, 0), reverse=True)\n",
        "\n",
        "print(\"Most trending player:\", sorted_surnames[0])\n",
        "print(\"Number of mentions:\", word_counts[sorted_surnames[0]])"
      ]
    },
    {
      "cell_type": "code",
      "execution_count": null,
      "id": "b36e92c1",
      "metadata": {
        "id": "b36e92c1"
      },
      "outputs": [],
      "source": [
        "top_trenders = sorted_surnames[0:10]"
      ]
    },
    {
      "cell_type": "code",
      "execution_count": null,
      "id": "7b40c336",
      "metadata": {
        "id": "7b40c336"
      },
      "outputs": [],
      "source": [
        "name_mentions = []\n",
        "for i in range(10):\n",
        "    name_mentions.append(word_counts[sorted_surnames[i]])"
      ]
    },
    {
      "cell_type": "code",
      "execution_count": null,
      "id": "8c2d386d",
      "metadata": {
        "id": "8c2d386d",
        "outputId": "79162a06-372e-4a4b-80f5-8068782a12a1"
      },
      "outputs": [
        {
          "data": {
            "text/plain": [
              "[2518, 825, 616, 345, 324, 262, 199, 163, 163, 163]"
            ]
          },
          "execution_count": 162,
          "metadata": {},
          "output_type": "execute_result"
        }
      ],
      "source": [
        "name_mentions"
      ]
    },
    {
      "cell_type": "code",
      "execution_count": null,
      "id": "0a861f99",
      "metadata": {
        "id": "0a861f99",
        "outputId": "5a87e564-dd79-4c77-dc71-e9a7dec3f29d"
      },
      "outputs": [
        {
          "data": {
            "image/png": "[encoded data removed]",
            "text/plain": [
              "<Figure size 1300x600 with 1 Axes>"
            ]
          },
          "metadata": {},
          "output_type": "display_data"
        }
      ],
      "source": [
        "import matplotlib.pyplot as plt\n",
        "plt.figure(figsize=(13, 6))\n",
        "plt.bar(top_trenders, name_mentions)\n",
        "plt.xlabel(\"Player Last Name\")\n",
        "plt.ylabel(\"Number of times mentioned\")\n",
        "plt.show()"
      ]
    },
    {
      "cell_type": "code",
      "execution_count": null,
      "id": "106b9b14",
      "metadata": {
        "scrolled": true,
        "id": "106b9b14",
        "outputId": "0b9f10a1-993d-44c1-dc01-e44d971181b8"
      },
      "outputs": [
        {
          "data": {
            "text/plain": [
              "616"
            ]
          },
          "execution_count": 164,
          "metadata": {},
          "output_type": "execute_result"
        }
      ],
      "source": [
        "word_counts['mbappe']"
      ]
    },
    {
      "cell_type": "code",
      "execution_count": null,
      "id": "32f28684",
      "metadata": {
        "id": "32f28684",
        "outputId": "d318d2d3-6ad4-4959-f623-839b86569ae9"
      },
      "outputs": [
        {
          "data": {
            "text/plain": [
              "0"
            ]
          },
          "execution_count": 165,
          "metadata": {},
          "output_type": "execute_result"
        }
      ],
      "source": [
        "word_counts['mbappé']"
      ]
    },
    {
      "cell_type": "code",
      "execution_count": null,
      "id": "414bbe9e",
      "metadata": {
        "id": "414bbe9e"
      },
      "outputs": [],
      "source": [
        "df['date'] = pd.to_datetime(df['date'], format=\"%Y/%m/%d\")"
      ]
    },
    {
      "cell_type": "code",
      "execution_count": null,
      "id": "a50abf3e",
      "metadata": {
        "id": "a50abf3e"
      },
      "outputs": [],
      "source": [
        "facebook_pre = df[(df['date'] <= '2022-11-19')]\n",
        "facebook_during = df[(df['date'] >= '2022-11-20') & (df['date'] <= '2022-12-18')]\n",
        "facebook_post = df[(df['date'] >= '2022-12-19')]"
      ]
    },
    {
      "cell_type": "code",
      "execution_count": null,
      "id": "f02af8d0",
      "metadata": {
        "id": "f02af8d0"
      },
      "outputs": [],
      "source": [
        "all_words_pre = []\n",
        "for string in facebook_pre['content']:\n",
        "    words = string.split()  # Split the string into words\n",
        "    all_words_pre.extend(words)\n",
        "word_counts_pre = Counter(all_words_pre)\n",
        "sorted_surnames_pre = sorted(surnames, key=lambda word: word_counts_pre.get(word, 0), reverse=True)\n",
        "top_trenders_pre = sorted_surnames_pre[0:10]\n",
        "name_mentions_pre = []\n",
        "for i in range(10):\n",
        "    name_mentions_pre.append(word_counts_pre[sorted_surnames_pre[i]])"
      ]
    },
    {
      "cell_type": "code",
      "execution_count": null,
      "id": "33b70da4",
      "metadata": {
        "id": "33b70da4",
        "outputId": "879899d8-6edb-4e6f-eb70-10198b143d39"
      },
      "outputs": [
        {
          "data": {
            "image/png": "[encoded data removed]",
            "text/plain": [
              "<Figure size 1200x600 with 1 Axes>"
            ]
          },
          "metadata": {},
          "output_type": "display_data"
        }
      ],
      "source": [
        "import matplotlib.pyplot as plt\n",
        "plt.style.use('ggplot')\n",
        "plt.figure(figsize=(12, 6))\n",
        "plt.bar(top_trenders_pre, name_mentions_pre, color = '#B6EAFA', edgecolor='black', linewidth=1)\n",
        "plt.xlabel(\"Player Last Name\")\n",
        "plt.ylabel(\"Number of times mentioned\")\n",
        "plt.title(\"Before the World Cup\")\n",
        "plt.show()"
      ]
    },
    {
      "cell_type": "code",
      "execution_count": null,
      "id": "3aa2e685",
      "metadata": {
        "id": "3aa2e685"
      },
      "outputs": [],
      "source": [
        "all_words_during = []\n",
        "for string in facebook_during['content']:\n",
        "    words = string.split()  # Split the string into words\n",
        "    all_words_during.extend(words)\n",
        "word_counts_during = Counter(all_words_during)\n",
        "sorted_surnames_during = sorted(surnames, key=lambda word: word_counts_during.get(word, 0), reverse=True)\n",
        "top_trenders_during = sorted_surnames_during[0:10]\n",
        "name_mentions_during = []\n",
        "for i in range(10):\n",
        "    name_mentions_during.append(word_counts_during[sorted_surnames_during[i]])"
      ]
    },
    {
      "cell_type": "code",
      "execution_count": null,
      "id": "b097407f",
      "metadata": {
        "id": "b097407f",
        "outputId": "09d362b6-0112-4a2d-e53d-ed370b9a0401"
      },
      "outputs": [
        {
          "data": {
            "image/png": "[encoded data removed]",
            "text/plain": [
              "<Figure size 1200x600 with 1 Axes>"
            ]
          },
          "metadata": {},
          "output_type": "display_data"
        }
      ],
      "source": [
        "import matplotlib.pyplot as plt\n",
        "plt.figure(figsize=(12, 6))\n",
        "plt.bar(top_trenders_during, name_mentions_during, color = '#DDFFBB', edgecolor='black', linewidth=1)\n",
        "plt.xlabel(\"Player Last Name\")\n",
        "plt.ylabel(\"Number of times mentioned\")\n",
        "plt.title(\"During the World Cup\")\n",
        "plt.show()"
      ]
    },
    {
      "cell_type": "code",
      "execution_count": null,
      "id": "51014190",
      "metadata": {
        "id": "51014190"
      },
      "outputs": [],
      "source": [
        "all_words_post = []\n",
        "for string in facebook_post['content']:\n",
        "    words = string.split()  # Split the string into words\n",
        "    all_words_post.extend(words)\n",
        "word_counts_post = Counter(all_words_post)\n",
        "sorted_surnames_post = sorted(surnames, key=lambda word: word_counts_post.get(word, 0), reverse=True)\n",
        "top_trenders_post = sorted_surnames_post[0:10]\n",
        "name_mentions_post = []\n",
        "for i in range(10):\n",
        "    name_mentions_post.append(word_counts_post[sorted_surnames_post[i]])"
      ]
    },
    {
      "cell_type": "code",
      "execution_count": null,
      "id": "fb0ce690",
      "metadata": {
        "id": "fb0ce690",
        "outputId": "2ab09c1f-2d47-4139-a5ca-cd4cb35e985c"
      },
      "outputs": [
        {
          "data": {
            "image/png": "[encoded data removed]",
            "text/plain": [
              "<Figure size 1200x600 with 1 Axes>"
            ]
          },
          "metadata": {},
          "output_type": "display_data"
        }
      ],
      "source": [
        "import matplotlib.pyplot as plt\n",
        "plt.figure(figsize=(12, 6))\n",
        "plt.bar(top_trenders_post, name_mentions_post, color = '#FFD3A3', edgecolor='black', linewidth=1)\n",
        "plt.xlabel(\"Player Last Name\")\n",
        "plt.ylabel(\"Number of times mentioned\")\n",
        "plt.title(\"After the World Cup\")\n",
        "plt.show()"
      ]
    },
    {
      "cell_type": "code",
      "execution_count": null,
      "id": "11f02d25",
      "metadata": {
        "id": "11f02d25"
      },
      "outputs": [],
      "source": [
        "import nltk\n",
        "from nltk.sentiment.vader import SentimentIntensityAnalyzer\n",
        "\n",
        "sia = SentimentIntensityAnalyzer()\n",
        "\n",
        "# Example sentiment analysis\n",
        "sentiment_scores = df['content'].apply(lambda x: sia.polarity_scores(x))"
      ]
    },
    {
      "cell_type": "code",
      "execution_count": null,
      "id": "ffbe210a",
      "metadata": {
        "id": "ffbe210a",
        "outputId": "e8ea86af-4f1d-49c8-b999-49e52ec76f26"
      },
      "outputs": [
        {
          "name": "stdout",
          "output_type": "stream",
          "text": [
            "Out of all of posts, 11288 were positive, 5861 were negative, and 0 were nuetral.\n"
          ]
        },
        {
          "data": {
            "text/html": [
              "<div>\n",
              "<style scoped>\n",
              "    .dataframe tbody tr th:only-of-type {\n",
              "        vertical-align: middle;\n",
              "    }\n",
              "\n",
              "    .dataframe tbody tr th {\n",
              "        vertical-align: top;\n",
              "    }\n",
              "\n",
              "    .dataframe thead th {\n",
              "        text-align: right;\n",
              "    }\n",
              "</style>\n",
              "<table border=\"1\" class=\"dataframe\">\n",
              "  <thead>\n",
              "    <tr style=\"text-align: right;\">\n",
              "      <th></th>\n",
              "      <th>content</th>\n",
              "      <th>from</th>\n",
              "      <th>date</th>\n",
              "      <th>by</th>\n",
              "      <th>comments</th>\n",
              "      <th>likes</th>\n",
              "      <th>shares</th>\n",
              "      <th>loves</th>\n",
              "      <th>wows</th>\n",
              "      <th>hahas</th>\n",
              "      <th>sads</th>\n",
              "      <th>angrys</th>\n",
              "      <th>interactions</th>\n",
              "      <th>sentiment_score</th>\n",
              "      <th>sentiment_category</th>\n",
              "    </tr>\n",
              "  </thead>\n",
              "  <tbody>\n",
              "    <tr>\n",
              "      <th>0</th>\n",
              "      <td>visit us https  asiatimescompremium content  h...</td>\n",
              "      <td>Asia Times</td>\n",
              "      <td>2022-12-22</td>\n",
              "      <td>Asia Times</td>\n",
              "      <td>0.0</td>\n",
              "      <td>4.0</td>\n",
              "      <td>1.0</td>\n",
              "      <td>0.0</td>\n",
              "      <td>0.0</td>\n",
              "      <td>0.0</td>\n",
              "      <td>0.0</td>\n",
              "      <td>0.0</td>\n",
              "      <td>5.0</td>\n",
              "      <td>0.2023</td>\n",
              "      <td>pos</td>\n",
              "    </tr>\n",
              "    <tr>\n",
              "      <th>1</th>\n",
              "      <td>capacity 68000 seats  al bayt stadium one stad...</td>\n",
              "      <td>HISTORY</td>\n",
              "      <td>2022-12-09</td>\n",
              "      <td>HISTORY</td>\n",
              "      <td>3.0</td>\n",
              "      <td>177.0</td>\n",
              "      <td>11.0</td>\n",
              "      <td>2.0</td>\n",
              "      <td>0.0</td>\n",
              "      <td>0.0</td>\n",
              "      <td>0.0</td>\n",
              "      <td>0.0</td>\n",
              "      <td>190.0</td>\n",
              "      <td>0.9022</td>\n",
              "      <td>pos</td>\n",
              "    </tr>\n",
              "    <tr>\n",
              "      <th>2</th>\n",
              "      <td>visit us https  asiatimescompremium content  h...</td>\n",
              "      <td>Asia Times</td>\n",
              "      <td>2022-11-16</td>\n",
              "      <td>Asia Times</td>\n",
              "      <td>0.0</td>\n",
              "      <td>5.0</td>\n",
              "      <td>0.0</td>\n",
              "      <td>1.0</td>\n",
              "      <td>0.0</td>\n",
              "      <td>1.0</td>\n",
              "      <td>0.0</td>\n",
              "      <td>0.0</td>\n",
              "      <td>7.0</td>\n",
              "      <td>-0.4767</td>\n",
              "      <td>neg</td>\n",
              "    </tr>\n",
              "    <tr>\n",
              "      <th>3</th>\n",
              "      <td>game   argentina defeated defending champion  ...</td>\n",
              "      <td>Hisense</td>\n",
              "      <td>2022-12-19</td>\n",
              "      <td>Hisense</td>\n",
              "      <td>8.0</td>\n",
              "      <td>193.0</td>\n",
              "      <td>13.0</td>\n",
              "      <td>16.0</td>\n",
              "      <td>0.0</td>\n",
              "      <td>1.0</td>\n",
              "      <td>0.0</td>\n",
              "      <td>2.0</td>\n",
              "      <td>225.0</td>\n",
              "      <td>-0.2960</td>\n",
              "      <td>neg</td>\n",
              "    </tr>\n",
              "    <tr>\n",
              "      <th>4</th>\n",
              "      <td>update  spain run riot costa rica go top qatar...</td>\n",
              "      <td>Daily Monitor</td>\n",
              "      <td>2022-11-24</td>\n",
              "      <td>Daily Monitor</td>\n",
              "      <td>13.0</td>\n",
              "      <td>228.0</td>\n",
              "      <td>2.0</td>\n",
              "      <td>3.0</td>\n",
              "      <td>6.0</td>\n",
              "      <td>2.0</td>\n",
              "      <td>0.0</td>\n",
              "      <td>0.0</td>\n",
              "      <td>241.0</td>\n",
              "      <td>-0.4215</td>\n",
              "      <td>neg</td>\n",
              "    </tr>\n",
              "  </tbody>\n",
              "</table>\n",
              "</div>"
            ],
            "text/plain": [
              "                                             content           from  \\\n",
              "0  visit us https  asiatimescompremium content  h...     Asia Times   \n",
              "1  capacity 68000 seats  al bayt stadium one stad...        HISTORY   \n",
              "2  visit us https  asiatimescompremium content  h...     Asia Times   \n",
              "3  game   argentina defeated defending champion  ...        Hisense   \n",
              "4  update  spain run riot costa rica go top qatar...  Daily Monitor   \n",
              "\n",
              "        date             by  comments  likes  shares  loves  wows  hahas  \\\n",
              "0 2022-12-22     Asia Times       0.0    4.0     1.0    0.0   0.0    0.0   \n",
              "1 2022-12-09        HISTORY       3.0  177.0    11.0    2.0   0.0    0.0   \n",
              "2 2022-11-16     Asia Times       0.0    5.0     0.0    1.0   0.0    1.0   \n",
              "3 2022-12-19        Hisense       8.0  193.0    13.0   16.0   0.0    1.0   \n",
              "4 2022-11-24  Daily Monitor      13.0  228.0     2.0    3.0   6.0    2.0   \n",
              "\n",
              "   sads  angrys  interactions  sentiment_score sentiment_category  \n",
              "0   0.0     0.0           5.0           0.2023                pos  \n",
              "1   0.0     0.0         190.0           0.9022                pos  \n",
              "2   0.0     0.0           7.0          -0.4767                neg  \n",
              "3   0.0     2.0         225.0          -0.2960                neg  \n",
              "4   0.0     0.0         241.0          -0.4215                neg  "
            ]
          },
          "execution_count": 175,
          "metadata": {},
          "output_type": "execute_result"
        }
      ],
      "source": [
        "pos_sents = 0\n",
        "neg_sents = 0\n",
        "neut_sents = 0\n",
        "all_sent_scores = []\n",
        "sent_categ_totals = []\n",
        "for i in range(len(df)):\n",
        "    all_sent_scores.append(sentiment_scores[i]['compound'])\n",
        "    if sentiment_scores[i]['compound'] > 0.05:\n",
        "        pos_sents += 1\n",
        "        sent_categ_totals.append(\"pos\")\n",
        "    elif sentiment_scores[i]['compound'] < 0.05:\n",
        "        neg_sents += 1\n",
        "        sent_categ_totals.append(\"neg\")\n",
        "    else:\n",
        "        neut_sents += 1\n",
        "        sent_categ_totals.append(\"neut\")\n",
        "\n",
        "print(f\"Out of all of posts, {pos_sents} were positive, {neg_sents} were negative, and {neut_sents} were nuetral.\")\n",
        "df['sentiment_score'] = all_sent_scores\n",
        "df['sentiment_category'] = sent_categ_totals\n",
        "df.head()"
      ]
    },
    {
      "cell_type": "code",
      "execution_count": null,
      "id": "27c4516a",
      "metadata": {
        "scrolled": true,
        "id": "27c4516a",
        "outputId": "5fd11bf1-d316-433e-96ca-a0501fb7c4f1"
      },
      "outputs": [
        {
          "data": {
            "image/png": "[encoded data removed]",
            "text/plain": [
              "<Figure size 1200x600 with 1 Axes>"
            ]
          },
          "metadata": {},
          "output_type": "display_data"
        }
      ],
      "source": [
        "sentiment_results = [pos_sents, neg_sents, neut_sents]\n",
        "sentiment_categories = [\"Positive\", \"Negative\", \"Neutral\"]\n",
        "plt.figure(figsize=(12, 6))\n",
        "plt.bar(sentiment_categories, sentiment_results, color = '#FFD3A3', edgecolor='black', linewidth=1)\n",
        "# plt.xlabel(\"Player Last Name\")\n",
        "# plt.ylabel(\"Number of times mentioned\")\n",
        "# plt.title(\"After the World Cup\")\n",
        "plt.show()"
      ]
    },
    {
      "cell_type": "markdown",
      "id": "2aed207d",
      "metadata": {
        "id": "2aed207d"
      },
      "source": [
        "# Predictive Modelling"
      ]
    },
    {
      "cell_type": "markdown",
      "id": "63b3dbb8",
      "metadata": {
        "id": "63b3dbb8"
      },
      "source": [
        "## Regression"
      ]
    },
    {
      "cell_type": "markdown",
      "id": "21bc5d41",
      "metadata": {
        "id": "21bc5d41"
      },
      "source": [
        "#### Multivariate Linear Regression"
      ]
    },
    {
      "cell_type": "code",
      "execution_count": null,
      "id": "81f12db8",
      "metadata": {
        "id": "81f12db8"
      },
      "outputs": [],
      "source": [
        "import numpy as np\n",
        "import pandas as pd\n",
        "from sklearn.model_selection import train_test_split\n",
        "from sklearn.linear_model import LinearRegression\n",
        "from sklearn.metrics import r2_score\n",
        "from sklearn.ensemble import RandomForestRegressor\n",
        "from sklearn.ensemble import RandomForestClassifier\n",
        "from sklearn.neighbors import KNeighborsClassifier\n",
        "from sklearn.neighbors import KNeighborsRegressor\n",
        "from sklearn.metrics import accuracy_score"
      ]
    },
    {
      "cell_type": "code",
      "execution_count": null,
      "id": "09ec8b25",
      "metadata": {
        "id": "09ec8b25"
      },
      "outputs": [],
      "source": [
        "X = df[['comments', 'likes', 'shares', 'loves', 'wows', 'hahas', 'sads', 'angrys']]\n",
        "Y = df['sentiment_score']\n",
        "X_train, X_test, Y_train, Y_test = train_test_split(X, Y, test_size=0.2, random_state=42)"
      ]
    },
    {
      "cell_type": "code",
      "execution_count": null,
      "id": "220287c9",
      "metadata": {
        "id": "220287c9"
      },
      "outputs": [],
      "source": [
        "model = LinearRegression()\n",
        "model.fit(X_train, Y_train)\n",
        "\n",
        "Y_pred = model.predict(X_test)\n",
        "\n",
        "r2 = r2_score(Y_test, Y_pred)"
      ]
    },
    {
      "cell_type": "code",
      "execution_count": null,
      "id": "e60dff1b",
      "metadata": {
        "id": "e60dff1b",
        "outputId": "c372e8b6-6366-4a99-9b46-c182a69db9fb"
      },
      "outputs": [
        {
          "data": {
            "text/plain": [
              "-0.12368339139251283"
            ]
          },
          "execution_count": 180,
          "metadata": {},
          "output_type": "execute_result"
        }
      ],
      "source": [
        "r2"
      ]
    },
    {
      "cell_type": "code",
      "execution_count": null,
      "id": "07d87d28",
      "metadata": {
        "id": "07d87d28",
        "outputId": "b9294bda-9a03-4288-a7ba-28cf88a75039"
      },
      "outputs": [
        {
          "name": "stderr",
          "output_type": "stream",
          "text": [
            "C:\\Users\\macka\\AppData\\Local\\Programs\\Python\\Python311\\Lib\\site-packages\\sklearn\\base.py:439: UserWarning: X does not have valid feature names, but LinearRegression was fitted with feature names\n",
            "  warnings.warn(\n"
          ]
        },
        {
          "data": {
            "text/plain": [
              "array([-0.32453379])"
            ]
          },
          "execution_count": 181,
          "metadata": {},
          "output_type": "execute_result"
        }
      ],
      "source": [
        "model.predict([[1000,0,1000,0,1000,0,1000,1000]])"
      ]
    },
    {
      "cell_type": "code",
      "execution_count": null,
      "id": "1f87148c",
      "metadata": {
        "id": "1f87148c",
        "outputId": "9c650004-0a6b-43db-b617-743834d5f1ca"
      },
      "outputs": [
        {
          "name": "stdout",
          "output_type": "stream",
          "text": [
            "Coefficients: [-3.63801092e-05  1.87246837e-06  3.28999755e-05  5.26249367e-07\n",
            " -2.10250115e-04 -6.09928825e-08 -7.58237672e-05 -2.82405504e-04]\n"
          ]
        },
        {
          "data": {
            "image/png": "[encoded data removed]",
            "text/plain": [
              "<Figure size 1000x600 with 1 Axes>"
            ]
          },
          "metadata": {},
          "output_type": "display_data"
        }
      ],
      "source": [
        "print('Coefficients:', model.coef_)\n",
        "plt.figure(figsize=(10, 6))\n",
        "plt.bar(range(len(model.coef_)), model.coef_, tick_label=X_train.columns)\n",
        "plt.title(\"Feature Importances\")\n",
        "plt.xlabel(\"Features\")\n",
        "plt.ylabel(\"Importance\")\n",
        "plt.xticks(rotation=90)\n",
        "plt.show()"
      ]
    },
    {
      "cell_type": "markdown",
      "id": "3b696d34",
      "metadata": {
        "id": "3b696d34"
      },
      "source": [
        "### Random Forest Regression"
      ]
    },
    {
      "cell_type": "code",
      "execution_count": null,
      "id": "ada78f38",
      "metadata": {
        "id": "ada78f38",
        "outputId": "83cd428a-7cb1-455c-e73c-5910784e0725"
      },
      "outputs": [
        {
          "name": "stdout",
          "output_type": "stream",
          "text": [
            "R-squared: 0.08632653904106413\n"
          ]
        }
      ],
      "source": [
        "rf_model = RandomForestRegressor(n_estimators=100, random_state=42)\n",
        "rf_model.fit(X_train, Y_train)\n",
        "\n",
        "Y_pred = rf_model.predict(X_test)\n",
        "\n",
        "r2 = r2_score(Y_test, Y_pred)\n",
        "\n",
        "print(f'R-squared: {r2}')"
      ]
    },
    {
      "cell_type": "markdown",
      "id": "346226e1",
      "metadata": {
        "id": "346226e1"
      },
      "source": [
        "### KNN Regression"
      ]
    },
    {
      "cell_type": "code",
      "execution_count": null,
      "id": "75ec6ad1",
      "metadata": {
        "id": "75ec6ad1",
        "outputId": "34292d73-3185-4783-9d85-ab7559a7dc39"
      },
      "outputs": [
        {
          "name": "stdout",
          "output_type": "stream",
          "text": [
            "R-squared: 0.09431232423514557\n"
          ]
        }
      ],
      "source": [
        "knn_model = KNeighborsRegressor(n_neighbors=100)\n",
        "knn_model.fit(X_train, Y_train)\n",
        "\n",
        "Y_pred = knn_model.predict(X_test)\n",
        "\n",
        "r2 = r2_score(Y_test, Y_pred)\n",
        "\n",
        "print(f'R-squared: {r2}')"
      ]
    },
    {
      "cell_type": "markdown",
      "id": "cc03b42b",
      "metadata": {
        "id": "cc03b42b"
      },
      "source": [
        "## Classification"
      ]
    },
    {
      "cell_type": "code",
      "execution_count": null,
      "id": "69438639",
      "metadata": {
        "id": "69438639"
      },
      "outputs": [],
      "source": [
        "X = df[['comments', 'likes', 'shares', 'loves', 'wows', 'hahas', 'sads', 'angrys']]\n",
        "Y = df['sentiment_category']\n",
        "X_train, X_test, Y_train, Y_test = train_test_split(X, Y, test_size=0.2, random_state=42)"
      ]
    },
    {
      "cell_type": "markdown",
      "id": "3a4596ad",
      "metadata": {
        "id": "3a4596ad"
      },
      "source": [
        "### Random Forest Classification"
      ]
    },
    {
      "cell_type": "code",
      "execution_count": null,
      "id": "69ff073c",
      "metadata": {
        "scrolled": true,
        "id": "69ff073c",
        "outputId": "7a3f165a-1d34-4ec1-d62f-44fcbbd184c7"
      },
      "outputs": [
        {
          "name": "stdout",
          "output_type": "stream",
          "text": [
            "Accuracy: 0.6746355685131196\n"
          ]
        }
      ],
      "source": [
        "rf_model = RandomForestClassifier(n_estimators=200, random_state=42)\n",
        "rf_model.fit(X_train, Y_train)\n",
        "\n",
        "Y_pred = rf_model.predict(X_test)\n",
        "\n",
        "accuracy = accuracy_score(Y_test, Y_pred)\n",
        "\n",
        "print(f'Accuracy: {accuracy}')\n"
      ]
    },
    {
      "cell_type": "code",
      "execution_count": null,
      "id": "416dc3bb",
      "metadata": {
        "id": "416dc3bb",
        "outputId": "7c7ad8f1-164f-4064-d2b9-eaa291d87ab9"
      },
      "outputs": [
        {
          "name": "stdout",
          "output_type": "stream",
          "text": [
            "likes: 0.26538430092751153\n",
            "comments: 0.16236069410194975\n",
            "loves: 0.12493679347221384\n",
            "shares: 0.1168404888869452\n",
            "hahas: 0.11628441293949075\n",
            "sads: 0.08898233389290278\n",
            "wows: 0.06849491966217862\n",
            "angrys: 0.05671605611680751\n"
          ]
        },
        {
          "data": {
            "image/png": "[encoded data removed]",
            "text/plain": [
              "<Figure size 1000x600 with 1 Axes>"
            ]
          },
          "metadata": {},
          "output_type": "display_data"
        }
      ],
      "source": [
        "feature_importances = rf_model.feature_importances_\n",
        "feature_names = X_train.columns\n",
        "\n",
        "sorted_feature_indices = feature_importances.argsort()[::-1]\n",
        "sorted_feature_importances = feature_importances[sorted_feature_indices]\n",
        "sorted_feature_names = feature_names[sorted_feature_indices]\n",
        "\n",
        "for feature_name, feature_importance in zip(sorted_feature_names, sorted_feature_importances):\n",
        "    print(f\"{feature_name}: {feature_importance}\")\n",
        "\n",
        "plt.figure(figsize=(10, 6))\n",
        "plt.bar(range(len(sorted_feature_importances)), sorted_feature_importances, tick_label=sorted_feature_names)\n",
        "plt.title(\"Feature Importances\")\n",
        "plt.xlabel(\"Features\")\n",
        "plt.ylabel(\"Importance\")\n",
        "plt.xticks(rotation=90)\n",
        "plt.show()"
      ]
    },
    {
      "cell_type": "code",
      "execution_count": null,
      "id": "7b25cafa",
      "metadata": {
        "scrolled": false,
        "id": "7b25cafa",
        "outputId": "c45ef019-f03c-4e60-b713-494249934c01"
      },
      "outputs": [
        {
          "data": {
            "image/png": "[encoded data removed]",
            "text/plain": [
              "<Figure size 640x480 with 2 Axes>"
            ]
          },
          "metadata": {},
          "output_type": "display_data"
        }
      ],
      "source": [
        "from sklearn.metrics import confusion_matrix\n",
        "import seaborn as sns\n",
        "import matplotlib.pyplot as plt\n",
        "\n",
        "cm = confusion_matrix(Y_test, Y_pred)\n",
        "sns.heatmap(cm, annot=True, fmt='d')\n",
        "plt.xlabel('Predicted')\n",
        "plt.ylabel('Actual')\n",
        "plt.show()\n"
      ]
    },
    {
      "cell_type": "code",
      "execution_count": null,
      "id": "3f4b581a",
      "metadata": {
        "scrolled": true,
        "id": "3f4b581a",
        "outputId": "fc82e229-3cbf-47c3-bff9-cdd216e2c48d"
      },
      "outputs": [
        {
          "name": "stderr",
          "output_type": "stream",
          "text": [
            "C:\\Users\\macka\\AppData\\Local\\Programs\\Python\\Python311\\Lib\\site-packages\\sklearn\\base.py:439: UserWarning: X does not have valid feature names, but RandomForestClassifier was fitted with feature names\n",
            "  warnings.warn(\n"
          ]
        },
        {
          "data": {
            "text/plain": [
              "array(['neg'], dtype=object)"
            ]
          },
          "execution_count": 224,
          "metadata": {},
          "output_type": "execute_result"
        }
      ],
      "source": [
        "example_test = [[0,0,0,0,0,0,0,1]]\n",
        "rf_model.predict(example_test)"
      ]
    },
    {
      "cell_type": "code",
      "execution_count": null,
      "id": "e1dfa4c1",
      "metadata": {
        "scrolled": false,
        "id": "e1dfa4c1",
        "outputId": "dc8e6a53-0b4e-4d12-def0-b7f4a41f2d43"
      },
      "outputs": [
        {
          "data": {
            "text/html": [
              "<div>\n",
              "<style scoped>\n",
              "    .dataframe tbody tr th:only-of-type {\n",
              "        vertical-align: middle;\n",
              "    }\n",
              "\n",
              "    .dataframe tbody tr th {\n",
              "        vertical-align: top;\n",
              "    }\n",
              "\n",
              "    .dataframe thead th {\n",
              "        text-align: right;\n",
              "    }\n",
              "</style>\n",
              "<table border=\"1\" class=\"dataframe\">\n",
              "  <thead>\n",
              "    <tr style=\"text-align: right;\">\n",
              "      <th></th>\n",
              "      <th>comments</th>\n",
              "      <th>likes</th>\n",
              "      <th>shares</th>\n",
              "      <th>loves</th>\n",
              "      <th>wows</th>\n",
              "      <th>hahas</th>\n",
              "      <th>sads</th>\n",
              "      <th>angrys</th>\n",
              "    </tr>\n",
              "  </thead>\n",
              "  <tbody>\n",
              "    <tr>\n",
              "      <th>5761</th>\n",
              "      <td>4.0</td>\n",
              "      <td>824.0</td>\n",
              "      <td>0.0</td>\n",
              "      <td>7.0</td>\n",
              "      <td>0.0</td>\n",
              "      <td>1.0</td>\n",
              "      <td>0.0</td>\n",
              "      <td>0.0</td>\n",
              "    </tr>\n",
              "    <tr>\n",
              "      <th>11146</th>\n",
              "      <td>133.0</td>\n",
              "      <td>102.0</td>\n",
              "      <td>6.0</td>\n",
              "      <td>4.0</td>\n",
              "      <td>2.0</td>\n",
              "      <td>148.0</td>\n",
              "      <td>2.0</td>\n",
              "      <td>0.0</td>\n",
              "    </tr>\n",
              "    <tr>\n",
              "      <th>4634</th>\n",
              "      <td>11.0</td>\n",
              "      <td>68.0</td>\n",
              "      <td>1.0</td>\n",
              "      <td>1.0</td>\n",
              "      <td>0.0</td>\n",
              "      <td>2.0</td>\n",
              "      <td>0.0</td>\n",
              "      <td>0.0</td>\n",
              "    </tr>\n",
              "    <tr>\n",
              "      <th>4560</th>\n",
              "      <td>2.0</td>\n",
              "      <td>86.0</td>\n",
              "      <td>22.0</td>\n",
              "      <td>6.0</td>\n",
              "      <td>0.0</td>\n",
              "      <td>0.0</td>\n",
              "      <td>0.0</td>\n",
              "      <td>0.0</td>\n",
              "    </tr>\n",
              "    <tr>\n",
              "      <th>4990</th>\n",
              "      <td>3.0</td>\n",
              "      <td>123.0</td>\n",
              "      <td>2.0</td>\n",
              "      <td>2.0</td>\n",
              "      <td>0.0</td>\n",
              "      <td>1.0</td>\n",
              "      <td>0.0</td>\n",
              "      <td>0.0</td>\n",
              "    </tr>\n",
              "    <tr>\n",
              "      <th>...</th>\n",
              "      <td>...</td>\n",
              "      <td>...</td>\n",
              "      <td>...</td>\n",
              "      <td>...</td>\n",
              "      <td>...</td>\n",
              "      <td>...</td>\n",
              "      <td>...</td>\n",
              "      <td>...</td>\n",
              "    </tr>\n",
              "    <tr>\n",
              "      <th>1851</th>\n",
              "      <td>1.0</td>\n",
              "      <td>44.0</td>\n",
              "      <td>1.0</td>\n",
              "      <td>3.0</td>\n",
              "      <td>0.0</td>\n",
              "      <td>1.0</td>\n",
              "      <td>0.0</td>\n",
              "      <td>0.0</td>\n",
              "    </tr>\n",
              "    <tr>\n",
              "      <th>8760</th>\n",
              "      <td>3.0</td>\n",
              "      <td>5.0</td>\n",
              "      <td>0.0</td>\n",
              "      <td>0.0</td>\n",
              "      <td>0.0</td>\n",
              "      <td>0.0</td>\n",
              "      <td>0.0</td>\n",
              "      <td>0.0</td>\n",
              "    </tr>\n",
              "    <tr>\n",
              "      <th>11776</th>\n",
              "      <td>2.0</td>\n",
              "      <td>24.0</td>\n",
              "      <td>0.0</td>\n",
              "      <td>0.0</td>\n",
              "      <td>0.0</td>\n",
              "      <td>0.0</td>\n",
              "      <td>0.0</td>\n",
              "      <td>0.0</td>\n",
              "    </tr>\n",
              "    <tr>\n",
              "      <th>10189</th>\n",
              "      <td>16.0</td>\n",
              "      <td>18.0</td>\n",
              "      <td>4.0</td>\n",
              "      <td>0.0</td>\n",
              "      <td>14.0</td>\n",
              "      <td>1.0</td>\n",
              "      <td>98.0</td>\n",
              "      <td>0.0</td>\n",
              "    </tr>\n",
              "    <tr>\n",
              "      <th>14556</th>\n",
              "      <td>28.0</td>\n",
              "      <td>37.0</td>\n",
              "      <td>1.0</td>\n",
              "      <td>7.0</td>\n",
              "      <td>0.0</td>\n",
              "      <td>1.0</td>\n",
              "      <td>0.0</td>\n",
              "      <td>0.0</td>\n",
              "    </tr>\n",
              "  </tbody>\n",
              "</table>\n",
              "<p>3430 rows × 8 columns</p>\n",
              "</div>"
            ],
            "text/plain": [
              "       comments  likes  shares  loves  wows  hahas  sads  angrys\n",
              "5761        4.0  824.0     0.0    7.0   0.0    1.0   0.0     0.0\n",
              "11146     133.0  102.0     6.0    4.0   2.0  148.0   2.0     0.0\n",
              "4634       11.0   68.0     1.0    1.0   0.0    2.0   0.0     0.0\n",
              "4560        2.0   86.0    22.0    6.0   0.0    0.0   0.0     0.0\n",
              "4990        3.0  123.0     2.0    2.0   0.0    1.0   0.0     0.0\n",
              "...         ...    ...     ...    ...   ...    ...   ...     ...\n",
              "1851        1.0   44.0     1.0    3.0   0.0    1.0   0.0     0.0\n",
              "8760        3.0    5.0     0.0    0.0   0.0    0.0   0.0     0.0\n",
              "11776       2.0   24.0     0.0    0.0   0.0    0.0   0.0     0.0\n",
              "10189      16.0   18.0     4.0    0.0  14.0    1.0  98.0     0.0\n",
              "14556      28.0   37.0     1.0    7.0   0.0    1.0   0.0     0.0\n",
              "\n",
              "[3430 rows x 8 columns]"
            ]
          },
          "execution_count": 201,
          "metadata": {},
          "output_type": "execute_result"
        }
      ],
      "source": [
        "Y_pred[1]\n",
        "X_test"
      ]
    },
    {
      "cell_type": "code",
      "execution_count": null,
      "id": "58d62779",
      "metadata": {
        "id": "58d62779",
        "outputId": "349fcc15-58a1-4dcf-b096-664d8dd980f0"
      },
      "outputs": [
        {
          "data": {
            "text/plain": [
              "array(['pos', 'neg', 'pos', ..., 'pos', 'neg', 'pos'], dtype=object)"
            ]
          },
          "execution_count": 203,
          "metadata": {},
          "output_type": "execute_result"
        }
      ],
      "source": [
        "Y_pred"
      ]
    },
    {
      "cell_type": "code",
      "execution_count": null,
      "id": "07229896",
      "metadata": {
        "id": "07229896",
        "outputId": "5d0c4f09-8538-4b27-8782-a42ee8a9df43"
      },
      "outputs": [
        {
          "data": {
            "text/html": [
              "<div>\n",
              "<style scoped>\n",
              "    .dataframe tbody tr th:only-of-type {\n",
              "        vertical-align: middle;\n",
              "    }\n",
              "\n",
              "    .dataframe tbody tr th {\n",
              "        vertical-align: top;\n",
              "    }\n",
              "\n",
              "    .dataframe thead th {\n",
              "        text-align: right;\n",
              "    }\n",
              "</style>\n",
              "<table border=\"1\" class=\"dataframe\">\n",
              "  <thead>\n",
              "    <tr style=\"text-align: right;\">\n",
              "      <th></th>\n",
              "      <th>content</th>\n",
              "      <th>from</th>\n",
              "      <th>date</th>\n",
              "      <th>by</th>\n",
              "      <th>comments</th>\n",
              "      <th>likes</th>\n",
              "      <th>shares</th>\n",
              "      <th>loves</th>\n",
              "      <th>wows</th>\n",
              "      <th>hahas</th>\n",
              "      <th>sads</th>\n",
              "      <th>angrys</th>\n",
              "      <th>interactions</th>\n",
              "      <th>sentiment_score</th>\n",
              "      <th>sentiment_category</th>\n",
              "    </tr>\n",
              "  </thead>\n",
              "  <tbody>\n",
              "    <tr>\n",
              "      <th>0</th>\n",
              "      <td>visit us https  asiatimescompremium content  h...</td>\n",
              "      <td>Asia Times</td>\n",
              "      <td>2022-12-22</td>\n",
              "      <td>Asia Times</td>\n",
              "      <td>0.0</td>\n",
              "      <td>4.0</td>\n",
              "      <td>1.0</td>\n",
              "      <td>0.0</td>\n",
              "      <td>0.0</td>\n",
              "      <td>0.0</td>\n",
              "      <td>0.0</td>\n",
              "      <td>0.0</td>\n",
              "      <td>5.0</td>\n",
              "      <td>0.2023</td>\n",
              "      <td>pos</td>\n",
              "    </tr>\n",
              "    <tr>\n",
              "      <th>1</th>\n",
              "      <td>capacity 68000 seats  al bayt stadium one stad...</td>\n",
              "      <td>HISTORY</td>\n",
              "      <td>2022-12-09</td>\n",
              "      <td>HISTORY</td>\n",
              "      <td>3.0</td>\n",
              "      <td>177.0</td>\n",
              "      <td>11.0</td>\n",
              "      <td>2.0</td>\n",
              "      <td>0.0</td>\n",
              "      <td>0.0</td>\n",
              "      <td>0.0</td>\n",
              "      <td>0.0</td>\n",
              "      <td>190.0</td>\n",
              "      <td>0.9022</td>\n",
              "      <td>pos</td>\n",
              "    </tr>\n",
              "    <tr>\n",
              "      <th>2</th>\n",
              "      <td>visit us https  asiatimescompremium content  h...</td>\n",
              "      <td>Asia Times</td>\n",
              "      <td>2022-11-16</td>\n",
              "      <td>Asia Times</td>\n",
              "      <td>0.0</td>\n",
              "      <td>5.0</td>\n",
              "      <td>0.0</td>\n",
              "      <td>1.0</td>\n",
              "      <td>0.0</td>\n",
              "      <td>1.0</td>\n",
              "      <td>0.0</td>\n",
              "      <td>0.0</td>\n",
              "      <td>7.0</td>\n",
              "      <td>-0.4767</td>\n",
              "      <td>neg</td>\n",
              "    </tr>\n",
              "    <tr>\n",
              "      <th>3</th>\n",
              "      <td>game   argentina defeated defending champion  ...</td>\n",
              "      <td>Hisense</td>\n",
              "      <td>2022-12-19</td>\n",
              "      <td>Hisense</td>\n",
              "      <td>8.0</td>\n",
              "      <td>193.0</td>\n",
              "      <td>13.0</td>\n",
              "      <td>16.0</td>\n",
              "      <td>0.0</td>\n",
              "      <td>1.0</td>\n",
              "      <td>0.0</td>\n",
              "      <td>2.0</td>\n",
              "      <td>225.0</td>\n",
              "      <td>-0.2960</td>\n",
              "      <td>neg</td>\n",
              "    </tr>\n",
              "    <tr>\n",
              "      <th>4</th>\n",
              "      <td>update  spain run riot costa rica go top qatar...</td>\n",
              "      <td>Daily Monitor</td>\n",
              "      <td>2022-11-24</td>\n",
              "      <td>Daily Monitor</td>\n",
              "      <td>13.0</td>\n",
              "      <td>228.0</td>\n",
              "      <td>2.0</td>\n",
              "      <td>3.0</td>\n",
              "      <td>6.0</td>\n",
              "      <td>2.0</td>\n",
              "      <td>0.0</td>\n",
              "      <td>0.0</td>\n",
              "      <td>241.0</td>\n",
              "      <td>-0.4215</td>\n",
              "      <td>neg</td>\n",
              "    </tr>\n",
              "    <tr>\n",
              "      <th>...</th>\n",
              "      <td>...</td>\n",
              "      <td>...</td>\n",
              "      <td>...</td>\n",
              "      <td>...</td>\n",
              "      <td>...</td>\n",
              "      <td>...</td>\n",
              "      <td>...</td>\n",
              "      <td>...</td>\n",
              "      <td>...</td>\n",
              "      <td>...</td>\n",
              "      <td>...</td>\n",
              "      <td>...</td>\n",
              "      <td>...</td>\n",
              "      <td>...</td>\n",
              "      <td>...</td>\n",
              "    </tr>\n",
              "    <tr>\n",
              "      <th>17144</th>\n",
              "      <td>via el pais english edition  fifa s referees c...</td>\n",
              "      <td>EL PAÍS México</td>\n",
              "      <td>2022-11-23</td>\n",
              "      <td>EL PAÍS México</td>\n",
              "      <td>0.0</td>\n",
              "      <td>1.0</td>\n",
              "      <td>0.0</td>\n",
              "      <td>0.0</td>\n",
              "      <td>0.0</td>\n",
              "      <td>0.0</td>\n",
              "      <td>0.0</td>\n",
              "      <td>0.0</td>\n",
              "      <td>1.0</td>\n",
              "      <td>0.9313</td>\n",
              "      <td>pos</td>\n",
              "    </tr>\n",
              "    <tr>\n",
              "      <th>17145</th>\n",
              "      <td>two weeks  fifa president gianni infantino tak...</td>\n",
              "      <td>EL PAÍS México</td>\n",
              "      <td>2022-11-12</td>\n",
              "      <td>EL PAÍS México</td>\n",
              "      <td>0.0</td>\n",
              "      <td>1.0</td>\n",
              "      <td>0.0</td>\n",
              "      <td>0.0</td>\n",
              "      <td>0.0</td>\n",
              "      <td>0.0</td>\n",
              "      <td>0.0</td>\n",
              "      <td>0.0</td>\n",
              "      <td>1.0</td>\n",
              "      <td>-0.5574</td>\n",
              "      <td>neg</td>\n",
              "    </tr>\n",
              "    <tr>\n",
              "      <th>17146</th>\n",
              "      <td>escucha en apple music  hayya hayya  better to...</td>\n",
              "      <td>MacStore México</td>\n",
              "      <td>2022-11-29</td>\n",
              "      <td>MacStore México</td>\n",
              "      <td>7.0</td>\n",
              "      <td>4.0</td>\n",
              "      <td>0.0</td>\n",
              "      <td>2.0</td>\n",
              "      <td>0.0</td>\n",
              "      <td>0.0</td>\n",
              "      <td>0.0</td>\n",
              "      <td>6.0</td>\n",
              "      <td>12.0</td>\n",
              "      <td>0.8020</td>\n",
              "      <td>pos</td>\n",
              "    </tr>\n",
              "    <tr>\n",
              "      <th>17147</th>\n",
              "      <td>un xi alternativo que podra estar en qatar 202...</td>\n",
              "      <td>TUDN MEX</td>\n",
              "      <td>2022-11-18</td>\n",
              "      <td>TUDN MEX</td>\n",
              "      <td>1831.0</td>\n",
              "      <td>4190.0</td>\n",
              "      <td>521.0</td>\n",
              "      <td>765.0</td>\n",
              "      <td>46.0</td>\n",
              "      <td>256.0</td>\n",
              "      <td>2233.0</td>\n",
              "      <td>64.0</td>\n",
              "      <td>8075.0</td>\n",
              "      <td>0.0000</td>\n",
              "      <td>neg</td>\n",
              "    </tr>\n",
              "    <tr>\n",
              "      <th>17148</th>\n",
              "      <td>qatar university announced would transfer roo...</td>\n",
              "      <td>TUDN USA</td>\n",
              "      <td>2022-12-29</td>\n",
              "      <td>TUDN USA</td>\n",
              "      <td>43.0</td>\n",
              "      <td>111.0</td>\n",
              "      <td>4.0</td>\n",
              "      <td>17.0</td>\n",
              "      <td>2.0</td>\n",
              "      <td>54.0</td>\n",
              "      <td>0.0</td>\n",
              "      <td>0.0</td>\n",
              "      <td>188.0</td>\n",
              "      <td>0.5994</td>\n",
              "      <td>pos</td>\n",
              "    </tr>\n",
              "  </tbody>\n",
              "</table>\n",
              "<p>17149 rows × 15 columns</p>\n",
              "</div>"
            ],
            "text/plain": [
              "                                                 content             from  \\\n",
              "0      visit us https  asiatimescompremium content  h...       Asia Times   \n",
              "1      capacity 68000 seats  al bayt stadium one stad...          HISTORY   \n",
              "2      visit us https  asiatimescompremium content  h...       Asia Times   \n",
              "3      game   argentina defeated defending champion  ...          Hisense   \n",
              "4      update  spain run riot costa rica go top qatar...    Daily Monitor   \n",
              "...                                                  ...              ...   \n",
              "17144  via el pais english edition  fifa s referees c...   EL PAÍS México   \n",
              "17145  two weeks  fifa president gianni infantino tak...   EL PAÍS México   \n",
              "17146  escucha en apple music  hayya hayya  better to...  MacStore México   \n",
              "17147  un xi alternativo que podra estar en qatar 202...         TUDN MEX   \n",
              "17148   qatar university announced would transfer roo...         TUDN USA   \n",
              "\n",
              "            date               by  comments   likes  shares  loves  wows  \\\n",
              "0     2022-12-22       Asia Times       0.0     4.0     1.0    0.0   0.0   \n",
              "1     2022-12-09          HISTORY       3.0   177.0    11.0    2.0   0.0   \n",
              "2     2022-11-16       Asia Times       0.0     5.0     0.0    1.0   0.0   \n",
              "3     2022-12-19          Hisense       8.0   193.0    13.0   16.0   0.0   \n",
              "4     2022-11-24    Daily Monitor      13.0   228.0     2.0    3.0   6.0   \n",
              "...          ...              ...       ...     ...     ...    ...   ...   \n",
              "17144 2022-11-23   EL PAÍS México       0.0     1.0     0.0    0.0   0.0   \n",
              "17145 2022-11-12   EL PAÍS México       0.0     1.0     0.0    0.0   0.0   \n",
              "17146 2022-11-29  MacStore México       7.0     4.0     0.0    2.0   0.0   \n",
              "17147 2022-11-18         TUDN MEX    1831.0  4190.0   521.0  765.0  46.0   \n",
              "17148 2022-12-29         TUDN USA      43.0   111.0     4.0   17.0   2.0   \n",
              "\n",
              "       hahas    sads  angrys  interactions  sentiment_score sentiment_category  \n",
              "0        0.0     0.0     0.0           5.0           0.2023                pos  \n",
              "1        0.0     0.0     0.0         190.0           0.9022                pos  \n",
              "2        1.0     0.0     0.0           7.0          -0.4767                neg  \n",
              "3        1.0     0.0     2.0         225.0          -0.2960                neg  \n",
              "4        2.0     0.0     0.0         241.0          -0.4215                neg  \n",
              "...      ...     ...     ...           ...              ...                ...  \n",
              "17144    0.0     0.0     0.0           1.0           0.9313                pos  \n",
              "17145    0.0     0.0     0.0           1.0          -0.5574                neg  \n",
              "17146    0.0     0.0     6.0          12.0           0.8020                pos  \n",
              "17147  256.0  2233.0    64.0        8075.0           0.0000                neg  \n",
              "17148   54.0     0.0     0.0         188.0           0.5994                pos  \n",
              "\n",
              "[17149 rows x 15 columns]"
            ]
          },
          "execution_count": 192,
          "metadata": {},
          "output_type": "execute_result"
        }
      ],
      "source": [
        "df"
      ]
    },
    {
      "cell_type": "markdown",
      "id": "95341426",
      "metadata": {
        "id": "95341426"
      },
      "source": [
        "### KNN Classification"
      ]
    },
    {
      "cell_type": "code",
      "execution_count": null,
      "id": "522d3fec",
      "metadata": {
        "id": "522d3fec",
        "outputId": "712b4aea-2c42-4350-f76b-66f47faa11d7"
      },
      "outputs": [
        {
          "name": "stdout",
          "output_type": "stream",
          "text": [
            "Accuracy: 0.673469387755102\n"
          ]
        }
      ],
      "source": [
        "knn_model = KNeighborsClassifier(n_neighbors=52)\n",
        "knn_model.fit(X_train, Y_train)\n",
        "\n",
        "Y_pred = knn_model.predict(X_test)\n",
        "\n",
        "accuracy = accuracy_score(Y_test, Y_pred)\n",
        "\n",
        "print(f'Accuracy: {accuracy}')"
      ]
    },
    {
      "cell_type": "code",
      "execution_count": null,
      "id": "0028fea5",
      "metadata": {
        "id": "0028fea5"
      },
      "outputs": [],
      "source": []
    }
  ],
  "metadata": {
    "kernelspec": {
      "display_name": "Python 3 (ipykernel)",
      "language": "python",
      "name": "python3"
    },
    "language_info": {
      "codemirror_mode": {
        "name": "ipython",
        "version": 3
      },
      "file_extension": ".py",
      "mimetype": "text/x-python",
      "name": "python",
      "nbconvert_exporter": "python",
      "pygments_lexer": "ipython3",
      "version": "3.11.2"
    },
    "colab": {
      "provenance": [],
      "include_colab_link": true
    }
  },
  "nbformat": 4,
  "nbformat_minor": 5
}