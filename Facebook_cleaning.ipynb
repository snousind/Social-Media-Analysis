{
  "cells": [
    {
      "cell_type": "markdown",
      "metadata": {
        "id": "view-in-github",
        "colab_type": "text"
      },
      "source": [
        "<a href=\"https://colab.research.google.com/github/snousind/Social-Media-Analysis/blob/Facebook/Facebook_cleaning.ipynb\" target=\"_parent\"><img src=\"https://colab.research.google.com/assets/colab-badge.svg\" alt=\"Open In Colab\"/></a>"
      ]
    },
    {
      "cell_type": "code",
      "execution_count": null,
      "id": "297e4264",
      "metadata": {
        "id": "297e4264"
      },
      "outputs": [],
      "source": [
        "import pandas as pd\n",
        "import numpy as np\n",
        "import matplotlib.pyplot as plt\n",
        "import seaborn as sns\n",
        "import nltk\n",
        "from nltk.corpus import stopwords\n",
        "from nltk.tokenize import word_tokenize"
      ]
    },
    {
      "cell_type": "code",
      "execution_count": null,
      "id": "5854680b",
      "metadata": {
        "id": "5854680b"
      },
      "outputs": [],
      "source": [
        "df = pd.read_excel('facebook.xlsx')"
      ]
    },
    {
      "cell_type": "code",
      "execution_count": null,
      "id": "daca701f",
      "metadata": {
        "id": "daca701f",
        "outputId": "761dd04f-da0f-448e-ab6f-9bf8bb473073"
      },
      "outputs": [
        {
          "data": {
            "text/plain": [
              "0"
            ]
          },
          "execution_count": 4,
          "metadata": {},
          "output_type": "execute_result"
        }
      ],
      "source": [
        "df.duplicated().sum()"
      ]
    },
    {
      "cell_type": "code",
      "execution_count": null,
      "id": "278f9630",
      "metadata": {
        "id": "278f9630"
      },
      "outputs": [],
      "source": [
        "df = df.drop(['title', 'in', 'images', 'url', 'hits', 'supports', 'byImageUrl', 'thankfuls'], axis=1)"
      ]
    },
    {
      "cell_type": "code",
      "execution_count": null,
      "id": "d2204913",
      "metadata": {
        "id": "d2204913"
      },
      "outputs": [],
      "source": [
        "df = df.drop([17151,17150,17149])"
      ]
    },
    {
      "cell_type": "code",
      "execution_count": null,
      "id": "774367f0",
      "metadata": {
        "id": "774367f0",
        "outputId": "2761f7c0-3531-4814-d3a3-8b7303c25734"
      },
      "outputs": [
        {
          "data": {
            "text/plain": [
              "content     0\n",
              "from        0\n",
              "date        0\n",
              "by          0\n",
              "comments    0\n",
              "likes       0\n",
              "shares      0\n",
              "loves       0\n",
              "wows        0\n",
              "hahas       0\n",
              "sads        0\n",
              "angrys      0\n",
              "dtype: int64"
            ]
          },
          "execution_count": 7,
          "metadata": {},
          "output_type": "execute_result"
        }
      ],
      "source": [
        "df.isna().sum()"
      ]
    },
    {
      "cell_type": "code",
      "execution_count": null,
      "id": "1b2b20d2",
      "metadata": {
        "scrolled": false,
        "id": "1b2b20d2",
        "outputId": "41132715-dc3b-4714-a4be-ab2f72936a13"
      },
      "outputs": [
        {
          "data": {
            "text/plain": [
              "content             object\n",
              "from                object\n",
              "date        datetime64[ns]\n",
              "by                  object\n",
              "comments           float64\n",
              "likes              float64\n",
              "shares             float64\n",
              "loves              float64\n",
              "wows               float64\n",
              "hahas              float64\n",
              "sads               float64\n",
              "angrys             float64\n",
              "dtype: object"
            ]
          },
          "execution_count": 8,
          "metadata": {},
          "output_type": "execute_result"
        }
      ],
      "source": [
        "df.dtypes"
      ]
    },
    {
      "cell_type": "code",
      "execution_count": null,
      "id": "358e344c",
      "metadata": {
        "id": "358e344c",
        "outputId": "a1ebe678-a3a1-4d03-e1d7-c693bf122953"
      },
      "outputs": [
        {
          "data": {
            "text/plain": [
              "Index(['content', 'from', 'date', 'by', 'comments', 'likes', 'shares', 'loves',\n",
              "       'wows', 'hahas', 'sads', 'angrys'],\n",
              "      dtype='object')"
            ]
          },
          "execution_count": 9,
          "metadata": {},
          "output_type": "execute_result"
        }
      ],
      "source": [
        "df.columns"
      ]
    },
    {
      "cell_type": "code",
      "execution_count": null,
      "id": "6fd83c14",
      "metadata": {
        "id": "6fd83c14"
      },
      "outputs": [],
      "source": [
        "columns_aggr = ['likes', 'shares', 'loves',\n",
        "       'wows', 'hahas', 'sads', 'angrys']\n",
        "\n",
        "# Create a new column with the sum of selected columns\n",
        "df['interactions'] = df[columns_aggr].sum(axis=1)"
      ]
    },
    {
      "cell_type": "code",
      "execution_count": null,
      "id": "b4e792e1",
      "metadata": {
        "id": "b4e792e1"
      },
      "outputs": [],
      "source": [
        "reacts_sorted = df.sort_values(by='interactions', ascending = False)"
      ]
    },
    {
      "cell_type": "code",
      "execution_count": null,
      "id": "da24c180",
      "metadata": {
        "id": "da24c180",
        "outputId": "f9e1abd5-af81-4d54-a02c-651788291e2d"
      },
      "outputs": [
        {
          "data": {
            "text/html": [
              "<div>\n",
              "<style scoped>\n",
              "    .dataframe tbody tr th:only-of-type {\n",
              "        vertical-align: middle;\n",
              "    }\n",
              "\n",
              "    .dataframe tbody tr th {\n",
              "        vertical-align: top;\n",
              "    }\n",
              "\n",
              "    .dataframe thead th {\n",
              "        text-align: right;\n",
              "    }\n",
              "</style>\n",
              "<table border=\"1\" class=\"dataframe\">\n",
              "  <thead>\n",
              "    <tr style=\"text-align: right;\">\n",
              "      <th></th>\n",
              "      <th>content</th>\n",
              "      <th>from</th>\n",
              "      <th>date</th>\n",
              "      <th>by</th>\n",
              "      <th>comments</th>\n",
              "      <th>likes</th>\n",
              "      <th>shares</th>\n",
              "      <th>loves</th>\n",
              "      <th>wows</th>\n",
              "      <th>hahas</th>\n",
              "      <th>sads</th>\n",
              "      <th>angrys</th>\n",
              "      <th>interactions</th>\n",
              "    </tr>\n",
              "  </thead>\n",
              "  <tbody>\n",
              "    <tr>\n",
              "      <th>9286</th>\n",
              "      <td>We've had some special opening ceremonies �Can...</td>\n",
              "      <td>FIFA World Cup</td>\n",
              "      <td>2022-11-20 03:21:32</td>\n",
              "      <td>FIFA World Cup</td>\n",
              "      <td>48691.0</td>\n",
              "      <td>3656165.0</td>\n",
              "      <td>339926.0</td>\n",
              "      <td>1167869.0</td>\n",
              "      <td>14544.0</td>\n",
              "      <td>12343.0</td>\n",
              "      <td>2212.0</td>\n",
              "      <td>3738.0</td>\n",
              "      <td>5196797.0</td>\n",
              "    </tr>\n",
              "    <tr>\n",
              "      <th>10999</th>\n",
              "      <td>Can't wait for this great World Cup semi-final...</td>\n",
              "      <td>Mesut Özil</td>\n",
              "      <td>2022-12-15 02:20:37</td>\n",
              "      <td>Mesut Özil</td>\n",
              "      <td>54445.0</td>\n",
              "      <td>1779102.0</td>\n",
              "      <td>29761.0</td>\n",
              "      <td>868409.0</td>\n",
              "      <td>1603.0</td>\n",
              "      <td>6512.0</td>\n",
              "      <td>1727.0</td>\n",
              "      <td>392.0</td>\n",
              "      <td>2687506.0</td>\n",
              "    </tr>\n",
              "    <tr>\n",
              "      <th>14934</th>\n",
              "      <td>Son muchos los recuerdos, buenos momentos y no...</td>\n",
              "      <td>Leo Messi</td>\n",
              "      <td>2022-11-22 04:06:08</td>\n",
              "      <td>Leo Messi</td>\n",
              "      <td>65977.0</td>\n",
              "      <td>527424.0</td>\n",
              "      <td>36493.0</td>\n",
              "      <td>513938.0</td>\n",
              "      <td>681.0</td>\n",
              "      <td>4366.0</td>\n",
              "      <td>802.0</td>\n",
              "      <td>217.0</td>\n",
              "      <td>1083921.0</td>\n",
              "    </tr>\n",
              "    <tr>\n",
              "      <th>10461</th>\n",
              "      <td>World Cup final � @cruzbeckhamRoad to 2022 #fi...</td>\n",
              "      <td>David Beckham</td>\n",
              "      <td>2022-12-18 23:07:03</td>\n",
              "      <td>David Beckham</td>\n",
              "      <td>7642.0</td>\n",
              "      <td>814887.0</td>\n",
              "      <td>6148.0</td>\n",
              "      <td>177540.0</td>\n",
              "      <td>679.0</td>\n",
              "      <td>514.0</td>\n",
              "      <td>60.0</td>\n",
              "      <td>153.0</td>\n",
              "      <td>999981.0</td>\n",
              "    </tr>\n",
              "    <tr>\n",
              "      <th>7237</th>\n",
              "      <td>Thank you for an unforgettable visit and a Wor...</td>\n",
              "      <td>Zlatan Ibrahimović</td>\n",
              "      <td>2022-12-22 00:08:16</td>\n",
              "      <td>Zlatan Ibrahimović</td>\n",
              "      <td>10244.0</td>\n",
              "      <td>713547.0</td>\n",
              "      <td>3239.0</td>\n",
              "      <td>166533.0</td>\n",
              "      <td>529.0</td>\n",
              "      <td>1429.0</td>\n",
              "      <td>99.0</td>\n",
              "      <td>253.0</td>\n",
              "      <td>885629.0</td>\n",
              "    </tr>\n",
              "  </tbody>\n",
              "</table>\n",
              "</div>"
            ],
            "text/plain": [
              "                                                 content                from  \\\n",
              "9286   We've had some special opening ceremonies �Can...      FIFA World Cup   \n",
              "10999  Can't wait for this great World Cup semi-final...          Mesut Özil   \n",
              "14934  Son muchos los recuerdos, buenos momentos y no...           Leo Messi   \n",
              "10461  World Cup final � @cruzbeckhamRoad to 2022 #fi...       David Beckham   \n",
              "7237   Thank you for an unforgettable visit and a Wor...  Zlatan Ibrahimović   \n",
              "\n",
              "                     date                  by  comments      likes    shares  \\\n",
              "9286  2022-11-20 03:21:32      FIFA World Cup   48691.0  3656165.0  339926.0   \n",
              "10999 2022-12-15 02:20:37          Mesut Özil   54445.0  1779102.0   29761.0   \n",
              "14934 2022-11-22 04:06:08           Leo Messi   65977.0   527424.0   36493.0   \n",
              "10461 2022-12-18 23:07:03       David Beckham    7642.0   814887.0    6148.0   \n",
              "7237  2022-12-22 00:08:16  Zlatan Ibrahimović   10244.0   713547.0    3239.0   \n",
              "\n",
              "           loves     wows    hahas    sads  angrys  interactions  \n",
              "9286   1167869.0  14544.0  12343.0  2212.0  3738.0     5196797.0  \n",
              "10999   868409.0   1603.0   6512.0  1727.0   392.0     2687506.0  \n",
              "14934   513938.0    681.0   4366.0   802.0   217.0     1083921.0  \n",
              "10461   177540.0    679.0    514.0    60.0   153.0      999981.0  \n",
              "7237    166533.0    529.0   1429.0    99.0   253.0      885629.0  "
            ]
          },
          "execution_count": 12,
          "metadata": {},
          "output_type": "execute_result"
        }
      ],
      "source": [
        "reacts_sorted.head()"
      ]
    },
    {
      "cell_type": "code",
      "execution_count": null,
      "id": "8581585d",
      "metadata": {
        "id": "8581585d",
        "outputId": "499891c2-5747-459a-832e-f527a22798e4"
      },
      "outputs": [
        {
          "name": "stdout",
          "output_type": "stream",
          "text": [
            "There are 2215 different people/pages that posted on facebook in this dataset\n"
          ]
        }
      ],
      "source": [
        "print(f\"There are {len(df['by'].unique())} different people/pages that posted on facebook in this dataset\")"
      ]
    },
    {
      "cell_type": "code",
      "execution_count": null,
      "id": "08e94b5c",
      "metadata": {
        "id": "08e94b5c"
      },
      "outputs": [],
      "source": [
        "df['date'] = df['date'].dt.date"
      ]
    },
    {
      "cell_type": "code",
      "execution_count": null,
      "id": "c395f1fd",
      "metadata": {
        "id": "c395f1fd"
      },
      "outputs": [],
      "source": [
        "df['content'] = df['content'].str.lower()"
      ]
    },
    {
      "cell_type": "code",
      "execution_count": null,
      "id": "3f851a4a",
      "metadata": {
        "id": "3f851a4a",
        "outputId": "c42fd835-d93a-4a34-d064-dbef68096ba4"
      },
      "outputs": [
        {
          "data": {
            "image/png": "[encoded data removed]",
            "text/plain": [
              "<Figure size 1000x600 with 4 Axes>"
            ]
          },
          "metadata": {},
          "output_type": "display_data"
        }
      ],
      "source": [
        "fig, axes = plt.subplots(nrows=2, ncols=2, figsize=(10, 6))\n",
        "plt.subplots_adjust(wspace=0.4, hspace=0.4)\n",
        "\n",
        "# Calculate quartiles\n",
        "q1 = reacts_sorted['interactions'].quantile(0.25)\n",
        "q2 = reacts_sorted['interactions'].quantile(0.5)\n",
        "q3 = reacts_sorted['interactions'].quantile(0.75)\n",
        "\n",
        "# Create boxplots for each quartile\n",
        "axes[0, 0].boxplot(reacts_sorted['interactions'][reacts_sorted['interactions'] <= q1])\n",
        "axes[0, 0].set_title('Quartile 1')\n",
        "axes[0, 1].boxplot(reacts_sorted['interactions'][(reacts_sorted['interactions'] > q1) & (reacts_sorted['interactions'] <= q2)])\n",
        "axes[0, 1].set_title('Quartile 2')\n",
        "axes[1, 0].boxplot(reacts_sorted['interactions'][(reacts_sorted['interactions'] > q2) & (reacts_sorted['interactions'] <= q3)])\n",
        "axes[1, 0].set_title('Quartile 3')\n",
        "axes[1, 1].boxplot(reacts_sorted['interactions'][reacts_sorted['interactions'] > q3])\n",
        "axes[1, 1].set_title('Quartile 4')\n",
        "\n",
        "# Set y-axis labels\n",
        "for ax in axes.flat:\n",
        "    ax.set_ylabel('Interactions')\n",
        "\n",
        "# Show the plot\n",
        "plt.show()"
      ]
    },
    {
      "cell_type": "code",
      "execution_count": null,
      "id": "2266d3af",
      "metadata": {
        "id": "2266d3af"
      },
      "outputs": [],
      "source": [
        "correlation_matrix = df[['likes', 'shares', 'loves',\n",
        "       'wows', 'hahas', 'sads', 'angrys']].corr()"
      ]
    },
    {
      "cell_type": "code",
      "execution_count": null,
      "id": "4fa99d4e",
      "metadata": {
        "id": "4fa99d4e",
        "outputId": "f380a979-b362-4ecd-8446-2f525549dda7"
      },
      "outputs": [
        {
          "data": {
            "image/png": "[encoded data removed]",
            "text/plain": [
              "<Figure size 800x600 with 2 Axes>"
            ]
          },
          "metadata": {},
          "output_type": "display_data"
        }
      ],
      "source": [
        "sns.set(style='white')  # Set style\n",
        "plt.figure(figsize=(8, 6))  # Set figure size\n",
        "\n",
        "# Create a heatmap\n",
        "sns.heatmap(correlation_matrix, annot=True, cmap='coolwarm', center=0)\n",
        "\n",
        "plt.title('Correlation Matrix')\n",
        "plt.show()"
      ]
    },
    {
      "cell_type": "code",
      "execution_count": null,
      "id": "8c633184",
      "metadata": {
        "id": "8c633184",
        "outputId": "7202a8f7-e83a-4439-8b21-3ce5b35a2046"
      },
      "outputs": [
        {
          "name": "stderr",
          "output_type": "stream",
          "text": [
            "[nltk_data] Downloading package stopwords to\n",
            "[nltk_data]     C:\\Users\\macka\\AppData\\Roaming\\nltk_data...\n",
            "[nltk_data]   Package stopwords is already up-to-date!\n",
            "[nltk_data] Downloading package punkt to\n",
            "[nltk_data]     C:\\Users\\macka\\AppData\\Roaming\\nltk_data...\n",
            "[nltk_data]   Package punkt is already up-to-date!\n"
          ]
        }
      ],
      "source": [
        "nltk.download('stopwords')\n",
        "nltk.download('punkt')\n",
        "stop_words = set(stopwords.words('english'))"
      ]
    },
    {
      "cell_type": "code",
      "execution_count": null,
      "id": "1b426065",
      "metadata": {
        "id": "1b426065"
      },
      "outputs": [],
      "source": [
        "df['content'] = df['content'].apply(lambda text: ' '.join([word for word in word_tokenize(text) if word.lower() not in stop_words]))"
      ]
    },
    {
      "cell_type": "code",
      "execution_count": null,
      "id": "edd537f3",
      "metadata": {
        "id": "edd537f3",
        "outputId": "9bd3650f-3a66-48ff-ce6f-0b0de0a28e85"
      },
      "outputs": [
        {
          "data": {
            "text/html": [
              "<div>\n",
              "<style scoped>\n",
              "    .dataframe tbody tr th:only-of-type {\n",
              "        vertical-align: middle;\n",
              "    }\n",
              "\n",
              "    .dataframe tbody tr th {\n",
              "        vertical-align: top;\n",
              "    }\n",
              "\n",
              "    .dataframe thead th {\n",
              "        text-align: right;\n",
              "    }\n",
              "</style>\n",
              "<table border=\"1\" class=\"dataframe\">\n",
              "  <thead>\n",
              "    <tr style=\"text-align: right;\">\n",
              "      <th></th>\n",
              "      <th>content</th>\n",
              "      <th>from</th>\n",
              "      <th>date</th>\n",
              "      <th>by</th>\n",
              "      <th>comments</th>\n",
              "      <th>likes</th>\n",
              "      <th>shares</th>\n",
              "      <th>loves</th>\n",
              "      <th>wows</th>\n",
              "      <th>hahas</th>\n",
              "      <th>sads</th>\n",
              "      <th>angrys</th>\n",
              "      <th>interactions</th>\n",
              "    </tr>\n",
              "  </thead>\n",
              "  <tbody>\n",
              "    <tr>\n",
              "      <th>0</th>\n",
              "      <td>visit us https  asiatimescompremium content  h...</td>\n",
              "      <td>Asia Times</td>\n",
              "      <td>2022-12-22</td>\n",
              "      <td>Asia Times</td>\n",
              "      <td>0.0</td>\n",
              "      <td>4.0</td>\n",
              "      <td>1.0</td>\n",
              "      <td>0.0</td>\n",
              "      <td>0.0</td>\n",
              "      <td>0.0</td>\n",
              "      <td>0.0</td>\n",
              "      <td>0.0</td>\n",
              "      <td>5.0</td>\n",
              "    </tr>\n",
              "    <tr>\n",
              "      <th>1</th>\n",
              "      <td>capacity 68000 seats  al bayt stadium one stad...</td>\n",
              "      <td>HISTORY</td>\n",
              "      <td>2022-12-09</td>\n",
              "      <td>HISTORY</td>\n",
              "      <td>3.0</td>\n",
              "      <td>177.0</td>\n",
              "      <td>11.0</td>\n",
              "      <td>2.0</td>\n",
              "      <td>0.0</td>\n",
              "      <td>0.0</td>\n",
              "      <td>0.0</td>\n",
              "      <td>0.0</td>\n",
              "      <td>190.0</td>\n",
              "    </tr>\n",
              "    <tr>\n",
              "      <th>2</th>\n",
              "      <td>visit us https  asiatimescompremium content  h...</td>\n",
              "      <td>Asia Times</td>\n",
              "      <td>2022-11-16</td>\n",
              "      <td>Asia Times</td>\n",
              "      <td>0.0</td>\n",
              "      <td>5.0</td>\n",
              "      <td>0.0</td>\n",
              "      <td>1.0</td>\n",
              "      <td>0.0</td>\n",
              "      <td>1.0</td>\n",
              "      <td>0.0</td>\n",
              "      <td>0.0</td>\n",
              "      <td>7.0</td>\n",
              "    </tr>\n",
              "    <tr>\n",
              "      <th>3</th>\n",
              "      <td>game   argentina defeated defending champion  ...</td>\n",
              "      <td>Hisense</td>\n",
              "      <td>2022-12-19</td>\n",
              "      <td>Hisense</td>\n",
              "      <td>8.0</td>\n",
              "      <td>193.0</td>\n",
              "      <td>13.0</td>\n",
              "      <td>16.0</td>\n",
              "      <td>0.0</td>\n",
              "      <td>1.0</td>\n",
              "      <td>0.0</td>\n",
              "      <td>2.0</td>\n",
              "      <td>225.0</td>\n",
              "    </tr>\n",
              "    <tr>\n",
              "      <th>4</th>\n",
              "      <td>update  spain run riot costa rica go top qatar...</td>\n",
              "      <td>Daily Monitor</td>\n",
              "      <td>2022-11-24</td>\n",
              "      <td>Daily Monitor</td>\n",
              "      <td>13.0</td>\n",
              "      <td>228.0</td>\n",
              "      <td>2.0</td>\n",
              "      <td>3.0</td>\n",
              "      <td>6.0</td>\n",
              "      <td>2.0</td>\n",
              "      <td>0.0</td>\n",
              "      <td>0.0</td>\n",
              "      <td>241.0</td>\n",
              "    </tr>\n",
              "  </tbody>\n",
              "</table>\n",
              "</div>"
            ],
            "text/plain": [
              "                                             content           from  \\\n",
              "0  visit us https  asiatimescompremium content  h...     Asia Times   \n",
              "1  capacity 68000 seats  al bayt stadium one stad...        HISTORY   \n",
              "2  visit us https  asiatimescompremium content  h...     Asia Times   \n",
              "3  game   argentina defeated defending champion  ...        Hisense   \n",
              "4  update  spain run riot costa rica go top qatar...  Daily Monitor   \n",
              "\n",
              "         date             by  comments  likes  shares  loves  wows  hahas  \\\n",
              "0  2022-12-22     Asia Times       0.0    4.0     1.0    0.0   0.0    0.0   \n",
              "1  2022-12-09        HISTORY       3.0  177.0    11.0    2.0   0.0    0.0   \n",
              "2  2022-11-16     Asia Times       0.0    5.0     0.0    1.0   0.0    1.0   \n",
              "3  2022-12-19        Hisense       8.0  193.0    13.0   16.0   0.0    1.0   \n",
              "4  2022-11-24  Daily Monitor      13.0  228.0     2.0    3.0   6.0    2.0   \n",
              "\n",
              "   sads  angrys  interactions  \n",
              "0   0.0     0.0           5.0  \n",
              "1   0.0     0.0         190.0  \n",
              "2   0.0     0.0           7.0  \n",
              "3   0.0     2.0         225.0  \n",
              "4   0.0     0.0         241.0  "
            ]
          },
          "execution_count": 21,
          "metadata": {},
          "output_type": "execute_result"
        }
      ],
      "source": [
        "import re\n",
        "\n",
        "def remove_punctuation(text):\n",
        "    return re.sub(r'[^\\w\\s]', '', text)\n",
        "\n",
        "df['content'] = df['content'].apply(remove_punctuation)\n",
        "df.head()"
      ]
    },
    {
      "cell_type": "code",
      "execution_count": null,
      "id": "1b19bce0",
      "metadata": {
        "id": "1b19bce0"
      },
      "outputs": [],
      "source": [
        "players = pd.read_csv('player_shooting.csv')"
      ]
    },
    {
      "cell_type": "code",
      "execution_count": null,
      "id": "abacbf5f",
      "metadata": {
        "id": "abacbf5f"
      },
      "outputs": [],
      "source": [
        "players = players['player'].tolist()"
      ]
    },
    {
      "cell_type": "code",
      "execution_count": null,
      "id": "0478d87f",
      "metadata": {
        "id": "0478d87f"
      },
      "outputs": [],
      "source": [
        "surnames = [' '.join(names.split()[1:]) if len(names.split()) > 1 else names for names in players]\n",
        "surnames = [string.lower() for string in surnames]"
      ]
    },
    {
      "cell_type": "code",
      "execution_count": null,
      "id": "a40a3e01",
      "metadata": {
        "id": "a40a3e01"
      },
      "outputs": [],
      "source": [
        "from collections import Counter"
      ]
    },
    {
      "cell_type": "code",
      "execution_count": null,
      "id": "e55dbfd0",
      "metadata": {
        "id": "e55dbfd0"
      },
      "outputs": [],
      "source": [
        "all_words = []\n",
        "for string in df['content']:\n",
        "    words = string.split()  # Split the string into words\n",
        "    all_words.extend(words)"
      ]
    },
    {
      "cell_type": "code",
      "execution_count": null,
      "id": "0921ae2c",
      "metadata": {
        "id": "0921ae2c"
      },
      "outputs": [],
      "source": [
        "word_counts = Counter(all_words)"
      ]
    },
    {
      "cell_type": "code",
      "execution_count": null,
      "id": "40509650",
      "metadata": {
        "id": "40509650",
        "outputId": "aefcf8f8-5c2c-4800-8a36-a7182ceec253"
      },
      "outputs": [
        {
          "name": "stdout",
          "output_type": "stream",
          "text": [
            "Most trending player: messi\n",
            "Number of mentions: 2513\n"
          ]
        }
      ],
      "source": [
        "sorted_surnames = sorted(surnames, key=lambda word: word_counts.get(word, 0), reverse=True)\n",
        "\n",
        "print(\"Most trending player:\", sorted_surnames[0])\n",
        "print(\"Number of mentions:\", word_counts[sorted_surnames[0]])"
      ]
    },
    {
      "cell_type": "code",
      "execution_count": null,
      "id": "1fe5072d",
      "metadata": {
        "id": "1fe5072d",
        "outputId": "025dbba0-432f-4b8c-a460-9e7f8c3b126a"
      },
      "outputs": [
        {
          "name": "stdout",
          "output_type": "stream",
          "text": [
            "207\n"
          ]
        }
      ],
      "source": [
        "count = 0\n",
        "for i in all_words:\n",
        "    if i == \"visit\":\n",
        "        count += 1\n",
        "print(count)"
      ]
    },
    {
      "cell_type": "code",
      "execution_count": null,
      "id": "f949bc9f",
      "metadata": {
        "id": "f949bc9f"
      },
      "outputs": [],
      "source": [
        "top_trenders = sorted_surnames[0:10]"
      ]
    },
    {
      "cell_type": "code",
      "execution_count": null,
      "id": "f5e511e2",
      "metadata": {
        "id": "f5e511e2"
      },
      "outputs": [],
      "source": [
        "name_mentions = []\n",
        "for i in range(10):\n",
        "    name_mentions.append(word_counts[sorted_surnames[i]])"
      ]
    },
    {
      "cell_type": "code",
      "execution_count": null,
      "id": "f1ed45b1",
      "metadata": {
        "id": "f1ed45b1",
        "outputId": "166bef13-2612-420b-d45a-b195af808edc"
      },
      "outputs": [
        {
          "data": {
            "text/plain": [
              "[2513, 825, 343, 324, 262, 199, 142, 131, 129, 125]"
            ]
          },
          "execution_count": 38,
          "metadata": {},
          "output_type": "execute_result"
        }
      ],
      "source": [
        "name_mentions"
      ]
    },
    {
      "cell_type": "code",
      "execution_count": null,
      "id": "10dc71fd",
      "metadata": {
        "id": "10dc71fd",
        "outputId": "52024fbe-dfa0-48d4-fa50-bae2b85d644e"
      },
      "outputs": [
        {
          "data": {
            "image/png": "[encoded data removed]",
            "text/plain": [
              "<Figure size 1300x600 with 1 Axes>"
            ]
          },
          "metadata": {},
          "output_type": "display_data"
        }
      ],
      "source": [
        "import matplotlib.pyplot as plt\n",
        "plt.figure(figsize=(13, 6))\n",
        "plt.bar(top_trenders, name_mentions)\n",
        "plt.xlabel(\"Player Last Name\")\n",
        "plt.ylabel(\"Number of times mentioned\")\n",
        "plt.show()"
      ]
    },
    {
      "cell_type": "code",
      "execution_count": null,
      "id": "75ce6343",
      "metadata": {
        "id": "75ce6343",
        "outputId": "e89e7207-815f-4957-e37f-f25f1188a6b0"
      },
      "outputs": [
        {
          "data": {
            "text/plain": [
              "486"
            ]
          },
          "execution_count": 41,
          "metadata": {},
          "output_type": "execute_result"
        }
      ],
      "source": [
        "word_counts['mbappe']"
      ]
    },
    {
      "cell_type": "code",
      "execution_count": null,
      "id": "ac6a6414",
      "metadata": {
        "id": "ac6a6414",
        "outputId": "51d26bce-9537-4b2b-cf8d-e232480684f9"
      },
      "outputs": [
        {
          "data": {
            "text/plain": [
              "129"
            ]
          },
          "execution_count": 42,
          "metadata": {},
          "output_type": "execute_result"
        }
      ],
      "source": [
        "word_counts['mbappé']"
      ]
    },
    {
      "cell_type": "code",
      "execution_count": null,
      "id": "70584dec",
      "metadata": {
        "id": "70584dec"
      },
      "outputs": [],
      "source": []
    }
  ],
  "metadata": {
    "kernelspec": {
      "display_name": "Python 3 (ipykernel)",
      "language": "python",
      "name": "python3"
    },
    "language_info": {
      "codemirror_mode": {
        "name": "ipython",
        "version": 3
      },
      "file_extension": ".py",
      "mimetype": "text/x-python",
      "name": "python",
      "nbconvert_exporter": "python",
      "pygments_lexer": "ipython3",
      "version": "3.11.2"
    },
    "colab": {
      "provenance": [],
      "include_colab_link": true
    }
  },
  "nbformat": 4,
  "nbformat_minor": 5
}