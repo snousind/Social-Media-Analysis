{
 "cells": [
  {
   "cell_type": "code",
   "execution_count": 100,
   "id": "297e4264",
   "metadata": {},
   "outputs": [],
   "source": [
    "import pandas as pd\n",
    "import numpy as np\n",
    "import matplotlib.pyplot as plt\n",
    "import seaborn as sns\n",
    "import nltk\n",
    "from nltk.corpus import stopwords\n",
    "from nltk.tokenize import word_tokenize"
   ]
  },
  {
   "cell_type": "code",
   "execution_count": 101,
   "id": "5854680b",
   "metadata": {},
   "outputs": [],
   "source": [
    "df = pd.read_excel('facebook.xlsx')"
   ]
  },
  {
   "cell_type": "code",
   "execution_count": 102,
   "id": "daca701f",
   "metadata": {},
   "outputs": [
    {
     "data": {
      "text/plain": [
       "0"
      ]
     },
     "execution_count": 102,
     "metadata": {},
     "output_type": "execute_result"
    }
   ],
   "source": [
    "df.duplicated().sum()"
   ]
  },
  {
   "cell_type": "code",
   "execution_count": 103,
   "id": "278f9630",
   "metadata": {},
   "outputs": [],
   "source": [
    "df = df.drop(['title', 'in', 'images', 'url', 'hits', 'supports', 'byImageUrl', 'thankfuls'], axis=1)"
   ]
  },
  {
   "cell_type": "code",
   "execution_count": 104,
   "id": "d2204913",
   "metadata": {},
   "outputs": [],
   "source": [
    "df = df.drop([17151,17150,17149])"
   ]
  },
  {
   "cell_type": "code",
   "execution_count": 105,
   "id": "6cd5a9f4",
   "metadata": {},
   "outputs": [
    {
     "data": {
      "text/html": [
       "<div>\n",
       "<style scoped>\n",
       "    .dataframe tbody tr th:only-of-type {\n",
       "        vertical-align: middle;\n",
       "    }\n",
       "\n",
       "    .dataframe tbody tr th {\n",
       "        vertical-align: top;\n",
       "    }\n",
       "\n",
       "    .dataframe thead th {\n",
       "        text-align: right;\n",
       "    }\n",
       "</style>\n",
       "<table border=\"1\" class=\"dataframe\">\n",
       "  <thead>\n",
       "    <tr style=\"text-align: right;\">\n",
       "      <th></th>\n",
       "      <th>content</th>\n",
       "      <th>from</th>\n",
       "      <th>date</th>\n",
       "      <th>by</th>\n",
       "      <th>comments</th>\n",
       "      <th>likes</th>\n",
       "      <th>shares</th>\n",
       "      <th>loves</th>\n",
       "      <th>wows</th>\n",
       "      <th>hahas</th>\n",
       "      <th>sads</th>\n",
       "      <th>angrys</th>\n",
       "    </tr>\n",
       "  </thead>\n",
       "  <tbody>\n",
       "    <tr>\n",
       "      <th>0</th>\n",
       "      <td>Visit us at  https://asiatimes.com/Premium con...</td>\n",
       "      <td>Asia Times</td>\n",
       "      <td>2022-12-22 16:24:43</td>\n",
       "      <td>Asia Times</td>\n",
       "      <td>0.0</td>\n",
       "      <td>4.0</td>\n",
       "      <td>1.0</td>\n",
       "      <td>0.0</td>\n",
       "      <td>0.0</td>\n",
       "      <td>0.0</td>\n",
       "      <td>0.0</td>\n",
       "      <td>0.0</td>\n",
       "    </tr>\n",
       "    <tr>\n",
       "      <th>1</th>\n",
       "      <td>With a capacity of over 68,000 seats, Al Bayt ...</td>\n",
       "      <td>HISTORY</td>\n",
       "      <td>2022-12-09 18:00:00</td>\n",
       "      <td>HISTORY</td>\n",
       "      <td>3.0</td>\n",
       "      <td>177.0</td>\n",
       "      <td>11.0</td>\n",
       "      <td>2.0</td>\n",
       "      <td>0.0</td>\n",
       "      <td>0.0</td>\n",
       "      <td>0.0</td>\n",
       "      <td>0.0</td>\n",
       "    </tr>\n",
       "    <tr>\n",
       "      <th>2</th>\n",
       "      <td>Visit us at  https://asiatimes.com/Premium con...</td>\n",
       "      <td>Asia Times</td>\n",
       "      <td>2022-11-16 13:24:45</td>\n",
       "      <td>Asia Times</td>\n",
       "      <td>0.0</td>\n",
       "      <td>5.0</td>\n",
       "      <td>0.0</td>\n",
       "      <td>1.0</td>\n",
       "      <td>0.0</td>\n",
       "      <td>1.0</td>\n",
       "      <td>0.0</td>\n",
       "      <td>0.0</td>\n",
       "    </tr>\n",
       "    <tr>\n",
       "      <th>3</th>\n",
       "      <td>What a game! #Argentina defeated the defending...</td>\n",
       "      <td>Hisense</td>\n",
       "      <td>2022-12-19 08:23:59</td>\n",
       "      <td>Hisense</td>\n",
       "      <td>8.0</td>\n",
       "      <td>193.0</td>\n",
       "      <td>13.0</td>\n",
       "      <td>16.0</td>\n",
       "      <td>0.0</td>\n",
       "      <td>1.0</td>\n",
       "      <td>0.0</td>\n",
       "      <td>2.0</td>\n",
       "    </tr>\n",
       "    <tr>\n",
       "      <th>4</th>\n",
       "      <td>UPDATE: Spain run riot over Costa Rica to go t...</td>\n",
       "      <td>Daily Monitor</td>\n",
       "      <td>2022-11-24 02:01:26</td>\n",
       "      <td>Daily Monitor</td>\n",
       "      <td>13.0</td>\n",
       "      <td>228.0</td>\n",
       "      <td>2.0</td>\n",
       "      <td>3.0</td>\n",
       "      <td>6.0</td>\n",
       "      <td>2.0</td>\n",
       "      <td>0.0</td>\n",
       "      <td>0.0</td>\n",
       "    </tr>\n",
       "  </tbody>\n",
       "</table>\n",
       "</div>"
      ],
      "text/plain": [
       "                                             content           from  \\\n",
       "0  Visit us at  https://asiatimes.com/Premium con...     Asia Times   \n",
       "1  With a capacity of over 68,000 seats, Al Bayt ...        HISTORY   \n",
       "2  Visit us at  https://asiatimes.com/Premium con...     Asia Times   \n",
       "3  What a game! #Argentina defeated the defending...        Hisense   \n",
       "4  UPDATE: Spain run riot over Costa Rica to go t...  Daily Monitor   \n",
       "\n",
       "                 date             by  comments  likes  shares  loves  wows  \\\n",
       "0 2022-12-22 16:24:43     Asia Times       0.0    4.0     1.0    0.0   0.0   \n",
       "1 2022-12-09 18:00:00        HISTORY       3.0  177.0    11.0    2.0   0.0   \n",
       "2 2022-11-16 13:24:45     Asia Times       0.0    5.0     0.0    1.0   0.0   \n",
       "3 2022-12-19 08:23:59        Hisense       8.0  193.0    13.0   16.0   0.0   \n",
       "4 2022-11-24 02:01:26  Daily Monitor      13.0  228.0     2.0    3.0   6.0   \n",
       "\n",
       "   hahas  sads  angrys  \n",
       "0    0.0   0.0     0.0  \n",
       "1    0.0   0.0     0.0  \n",
       "2    1.0   0.0     0.0  \n",
       "3    1.0   0.0     2.0  \n",
       "4    2.0   0.0     0.0  "
      ]
     },
     "execution_count": 105,
     "metadata": {},
     "output_type": "execute_result"
    }
   ],
   "source": [
    "df.head()"
   ]
  },
  {
   "cell_type": "code",
   "execution_count": 106,
   "id": "774367f0",
   "metadata": {},
   "outputs": [
    {
     "data": {
      "text/plain": [
       "content     0\n",
       "from        0\n",
       "date        0\n",
       "by          0\n",
       "comments    0\n",
       "likes       0\n",
       "shares      0\n",
       "loves       0\n",
       "wows        0\n",
       "hahas       0\n",
       "sads        0\n",
       "angrys      0\n",
       "dtype: int64"
      ]
     },
     "execution_count": 106,
     "metadata": {},
     "output_type": "execute_result"
    }
   ],
   "source": [
    "df.isna().sum()"
   ]
  },
  {
   "cell_type": "code",
   "execution_count": 107,
   "id": "1b2b20d2",
   "metadata": {
    "scrolled": false
   },
   "outputs": [
    {
     "data": {
      "text/plain": [
       "content             object\n",
       "from                object\n",
       "date        datetime64[ns]\n",
       "by                  object\n",
       "comments           float64\n",
       "likes              float64\n",
       "shares             float64\n",
       "loves              float64\n",
       "wows               float64\n",
       "hahas              float64\n",
       "sads               float64\n",
       "angrys             float64\n",
       "dtype: object"
      ]
     },
     "execution_count": 107,
     "metadata": {},
     "output_type": "execute_result"
    }
   ],
   "source": [
    "df.dtypes"
   ]
  },
  {
   "cell_type": "code",
   "execution_count": 108,
   "id": "358e344c",
   "metadata": {},
   "outputs": [
    {
     "data": {
      "text/plain": [
       "Index(['content', 'from', 'date', 'by', 'comments', 'likes', 'shares', 'loves',\n",
       "       'wows', 'hahas', 'sads', 'angrys'],\n",
       "      dtype='object')"
      ]
     },
     "execution_count": 108,
     "metadata": {},
     "output_type": "execute_result"
    }
   ],
   "source": [
    "df.columns"
   ]
  },
  {
   "cell_type": "code",
   "execution_count": 109,
   "id": "6fd83c14",
   "metadata": {},
   "outputs": [],
   "source": [
    "columns_aggr = ['likes', 'shares', 'loves',\n",
    "       'wows', 'hahas', 'sads', 'angrys']\n",
    "\n",
    "# Create a new column with the sum of selected columns\n",
    "df['interactions'] = df[columns_aggr].sum(axis=1)"
   ]
  },
  {
   "cell_type": "code",
   "execution_count": 110,
   "id": "b4e792e1",
   "metadata": {},
   "outputs": [],
   "source": [
    "reacts_sorted = df.sort_values(by='interactions', ascending = False)"
   ]
  },
  {
   "cell_type": "code",
   "execution_count": 111,
   "id": "da24c180",
   "metadata": {},
   "outputs": [
    {
     "data": {
      "text/html": [
       "<div>\n",
       "<style scoped>\n",
       "    .dataframe tbody tr th:only-of-type {\n",
       "        vertical-align: middle;\n",
       "    }\n",
       "\n",
       "    .dataframe tbody tr th {\n",
       "        vertical-align: top;\n",
       "    }\n",
       "\n",
       "    .dataframe thead th {\n",
       "        text-align: right;\n",
       "    }\n",
       "</style>\n",
       "<table border=\"1\" class=\"dataframe\">\n",
       "  <thead>\n",
       "    <tr style=\"text-align: right;\">\n",
       "      <th></th>\n",
       "      <th>content</th>\n",
       "      <th>from</th>\n",
       "      <th>date</th>\n",
       "      <th>by</th>\n",
       "      <th>comments</th>\n",
       "      <th>likes</th>\n",
       "      <th>shares</th>\n",
       "      <th>loves</th>\n",
       "      <th>wows</th>\n",
       "      <th>hahas</th>\n",
       "      <th>sads</th>\n",
       "      <th>angrys</th>\n",
       "      <th>interactions</th>\n",
       "    </tr>\n",
       "  </thead>\n",
       "  <tbody>\n",
       "    <tr>\n",
       "      <th>9286</th>\n",
       "      <td>We've had some special opening ceremonies �Can...</td>\n",
       "      <td>FIFA World Cup</td>\n",
       "      <td>2022-11-20 03:21:32</td>\n",
       "      <td>FIFA World Cup</td>\n",
       "      <td>48691.0</td>\n",
       "      <td>3656165.0</td>\n",
       "      <td>339926.0</td>\n",
       "      <td>1167869.0</td>\n",
       "      <td>14544.0</td>\n",
       "      <td>12343.0</td>\n",
       "      <td>2212.0</td>\n",
       "      <td>3738.0</td>\n",
       "      <td>5196797.0</td>\n",
       "    </tr>\n",
       "    <tr>\n",
       "      <th>10999</th>\n",
       "      <td>Can't wait for this great World Cup semi-final...</td>\n",
       "      <td>Mesut Özil</td>\n",
       "      <td>2022-12-15 02:20:37</td>\n",
       "      <td>Mesut Özil</td>\n",
       "      <td>54445.0</td>\n",
       "      <td>1779102.0</td>\n",
       "      <td>29761.0</td>\n",
       "      <td>868409.0</td>\n",
       "      <td>1603.0</td>\n",
       "      <td>6512.0</td>\n",
       "      <td>1727.0</td>\n",
       "      <td>392.0</td>\n",
       "      <td>2687506.0</td>\n",
       "    </tr>\n",
       "    <tr>\n",
       "      <th>14934</th>\n",
       "      <td>Son muchos los recuerdos, buenos momentos y no...</td>\n",
       "      <td>Leo Messi</td>\n",
       "      <td>2022-11-22 04:06:08</td>\n",
       "      <td>Leo Messi</td>\n",
       "      <td>65977.0</td>\n",
       "      <td>527424.0</td>\n",
       "      <td>36493.0</td>\n",
       "      <td>513938.0</td>\n",
       "      <td>681.0</td>\n",
       "      <td>4366.0</td>\n",
       "      <td>802.0</td>\n",
       "      <td>217.0</td>\n",
       "      <td>1083921.0</td>\n",
       "    </tr>\n",
       "    <tr>\n",
       "      <th>10461</th>\n",
       "      <td>World Cup final � @cruzbeckhamRoad to 2022 #fi...</td>\n",
       "      <td>David Beckham</td>\n",
       "      <td>2022-12-18 23:07:03</td>\n",
       "      <td>David Beckham</td>\n",
       "      <td>7642.0</td>\n",
       "      <td>814887.0</td>\n",
       "      <td>6148.0</td>\n",
       "      <td>177540.0</td>\n",
       "      <td>679.0</td>\n",
       "      <td>514.0</td>\n",
       "      <td>60.0</td>\n",
       "      <td>153.0</td>\n",
       "      <td>999981.0</td>\n",
       "    </tr>\n",
       "    <tr>\n",
       "      <th>7237</th>\n",
       "      <td>Thank you for an unforgettable visit and a Wor...</td>\n",
       "      <td>Zlatan Ibrahimović</td>\n",
       "      <td>2022-12-22 00:08:16</td>\n",
       "      <td>Zlatan Ibrahimović</td>\n",
       "      <td>10244.0</td>\n",
       "      <td>713547.0</td>\n",
       "      <td>3239.0</td>\n",
       "      <td>166533.0</td>\n",
       "      <td>529.0</td>\n",
       "      <td>1429.0</td>\n",
       "      <td>99.0</td>\n",
       "      <td>253.0</td>\n",
       "      <td>885629.0</td>\n",
       "    </tr>\n",
       "  </tbody>\n",
       "</table>\n",
       "</div>"
      ],
      "text/plain": [
       "                                                 content                from  \\\n",
       "9286   We've had some special opening ceremonies �Can...      FIFA World Cup   \n",
       "10999  Can't wait for this great World Cup semi-final...          Mesut Özil   \n",
       "14934  Son muchos los recuerdos, buenos momentos y no...           Leo Messi   \n",
       "10461  World Cup final � @cruzbeckhamRoad to 2022 #fi...       David Beckham   \n",
       "7237   Thank you for an unforgettable visit and a Wor...  Zlatan Ibrahimović   \n",
       "\n",
       "                     date                  by  comments      likes    shares  \\\n",
       "9286  2022-11-20 03:21:32      FIFA World Cup   48691.0  3656165.0  339926.0   \n",
       "10999 2022-12-15 02:20:37          Mesut Özil   54445.0  1779102.0   29761.0   \n",
       "14934 2022-11-22 04:06:08           Leo Messi   65977.0   527424.0   36493.0   \n",
       "10461 2022-12-18 23:07:03       David Beckham    7642.0   814887.0    6148.0   \n",
       "7237  2022-12-22 00:08:16  Zlatan Ibrahimović   10244.0   713547.0    3239.0   \n",
       "\n",
       "           loves     wows    hahas    sads  angrys  interactions  \n",
       "9286   1167869.0  14544.0  12343.0  2212.0  3738.0     5196797.0  \n",
       "10999   868409.0   1603.0   6512.0  1727.0   392.0     2687506.0  \n",
       "14934   513938.0    681.0   4366.0   802.0   217.0     1083921.0  \n",
       "10461   177540.0    679.0    514.0    60.0   153.0      999981.0  \n",
       "7237    166533.0    529.0   1429.0    99.0   253.0      885629.0  "
      ]
     },
     "execution_count": 111,
     "metadata": {},
     "output_type": "execute_result"
    }
   ],
   "source": [
    "reacts_sorted.head()"
   ]
  },
  {
   "cell_type": "code",
   "execution_count": 112,
   "id": "8581585d",
   "metadata": {},
   "outputs": [
    {
     "name": "stdout",
     "output_type": "stream",
     "text": [
      "There are 2215 different people/pages that posted on facebook in this dataset\n"
     ]
    }
   ],
   "source": [
    "print(f\"There are {len(df['by'].unique())} different people/pages that posted on facebook in this dataset\")"
   ]
  },
  {
   "cell_type": "code",
   "execution_count": 113,
   "id": "08e94b5c",
   "metadata": {},
   "outputs": [],
   "source": [
    "df['date'] = df['date'].dt.date"
   ]
  },
  {
   "cell_type": "code",
   "execution_count": 114,
   "id": "c395f1fd",
   "metadata": {},
   "outputs": [
    {
     "data": {
      "text/html": [
       "<div>\n",
       "<style scoped>\n",
       "    .dataframe tbody tr th:only-of-type {\n",
       "        vertical-align: middle;\n",
       "    }\n",
       "\n",
       "    .dataframe tbody tr th {\n",
       "        vertical-align: top;\n",
       "    }\n",
       "\n",
       "    .dataframe thead th {\n",
       "        text-align: right;\n",
       "    }\n",
       "</style>\n",
       "<table border=\"1\" class=\"dataframe\">\n",
       "  <thead>\n",
       "    <tr style=\"text-align: right;\">\n",
       "      <th></th>\n",
       "      <th>content</th>\n",
       "      <th>from</th>\n",
       "      <th>date</th>\n",
       "      <th>by</th>\n",
       "      <th>comments</th>\n",
       "      <th>likes</th>\n",
       "      <th>shares</th>\n",
       "      <th>loves</th>\n",
       "      <th>wows</th>\n",
       "      <th>hahas</th>\n",
       "      <th>sads</th>\n",
       "      <th>angrys</th>\n",
       "      <th>interactions</th>\n",
       "    </tr>\n",
       "  </thead>\n",
       "  <tbody>\n",
       "    <tr>\n",
       "      <th>0</th>\n",
       "      <td>visit us at  https://asiatimes.com/premium con...</td>\n",
       "      <td>Asia Times</td>\n",
       "      <td>2022-12-22</td>\n",
       "      <td>Asia Times</td>\n",
       "      <td>0.0</td>\n",
       "      <td>4.0</td>\n",
       "      <td>1.0</td>\n",
       "      <td>0.0</td>\n",
       "      <td>0.0</td>\n",
       "      <td>0.0</td>\n",
       "      <td>0.0</td>\n",
       "      <td>0.0</td>\n",
       "      <td>5.0</td>\n",
       "    </tr>\n",
       "    <tr>\n",
       "      <th>1</th>\n",
       "      <td>with a capacity of over 68,000 seats, al bayt ...</td>\n",
       "      <td>HISTORY</td>\n",
       "      <td>2022-12-09</td>\n",
       "      <td>HISTORY</td>\n",
       "      <td>3.0</td>\n",
       "      <td>177.0</td>\n",
       "      <td>11.0</td>\n",
       "      <td>2.0</td>\n",
       "      <td>0.0</td>\n",
       "      <td>0.0</td>\n",
       "      <td>0.0</td>\n",
       "      <td>0.0</td>\n",
       "      <td>190.0</td>\n",
       "    </tr>\n",
       "    <tr>\n",
       "      <th>2</th>\n",
       "      <td>visit us at  https://asiatimes.com/premium con...</td>\n",
       "      <td>Asia Times</td>\n",
       "      <td>2022-11-16</td>\n",
       "      <td>Asia Times</td>\n",
       "      <td>0.0</td>\n",
       "      <td>5.0</td>\n",
       "      <td>0.0</td>\n",
       "      <td>1.0</td>\n",
       "      <td>0.0</td>\n",
       "      <td>1.0</td>\n",
       "      <td>0.0</td>\n",
       "      <td>0.0</td>\n",
       "      <td>7.0</td>\n",
       "    </tr>\n",
       "    <tr>\n",
       "      <th>3</th>\n",
       "      <td>what a game! #argentina defeated the defending...</td>\n",
       "      <td>Hisense</td>\n",
       "      <td>2022-12-19</td>\n",
       "      <td>Hisense</td>\n",
       "      <td>8.0</td>\n",
       "      <td>193.0</td>\n",
       "      <td>13.0</td>\n",
       "      <td>16.0</td>\n",
       "      <td>0.0</td>\n",
       "      <td>1.0</td>\n",
       "      <td>0.0</td>\n",
       "      <td>2.0</td>\n",
       "      <td>225.0</td>\n",
       "    </tr>\n",
       "    <tr>\n",
       "      <th>4</th>\n",
       "      <td>update: spain run riot over costa rica to go t...</td>\n",
       "      <td>Daily Monitor</td>\n",
       "      <td>2022-11-24</td>\n",
       "      <td>Daily Monitor</td>\n",
       "      <td>13.0</td>\n",
       "      <td>228.0</td>\n",
       "      <td>2.0</td>\n",
       "      <td>3.0</td>\n",
       "      <td>6.0</td>\n",
       "      <td>2.0</td>\n",
       "      <td>0.0</td>\n",
       "      <td>0.0</td>\n",
       "      <td>241.0</td>\n",
       "    </tr>\n",
       "  </tbody>\n",
       "</table>\n",
       "</div>"
      ],
      "text/plain": [
       "                                             content           from  \\\n",
       "0  visit us at  https://asiatimes.com/premium con...     Asia Times   \n",
       "1  with a capacity of over 68,000 seats, al bayt ...        HISTORY   \n",
       "2  visit us at  https://asiatimes.com/premium con...     Asia Times   \n",
       "3  what a game! #argentina defeated the defending...        Hisense   \n",
       "4  update: spain run riot over costa rica to go t...  Daily Monitor   \n",
       "\n",
       "         date             by  comments  likes  shares  loves  wows  hahas  \\\n",
       "0  2022-12-22     Asia Times       0.0    4.0     1.0    0.0   0.0    0.0   \n",
       "1  2022-12-09        HISTORY       3.0  177.0    11.0    2.0   0.0    0.0   \n",
       "2  2022-11-16     Asia Times       0.0    5.0     0.0    1.0   0.0    1.0   \n",
       "3  2022-12-19        Hisense       8.0  193.0    13.0   16.0   0.0    1.0   \n",
       "4  2022-11-24  Daily Monitor      13.0  228.0     2.0    3.0   6.0    2.0   \n",
       "\n",
       "   sads  angrys  interactions  \n",
       "0   0.0     0.0           5.0  \n",
       "1   0.0     0.0         190.0  \n",
       "2   0.0     0.0           7.0  \n",
       "3   0.0     2.0         225.0  \n",
       "4   0.0     0.0         241.0  "
      ]
     },
     "execution_count": 114,
     "metadata": {},
     "output_type": "execute_result"
    }
   ],
   "source": [
    "df['content'] = df['content'].str.lower()\n",
    "df.head()"
   ]
  },
  {
   "cell_type": "code",
   "execution_count": 115,
   "id": "52e9867f",
   "metadata": {},
   "outputs": [],
   "source": [
    "df = df.sort_values(by='date', inplace = True)"
   ]
  },
  {
   "cell_type": "code",
   "execution_count": 118,
   "id": "3f851a4a",
   "metadata": {},
   "outputs": [
    {
     "data": {
      "image/png": "[encoded data removed]",
      "text/plain": [
       "<Figure size 1000x600 with 4 Axes>"
      ]
     },
     "metadata": {},
     "output_type": "display_data"
    }
   ],
   "source": [
    "fig, axes = plt.subplots(nrows=2, ncols=2, figsize=(10, 6))\n",
    "plt.subplots_adjust(wspace=0.4, hspace=0.4) \n",
    "\n",
    "# Calculate quartiles\n",
    "q1 = reacts_sorted['interactions'].quantile(0.25)\n",
    "q2 = reacts_sorted['interactions'].quantile(0.5)\n",
    "q3 = reacts_sorted['interactions'].quantile(0.75)\n",
    "\n",
    "# Create boxplots for each quartile\n",
    "axes[0, 0].boxplot(reacts_sorted['interactions'][reacts_sorted['interactions'] <= q1])\n",
    "axes[0, 0].set_title('Quartile 1')\n",
    "axes[0, 1].boxplot(reacts_sorted['interactions'][(reacts_sorted['interactions'] > q1) & (reacts_sorted['interactions'] <= q2)])\n",
    "axes[0, 1].set_title('Quartile 2')\n",
    "axes[1, 0].boxplot(reacts_sorted['interactions'][(reacts_sorted['interactions'] > q2) & (reacts_sorted['interactions'] <= q3)])\n",
    "axes[1, 0].set_title('Quartile 3')\n",
    "axes[1, 1].boxplot(reacts_sorted['interactions'][reacts_sorted['interactions'] > q3])\n",
    "axes[1, 1].set_title('Quartile 4')\n",
    "\n",
    "# Set y-axis labels\n",
    "for ax in axes.flat:\n",
    "    ax.set_ylabel('Interactions')\n",
    "\n",
    "# Show the plot\n",
    "plt.show()"
   ]
  },
  {
   "cell_type": "code",
   "execution_count": null,
   "id": "2266d3af",
   "metadata": {},
   "outputs": [],
   "source": [
    "correlation_matrix = df[['comments', 'likes', 'shares', 'loves',\n",
    "       'wows', 'hahas', 'sads', 'angrys']].corr()"
   ]
  },
  {
   "cell_type": "code",
   "execution_count": null,
   "id": "4fa99d4e",
   "metadata": {},
   "outputs": [],
   "source": [
    "sns.set(style='white')  # Set style\n",
    "plt.figure(figsize=(8, 6))  # Set figure size\n",
    "\n",
    "# Create a heatmap\n",
    "sns.heatmap(correlation_matrix, annot=True, cmap='coolwarm', center=0)\n",
    "\n",
    "plt.title('Correlation Matrix')\n",
    "plt.show()"
   ]
  },
  {
   "cell_type": "code",
   "execution_count": null,
   "id": "a7f2124d",
   "metadata": {},
   "outputs": [],
   "source": [
    "df.head()"
   ]
  },
  {
   "cell_type": "code",
   "execution_count": null,
   "id": "8c633184",
   "metadata": {},
   "outputs": [],
   "source": [
    "nltk.download('stopwords')\n",
    "nltk.download('punkt')\n",
    "stop_words = set(stopwords.words('english'))"
   ]
  },
  {
   "cell_type": "code",
   "execution_count": null,
   "id": "1b426065",
   "metadata": {},
   "outputs": [],
   "source": [
    "df['content'] = df['content'].apply(lambda text: ' '.join([word for word in word_tokenize(text) if word.lower() not in stop_words]))"
   ]
  },
  {
   "cell_type": "code",
   "execution_count": null,
   "id": "ef5434d1",
   "metadata": {},
   "outputs": [],
   "source": [
    "df.head()"
   ]
  },
  {
   "cell_type": "code",
   "execution_count": null,
   "id": "edd537f3",
   "metadata": {},
   "outputs": [],
   "source": []
  }
 ],
 "metadata": {
  "kernelspec": {
   "display_name": "Python 3 (ipykernel)",
   "language": "python",
   "name": "python3"
  },
  "language_info": {
   "codemirror_mode": {
    "name": "ipython",
    "version": 3
   },
   "file_extension": ".py",
   "mimetype": "text/x-python",
   "name": "python",
   "nbconvert_exporter": "python",
   "pygments_lexer": "ipython3",
   "version": "3.11.2"
  }
 },
 "nbformat": 4,
 "nbformat_minor": 5
}
