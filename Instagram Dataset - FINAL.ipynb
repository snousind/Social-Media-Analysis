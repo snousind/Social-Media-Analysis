{
 "cells": [
  {
   "cell_type": "markdown",
   "id": "45d19a78",
   "metadata": {},
   "source": [
    "## ADS2002 - Social Media Analysis "
   ]
  },
  {
   "cell_type": "code",
   "execution_count": 43,
   "id": "cd4d364e",
   "metadata": {},
   "outputs": [],
   "source": [
    "#Importations\n",
    "import nltk\n",
    "from nltk.corpus import stopwords \n",
    "from nltk.tokenize import word_tokenize\n",
    "from nltk.stem import WordNetLemmatizer\n",
    "from os import path\n",
    "from PIL import Image\n",
    "from wordcloud import WordCloud, STOPWORDS, ImageColorGenerator\n",
    "from sklearn.feature_extraction.text import TfidfVectorizer\n",
    "from sklearn.model_selection import train_test_split\n",
    "from sklearn.metrics import accuracy_score\n",
    "from sklearn.svm import SVC\n",
    "from sklearn.naive_bayes import MultinomialNB\n",
    "import pandas as pd\n",
    "import matplotlib.pyplot as plt\n",
    "import seaborn as sns\n",
    "import plotly.express as px\n",
    "import re\n",
    "import numpy as np\n",
    "import seaborn as sns\n",
    "import string\n",
    "import unicodedata"
   ]
  },
  {
   "cell_type": "markdown",
   "id": "ba4cd12c",
   "metadata": {},
   "source": [
    "### General Cleaning "
   ]
  },
  {
   "cell_type": "code",
   "execution_count": 2,
   "id": "33d98234",
   "metadata": {},
   "outputs": [
    {
     "data": {
      "text/plain": [
       "Index(['title', 'content', 'from', 'location', 'date', 'images', 'url',\n",
       "       'device', 'hits', 'likes', 'comments'],\n",
       "      dtype='object')"
      ]
     },
     "execution_count": 2,
     "metadata": {},
     "output_type": "execute_result"
    }
   ],
   "source": [
    "#reading in dataset and checking columns \n",
    "insta = pd.read_excel(\"instagram.xlsx\")\n",
    "insta.columns\n",
    "# insta.isna()"
   ]
  },
  {
   "cell_type": "code",
   "execution_count": 3,
   "id": "07554654",
   "metadata": {},
   "outputs": [],
   "source": [
    "#converting all column types to strings \n",
    "for column in insta:\n",
    "  insta[column] = insta[column].astype('string')"
   ]
  },
  {
   "cell_type": "code",
   "execution_count": 4,
   "id": "eb987618",
   "metadata": {},
   "outputs": [],
   "source": [
    "# dropping unecessary columns + splitting Date and Time \n",
    "new_insta = insta.drop([\"title\", \"location\", \"hits\", \"url\", \"device\", \"device\", \"images\"], axis = 1)\n",
    "new_insta[['Date', 'Time']] = new_insta.date.str.split(\" \", expand = True)\n",
    "insta = new_insta.drop([\"date\", \"Time\"], axis = 1)\n",
    "# insta.head()"
   ]
  },
  {
   "cell_type": "code",
   "execution_count": 5,
   "id": "20ec4048",
   "metadata": {
    "scrolled": true
   },
   "outputs": [
    {
     "data": {
      "text/plain": [
       "content     0\n",
       "from        0\n",
       "likes       0\n",
       "comments    0\n",
       "Date        0\n",
       "dtype: int64"
      ]
     },
     "execution_count": 5,
     "metadata": {},
     "output_type": "execute_result"
    }
   ],
   "source": [
    "# Dropping all NA values in remaining columns \n",
    "insta = insta.dropna()\n",
    "insta.isna().sum()"
   ]
  },
  {
   "cell_type": "code",
   "execution_count": 6,
   "id": "cc64dded",
   "metadata": {},
   "outputs": [
    {
     "data": {
      "text/plain": [
       "content             string\n",
       "from                string\n",
       "likes              float64\n",
       "comments             int32\n",
       "Date        datetime64[ns]\n",
       "dtype: object"
      ]
     },
     "execution_count": 6,
     "metadata": {},
     "output_type": "execute_result"
    }
   ],
   "source": [
    "#converting to date-time and floating point \n",
    "insta['likes'] = insta['likes'].astype(float)\n",
    "insta['comments'] = insta['comments'].astype(int)\n",
    "insta['Date'] = pd.to_datetime(insta['Date'], format=\"%Y/%m/%d\")\n",
    "insta.dtypes"
   ]
  },
  {
   "cell_type": "code",
   "execution_count": 7,
   "id": "6d0ddef0",
   "metadata": {},
   "outputs": [],
   "source": [
    "#Renaming remaining columns\n",
    "new_column_names = {\n",
    "    \"content\": \"Content\",\n",
    "    \"from\": \"From\",\n",
    "    \"date\": \"Date\",\n",
    "    \"likes\": \"Likes\",\n",
    "    \"comments\": \"Comments\"\n",
    "}\n",
    "insta = insta.rename(columns=new_column_names)\n",
    "# insta.head()"
   ]
  },
  {
   "cell_type": "markdown",
   "id": "fd7e8cae",
   "metadata": {},
   "source": [
    "### Text Cleaning "
   ]
  },
  {
   "cell_type": "code",
   "execution_count": 8,
   "id": "b3016aa4",
   "metadata": {},
   "outputs": [
    {
     "name": "stderr",
     "output_type": "stream",
     "text": [
      "[nltk_data] Downloading package stopwords to\n",
      "[nltk_data]     C:\\Users\\snous\\AppData\\Roaming\\nltk_data...\n",
      "[nltk_data]   Package stopwords is already up-to-date!\n",
      "[nltk_data] Downloading package punkt to\n",
      "[nltk_data]     C:\\Users\\snous\\AppData\\Roaming\\nltk_data...\n",
      "[nltk_data]   Package punkt is already up-to-date!\n"
     ]
    }
   ],
   "source": [
    "#stop words \n",
    "nltk.download(\"stopwords\")\n",
    "nltk.download(\"punkt\")\n",
    "stop_words = set(stopwords.words(\"english\"))\n",
    "\n",
    "insta['Content'] = insta['Content'].apply(lambda x: ' '.join([word for word in x.split() if word.lower() not in stop_words]))\n",
    "# insta.head()"
   ]
  },
  {
   "cell_type": "code",
   "execution_count": 9,
   "id": "2ad77ddb",
   "metadata": {},
   "outputs": [],
   "source": [
    "#Lemmatization\n",
    "def lemmatize_text(text):\n",
    "    lemmatizer = WordNetLemmatizer()\n",
    "    words = nltk.word_tokenize(text)\n",
    "    lemmatized_words = [lemmatizer.lemmatize(word, pos='v') for word in words] \n",
    "    return ' '.join(lemmatized_words)\n",
    "\n",
    "insta['Content'] = insta['Content'].apply(lemmatize_text)"
   ]
  },
  {
   "cell_type": "code",
   "execution_count": 10,
   "id": "0edd8073",
   "metadata": {},
   "outputs": [],
   "source": [
    "#removing emojis \n",
    "df_emoji = pd.DataFrame(insta)\n",
    "def remove_emojis(insta):\n",
    "    emoj = re.compile(\"[\"\n",
    "        u\"\\U0001F600-\\U0001F64F\"  # emoticons\n",
    "        u\"\\U0001F300-\\U0001F5FF\"  # symbols & pictographs\n",
    "        u\"\\U0001F680-\\U0001F6FF\"  # transport & map symbols\n",
    "        u\"\\U0001F1E0-\\U0001F1FF\"  # flags (iOS)\n",
    "        u\"\\U00002500-\\U00002BEF\"  # chinese char\n",
    "        u\"\\U00002702-\\U000027B0\"\n",
    "        u\"\\U00002702-\\U000027B0\"\n",
    "        u\"\\U000024C2-\\U0001F251\"\n",
    "        u\"\\U0001f926-\\U0001f937\"\n",
    "        u\"\\U00010000-\\U0010ffff\"\n",
    "        u\"\\u2640-\\u2642\" \n",
    "        u\"\\u2600-\\u2B55\"\n",
    "        u\"\\u200d\"\n",
    "        u\"\\u23cf\"\n",
    "        u\"\\u23e9\"\n",
    "        u\"\\u231a\"\n",
    "        u\"\\ufe0f\"  # dingbats\n",
    "        u\"\\u3030\"\n",
    "                      \"]+\", re.UNICODE)\n",
    "    return re.sub(emoj, '',insta)\n",
    "insta[\"Content\"]=df_emoji['Content'].apply(remove_emojis)"
   ]
  },
  {
   "cell_type": "code",
   "execution_count": 11,
   "id": "b9605563",
   "metadata": {},
   "outputs": [],
   "source": [
    "# removing punctuation and copyright \n",
    "def remove_punctuation(text):\n",
    "    for punctuation in string.punctuation:\n",
    "        text = text.replace(punctuation, '')\n",
    "    return text\n",
    "\n",
    "def remove_superscript_tm(text):\n",
    "    return re.sub(r'™', '', text)\n",
    "\n",
    "insta['Content'] = insta['Content'].apply(remove_superscript_tm)\n",
    "insta['Content'] = insta['Content'].apply(remove_punctuation)\n",
    "# insta.head()"
   ]
  },
  {
   "cell_type": "markdown",
   "id": "393b61e6",
   "metadata": {},
   "source": [
    "### Research Question 1: What type of content specifically generates the most interest in terms of engagement?  Is engagement dependent on the type of user?"
   ]
  },
  {
   "cell_type": "code",
   "execution_count": 12,
   "id": "f43c6cfd",
   "metadata": {},
   "outputs": [
    {
     "data": {
      "text/plain": [
       "Type\n",
       "News          497\n",
       "User         6293\n",
       "WC Update     736\n",
       "Name: Type, dtype: int64"
      ]
     },
     "execution_count": 12,
     "metadata": {},
     "output_type": "execute_result"
    }
   ],
   "source": [
    "#function to classify user based on keywords in username \n",
    "def classify_user_type(username):\n",
    "    if any(keyword in username.lower() for keyword in ['cnn', 'guardian','news', 'times', 'today']):\n",
    "        return 'News'\n",
    "    elif any(keyword in username.lower() for keyword in ['sport', 'football', 'update']):\n",
    "        return 'WC Update'\n",
    "    else:\n",
    "        return 'User'\n",
    "\n",
    "insta['Type'] = insta['From'].apply(classify_user_type)\n",
    "insta['Type'].groupby(insta['Type']).size()"
   ]
  },
  {
   "cell_type": "code",
   "execution_count": 13,
   "id": "bd7eda0c",
   "metadata": {},
   "outputs": [
    {
     "data": {
      "image/png": "[encoded data removed]",
      "text/plain": [
       "<Figure size 720x432 with 1 Axes>"
      ]
     },
     "metadata": {
      "needs_background": "light"
     },
     "output_type": "display_data"
    }
   ],
   "source": [
    "# Running 50 random samples of 200 entries for each user type\n",
    "sampled_data = pd.concat([insta.groupby('Type').apply(lambda x: x.sample(300)) for _ in range(100)]).reset_index(drop=True)\n",
    "\n",
    "# Calculating the average likes and comments for each user type\n",
    "avg_likes_comments = sampled_data.groupby('Type')[['Likes', 'Comments']].mean()\n",
    "\n",
    "# Plotting the graph\n",
    "avg_likes_comments.plot(kind='bar', figsize=(10, 6), color=['#CF9FFF', '#301934'])\n",
    "plt.xlabel('User Type')\n",
    "plt.ylabel('Average Count')\n",
    "plt.title('Average Likes and Comments for Each User Type')\n",
    "plt.show()"
   ]
  },
  {
   "cell_type": "code",
   "execution_count": 14,
   "id": "1111da5e",
   "metadata": {},
   "outputs": [
    {
     "data": {
      "image/png": "[encoded data removed]",
      "text/plain": [
       "<Figure size 720x432 with 1 Axes>"
      ]
     },
     "metadata": {
      "needs_background": "light"
     },
     "output_type": "display_data"
    }
   ],
   "source": [
    "total_likes_comments = insta.groupby('From')[['Likes', 'Comments']].sum()\n",
    "\n",
    "# Sorting the DataFrame based on total likes and comments\n",
    "total_likes_comments_sort = total_likes_comments.sum(axis=1).sort_values(ascending=False).head(10)\n",
    "\n",
    "# Plotting the top 10 users with the most number of likes and comments\n",
    "plt.figure(figsize=(10, 6))\n",
    "total_likes_comments_sort.plot(kind='bar', color=['#CF9FFF', '#301934'])\n",
    "plt.xlabel('Users')\n",
    "plt.ylabel('Counts')\n",
    "plt.title('Top 10 Users by Likes and Comments')\n",
    "plt.show()"
   ]
  },
  {
   "cell_type": "code",
   "execution_count": 15,
   "id": "7cdf9e79",
   "metadata": {},
   "outputs": [
    {
     "name": "stdout",
     "output_type": "stream",
     "text": [
      "User: cznburak, Type: User\n",
      "User: m10_official, Type: User\n",
      "User: davidbeckham, Type: User\n",
      "User: iamzlatanibrahimovic, Type: User\n",
      "User: cnn, Type: News\n",
      "User: maherzainofficial, Type: User\n",
      "User: beerbiceps, Type: User\n",
      "User: trtworld, Type: User\n",
      "User: ladbible, Type: User\n",
      "User: guardian, Type: News\n"
     ]
    }
   ],
   "source": [
    "for user in total_likes_comments_sort.index:\n",
    "    user_type = insta.loc[insta['From'] == user, 'Type'].iloc[0]\n",
    "    print(f\"User: {user}, Type: {user_type}\")"
   ]
  },
  {
   "cell_type": "code",
   "execution_count": 60,
   "id": "29bfc8a0",
   "metadata": {},
   "outputs": [
    {
     "data": {
      "image/png": "[encoded data removed]",
      "text/plain": [
       "<Figure size 1296x576 with 1 Axes>"
      ]
     },
     "metadata": {
      "needs_background": "light"
     },
     "output_type": "display_data"
    }
   ],
   "source": [
    "insta_LC_sort = insta.sort_values(by=['Likes', 'Comments'], ascending=False)\n",
    "insta_LC_sort_first_20 = insta_LC_sort.head(20)\n",
    "\n",
    "# Selecting only the top 10 users\n",
    "top_10_users = insta_LC_sort.head(10)\n",
    "\n",
    "# Setting the positions for the bars\n",
    "x = np.arange(len(top_10_users))\n",
    "width = 0.35  # width of the bars\n",
    "\n",
    "# Plotting the clustered bar graph\n",
    "plt.figure(figsize=(18, 8))\n",
    "plt.bar(x, top_10_users['Likes'], width, color='#CF9FFF', label='Likes')\n",
    "plt.bar(x + width, top_10_users['Comments'], width, color='#301934', label='Comments')\n",
    "\n",
    "# Adding labels, title, and ticks\n",
    "plt.xlabel('Users')\n",
    "plt.ylabel('Counts')\n",
    "plt.title('Top 10 Instagram User Posts by Likes and Comments')\n",
    "plt.xticks(x + width / 2, top_10_users['From'])\n",
    "plt.legend()\n",
    "plt.show()\n"
   ]
  },
  {
   "cell_type": "markdown",
   "id": "411a4ee1",
   "metadata": {},
   "source": [
    "#### Conclusion\n",
    "Based on the first graph, we can see that the highest average number of likes belong to the news category, suggesting that users who are classifed as news pages such as cnn, guardian etc would have higher engagement that those that classified under WC updates or regular users. However, the next two graphs showing the cumulative likes for top users of instagram and the breakdown of likes and comments per top 10 posts show that news category might not necessarily always have the highest engagement.\n",
    "\n",
    "To answer the question, engagment does depend on the type of user, as we can see in the plots, most of the regular users are celebrities with a high following, meaning their posts will tend to perform better. However, as an overall, the users that classify under news usually generate more engagment on average. "
   ]
  },
  {
   "cell_type": "markdown",
   "id": "0d110b47",
   "metadata": {},
   "source": [
    "### Research Question 2: Which hashtags are the most used in posts? Does using certain hashtags result in higher engagement?"
   ]
  },
  {
   "cell_type": "code",
   "execution_count": 17,
   "id": "1c864203",
   "metadata": {},
   "outputs": [
    {
     "data": {
      "text/html": [
       "<div>\n",
       "<style scoped>\n",
       "    .dataframe tbody tr th:only-of-type {\n",
       "        vertical-align: middle;\n",
       "    }\n",
       "\n",
       "    .dataframe tbody tr th {\n",
       "        vertical-align: top;\n",
       "    }\n",
       "\n",
       "    .dataframe thead th {\n",
       "        text-align: right;\n",
       "    }\n",
       "</style>\n",
       "<table border=\"1\" class=\"dataframe\">\n",
       "  <thead>\n",
       "    <tr style=\"text-align: right;\">\n",
       "      <th></th>\n",
       "      <th>Content</th>\n",
       "      <th>From</th>\n",
       "      <th>Likes</th>\n",
       "      <th>Comments</th>\n",
       "      <th>Date</th>\n",
       "      <th>Type</th>\n",
       "      <th>Hashtag</th>\n",
       "    </tr>\n",
       "  </thead>\n",
       "  <tbody>\n",
       "    <tr>\n",
       "      <th>0</th>\n",
       "      <td>FIFA World Cup Qatar 2022 kick today standalon...</td>\n",
       "      <td>vivo_global</td>\n",
       "      <td>430.0</td>\n",
       "      <td>8</td>\n",
       "      <td>2022-11-20</td>\n",
       "      <td>User</td>\n",
       "      <td></td>\n",
       "    </tr>\n",
       "    <tr>\n",
       "      <th>1</th>\n",
       "      <td>FIFA World Cup Qatar 2022 3 days away   Guess...</td>\n",
       "      <td>hisense_international</td>\n",
       "      <td>161.0</td>\n",
       "      <td>66</td>\n",
       "      <td>2022-11-17</td>\n",
       "      <td>User</td>\n",
       "      <td></td>\n",
       "    </tr>\n",
       "    <tr>\n",
       "      <th>2</th>\n",
       "      <td>FIFA World Cup Qatar 2022 kick 3 days  Let ’ s...</td>\n",
       "      <td>vivo_global</td>\n",
       "      <td>662.0</td>\n",
       "      <td>11</td>\n",
       "      <td>2022-11-17</td>\n",
       "      <td>User</td>\n",
       "      <td></td>\n",
       "    </tr>\n",
       "    <tr>\n",
       "      <th>3</th>\n",
       "      <td>FIFA World Cup Qatar 2022 one week away it ’ s...</td>\n",
       "      <td>hisensesports</td>\n",
       "      <td>74.0</td>\n",
       "      <td>2</td>\n",
       "      <td>2022-11-12</td>\n",
       "      <td>WC Update</td>\n",
       "      <td></td>\n",
       "    </tr>\n",
       "    <tr>\n",
       "      <th>4</th>\n",
       "      <td>10 days away FIFA World Cup Qatar 2022   ⁣ ⁣ o...</td>\n",
       "      <td>hisensesports</td>\n",
       "      <td>46.0</td>\n",
       "      <td>3</td>\n",
       "      <td>2022-11-10</td>\n",
       "      <td>WC Update</td>\n",
       "      <td></td>\n",
       "    </tr>\n",
       "  </tbody>\n",
       "</table>\n",
       "</div>"
      ],
      "text/plain": [
       "                                             Content                   From  \\\n",
       "0  FIFA World Cup Qatar 2022 kick today standalon...            vivo_global   \n",
       "1   FIFA World Cup Qatar 2022 3 days away   Guess...  hisense_international   \n",
       "2  FIFA World Cup Qatar 2022 kick 3 days  Let ’ s...            vivo_global   \n",
       "3  FIFA World Cup Qatar 2022 one week away it ’ s...          hisensesports   \n",
       "4  10 days away FIFA World Cup Qatar 2022   ⁣ ⁣ o...          hisensesports   \n",
       "\n",
       "   Likes  Comments       Date       Type Hashtag  \n",
       "0  430.0         8 2022-11-20       User          \n",
       "1  161.0        66 2022-11-17       User          \n",
       "2  662.0        11 2022-11-17       User          \n",
       "3   74.0         2 2022-11-12  WC Update          \n",
       "4   46.0         3 2022-11-10  WC Update          "
      ]
     },
     "execution_count": 17,
     "metadata": {},
     "output_type": "execute_result"
    }
   ],
   "source": [
    "def split_text(text):\n",
    "    parts = text.split('#')\n",
    "    if len(parts) > 1:\n",
    "        return parts[0], '#' + parts[1]\n",
    "    else:\n",
    "        return text, ''\n",
    "\n",
    "# Apply the split_text function to each row in the DataFrame\n",
    "insta[['Content', 'Hashtag']] = insta['Content'].apply(split_text).apply(pd.Series)\n",
    "insta.head()"
   ]
  },
  {
   "cell_type": "code",
   "execution_count": 18,
   "id": "d6eafbd4",
   "metadata": {},
   "outputs": [
    {
     "data": {
      "text/html": [
       "<div>\n",
       "<style scoped>\n",
       "    .dataframe tbody tr th:only-of-type {\n",
       "        vertical-align: middle;\n",
       "    }\n",
       "\n",
       "    .dataframe tbody tr th {\n",
       "        vertical-align: top;\n",
       "    }\n",
       "\n",
       "    .dataframe thead th {\n",
       "        text-align: right;\n",
       "    }\n",
       "</style>\n",
       "<table border=\"1\" class=\"dataframe\">\n",
       "  <thead>\n",
       "    <tr style=\"text-align: right;\">\n",
       "      <th></th>\n",
       "      <th>Publisher</th>\n",
       "      <th>Avg_likes</th>\n",
       "    </tr>\n",
       "  </thead>\n",
       "  <tbody>\n",
       "    <tr>\n",
       "      <th>0</th>\n",
       "      <td>maherzainofficial</td>\n",
       "      <td>81636.666667</td>\n",
       "    </tr>\n",
       "    <tr>\n",
       "      <th>1</th>\n",
       "      <td>guardian</td>\n",
       "      <td>41660.625000</td>\n",
       "    </tr>\n",
       "    <tr>\n",
       "      <th>2</th>\n",
       "      <td>reuters</td>\n",
       "      <td>28407.363636</td>\n",
       "    </tr>\n",
       "    <tr>\n",
       "      <th>3</th>\n",
       "      <td>time</td>\n",
       "      <td>23993.444444</td>\n",
       "    </tr>\n",
       "    <tr>\n",
       "      <th>4</th>\n",
       "      <td>trtworld</td>\n",
       "      <td>15405.222222</td>\n",
       "    </tr>\n",
       "    <tr>\n",
       "      <th>...</th>\n",
       "      <td>...</td>\n",
       "      <td>...</td>\n",
       "    </tr>\n",
       "    <tr>\n",
       "      <th>99</th>\n",
       "      <td>boujee.qa</td>\n",
       "      <td>4.687500</td>\n",
       "    </tr>\n",
       "    <tr>\n",
       "      <th>100</th>\n",
       "      <td>calpi_calligraphy</td>\n",
       "      <td>4.666667</td>\n",
       "    </tr>\n",
       "    <tr>\n",
       "      <th>101</th>\n",
       "      <td>latifa_foods</td>\n",
       "      <td>4.571429</td>\n",
       "    </tr>\n",
       "    <tr>\n",
       "      <th>102</th>\n",
       "      <td>voadeewa</td>\n",
       "      <td>4.333333</td>\n",
       "    </tr>\n",
       "    <tr>\n",
       "      <th>103</th>\n",
       "      <td>desunofficial</td>\n",
       "      <td>4.312500</td>\n",
       "    </tr>\n",
       "  </tbody>\n",
       "</table>\n",
       "<p>104 rows × 2 columns</p>\n",
       "</div>"
      ],
      "text/plain": [
       "             Publisher     Avg_likes\n",
       "0    maherzainofficial  81636.666667\n",
       "1             guardian  41660.625000\n",
       "2              reuters  28407.363636\n",
       "3                 time  23993.444444\n",
       "4             trtworld  15405.222222\n",
       "..                 ...           ...\n",
       "99           boujee.qa      4.687500\n",
       "100  calpi_calligraphy      4.666667\n",
       "101       latifa_foods      4.571429\n",
       "102           voadeewa      4.333333\n",
       "103      desunofficial      4.312500\n",
       "\n",
       "[104 rows x 2 columns]"
      ]
     },
     "execution_count": 18,
     "metadata": {},
     "output_type": "execute_result"
    }
   ],
   "source": [
    "average_likes_by_publisher_sorted = insta.groupby('From')['Likes'].mean().sort_values(ascending=False)\n",
    "\n",
    "publisher_counts = insta['From'].value_counts()\n",
    "publisher_min = publisher_counts[publisher_counts >= 6].index\n",
    "publisher_avg = average_likes_by_publisher_sorted[average_likes_by_publisher_sorted.index.isin(publisher_min)]\n",
    "top_publishers = publisher_avg.nlargest(104)\n",
    "top_publishers = top_publishers[top_publishers.index.str.len() >= 3]\n",
    "\n",
    "publishers_df = top_publishers.reset_index()\n",
    "publishers_df.columns = ['Publisher', 'Avg_likes']\n",
    "\n",
    "publishers_df"
   ]
  },
  {
   "cell_type": "code",
   "execution_count": 19,
   "id": "e9109ea2",
   "metadata": {},
   "outputs": [
    {
     "data": {
      "text/html": [
       "<div>\n",
       "<style scoped>\n",
       "    .dataframe tbody tr th:only-of-type {\n",
       "        vertical-align: middle;\n",
       "    }\n",
       "\n",
       "    .dataframe tbody tr th {\n",
       "        vertical-align: top;\n",
       "    }\n",
       "\n",
       "    .dataframe thead th {\n",
       "        text-align: right;\n",
       "    }\n",
       "</style>\n",
       "<table border=\"1\" class=\"dataframe\">\n",
       "  <thead>\n",
       "    <tr style=\"text-align: right;\">\n",
       "      <th></th>\n",
       "      <th>Publisher</th>\n",
       "      <th>Avg_likes</th>\n",
       "      <th>Hashtag_Likes</th>\n",
       "      <th>No_Hashtag_Likes</th>\n",
       "    </tr>\n",
       "  </thead>\n",
       "  <tbody>\n",
       "    <tr>\n",
       "      <th>0</th>\n",
       "      <td>maherzainofficial</td>\n",
       "      <td>81636.666667</td>\n",
       "      <td>NaN</td>\n",
       "      <td>81636.666667</td>\n",
       "    </tr>\n",
       "    <tr>\n",
       "      <th>1</th>\n",
       "      <td>guardian</td>\n",
       "      <td>41660.625000</td>\n",
       "      <td>NaN</td>\n",
       "      <td>41660.625000</td>\n",
       "    </tr>\n",
       "    <tr>\n",
       "      <th>2</th>\n",
       "      <td>reuters</td>\n",
       "      <td>28407.363636</td>\n",
       "      <td>NaN</td>\n",
       "      <td>28407.363636</td>\n",
       "    </tr>\n",
       "    <tr>\n",
       "      <th>3</th>\n",
       "      <td>time</td>\n",
       "      <td>23993.444444</td>\n",
       "      <td>NaN</td>\n",
       "      <td>23993.444444</td>\n",
       "    </tr>\n",
       "    <tr>\n",
       "      <th>4</th>\n",
       "      <td>trtworld</td>\n",
       "      <td>15405.222222</td>\n",
       "      <td>NaN</td>\n",
       "      <td>15405.222222</td>\n",
       "    </tr>\n",
       "    <tr>\n",
       "      <th>...</th>\n",
       "      <td>...</td>\n",
       "      <td>...</td>\n",
       "      <td>...</td>\n",
       "      <td>...</td>\n",
       "    </tr>\n",
       "    <tr>\n",
       "      <th>99</th>\n",
       "      <td>boujee.qa</td>\n",
       "      <td>4.687500</td>\n",
       "      <td>NaN</td>\n",
       "      <td>4.687500</td>\n",
       "    </tr>\n",
       "    <tr>\n",
       "      <th>100</th>\n",
       "      <td>calpi_calligraphy</td>\n",
       "      <td>4.666667</td>\n",
       "      <td>NaN</td>\n",
       "      <td>4.666667</td>\n",
       "    </tr>\n",
       "    <tr>\n",
       "      <th>101</th>\n",
       "      <td>latifa_foods</td>\n",
       "      <td>4.571429</td>\n",
       "      <td>NaN</td>\n",
       "      <td>4.571429</td>\n",
       "    </tr>\n",
       "    <tr>\n",
       "      <th>102</th>\n",
       "      <td>voadeewa</td>\n",
       "      <td>4.333333</td>\n",
       "      <td>NaN</td>\n",
       "      <td>4.333333</td>\n",
       "    </tr>\n",
       "    <tr>\n",
       "      <th>103</th>\n",
       "      <td>desunofficial</td>\n",
       "      <td>4.312500</td>\n",
       "      <td>NaN</td>\n",
       "      <td>4.312500</td>\n",
       "    </tr>\n",
       "  </tbody>\n",
       "</table>\n",
       "<p>104 rows × 4 columns</p>\n",
       "</div>"
      ],
      "text/plain": [
       "             Publisher     Avg_likes  Hashtag_Likes  No_Hashtag_Likes\n",
       "0    maherzainofficial  81636.666667            NaN      81636.666667\n",
       "1             guardian  41660.625000            NaN      41660.625000\n",
       "2              reuters  28407.363636            NaN      28407.363636\n",
       "3                 time  23993.444444            NaN      23993.444444\n",
       "4             trtworld  15405.222222            NaN      15405.222222\n",
       "..                 ...           ...            ...               ...\n",
       "99           boujee.qa      4.687500            NaN          4.687500\n",
       "100  calpi_calligraphy      4.666667            NaN          4.666667\n",
       "101       latifa_foods      4.571429            NaN          4.571429\n",
       "102           voadeewa      4.333333            NaN          4.333333\n",
       "103      desunofficial      4.312500            NaN          4.312500\n",
       "\n",
       "[104 rows x 4 columns]"
      ]
     },
     "execution_count": 19,
     "metadata": {},
     "output_type": "execute_result"
    }
   ],
   "source": [
    "hashtag_likes = insta[insta['Hashtag'].str.contains('#', regex=False)].groupby('From')['Likes'].mean()\n",
    "no_hashtag_likes = insta[insta['Hashtag'].eq('')].groupby('From')['Likes'].mean()\n",
    "\n",
    "combined_df = pd.concat([hashtag_likes, no_hashtag_likes], axis=1)\n",
    "combined_df.columns = ['Hashtag_Likes', 'No_Hashtag_Likes']\n",
    "\n",
    "combined_df = publishers_df.merge(combined_df, left_on='Publisher', right_index=True, how='inner')\n",
    "combined_df"
   ]
  },
  {
   "cell_type": "code",
   "execution_count": 20,
   "id": "90fcd0df",
   "metadata": {},
   "outputs": [
    {
     "name": "stdout",
     "output_type": "stream",
     "text": [
      "Mean Likes with Hashtags: nan\n",
      "Mean Likes without Hashtags: 1580.859752120026\n"
     ]
    }
   ],
   "source": [
    "filtered_df = insta[insta['From'].isin(publishers_df['Publisher'])]\n",
    "\n",
    "hashtag_likes_ = filtered_df[filtered_df['Hashtag'].str.contains('#', regex=False)]['Likes'].mean()\n",
    "no_hashtag_likes_ = filtered_df[filtered_df['Hashtag'].eq('')]['Likes'].mean()\n",
    "\n",
    "print(\"Mean Likes with Hashtags:\", hashtag_likes_)\n",
    "print(\"Mean Likes without Hashtags:\", no_hashtag_likes_)"
   ]
  },
  {
   "cell_type": "markdown",
   "id": "15340e33",
   "metadata": {},
   "source": [
    "#### Conclusion \n",
    "CHECK OTHER FILE FOR PROPER OUTPUT \n",
    "\n",
    "Upon comparing the mean likes with and without hashtags for both datasets, it is clear to see that twitter users who use hashtags on average have higher engagement than those without. This is not the necessarily the case for Instagram, as we can see that the mean likes with hashtags is lower than without. \n",
    "\n",
    "have to further elaborate on this output "
   ]
  },
  {
   "cell_type": "markdown",
   "id": "409eb6e6",
   "metadata": {},
   "source": [
    "### Research Question 3: Does content with positive sentiment generate more engagement than those with negative?"
   ]
  },
  {
   "cell_type": "code",
   "execution_count": 21,
   "id": "9c54d914",
   "metadata": {},
   "outputs": [],
   "source": [
    "#sentiment analysis model \n",
    "#polarity measures negative or positive sentiment with range -1 to 1 \n",
    "#subjectivity measures factual vs personal information and lies within 0 to 1 \n",
    "from textblob import TextBlob \n",
    "\n",
    "polarity = []\n",
    "subjectivity = []\n",
    "\n",
    "for text in insta[\"Content\"]: \n",
    "    polarity.append(TextBlob(text).sentiment.polarity) \n",
    "    subjectivity.append(TextBlob(text).sentiment.subjectivity)\n",
    "    \n",
    "insta['Polarity'] = polarity\n",
    "insta['Subjectivity'] = subjectivity"
   ]
  },
  {
   "cell_type": "code",
   "execution_count": 22,
   "id": "89243ee3",
   "metadata": {},
   "outputs": [],
   "source": [
    "def assign_sentiment(polarity_score):\n",
    "    if polarity_score > 0:\n",
    "        return 'pos'\n",
    "    elif polarity_score < 0:\n",
    "        return 'neg'\n",
    "    else:\n",
    "        return 'neutral'\n",
    "\n",
    "# Assuming 'polarity_score' is the column containing the polarity scores in your DataFrame\n",
    "insta['Sentiment'] = insta['Polarity'].apply(assign_sentiment)\n"
   ]
  },
  {
   "cell_type": "markdown",
   "id": "4923274b",
   "metadata": {},
   "source": [
    "##### Naive Bayes Classifyer"
   ]
  },
  {
   "cell_type": "code",
   "execution_count": 23,
   "id": "f0539869",
   "metadata": {},
   "outputs": [
    {
     "name": "stdout",
     "output_type": "stream",
     "text": [
      "Accuracy: 0.7403718459495352\n"
     ]
    }
   ],
   "source": [
    "# Splitting the data into features and target variable\n",
    "X = insta['Content']\n",
    "y = insta['Sentiment']\n",
    "\n",
    "# Vectorizing the text data\n",
    "vectorizer = TfidfVectorizer()\n",
    "X_vectorized = vectorizer.fit_transform(X)\n",
    "\n",
    "# Splitting the data into training and testing sets\n",
    "X_train, X_test, y_train, y_test = train_test_split(X_vectorized, y, test_size=0.2, random_state=42)\n",
    "\n",
    "# Training the Multinomial Naive Bayes classifier\n",
    "nb_model = MultinomialNB()\n",
    "nb_model.fit(X_train, y_train)\n",
    "\n",
    "# Predicting the category for the test set\n",
    "y_pred = nb_model.predict(X_test)\n",
    "\n",
    "# Evaluating the model\n",
    "print(\"Accuracy:\", accuracy_score(y_test, y_pred))"
   ]
  },
  {
   "cell_type": "markdown",
   "id": "7dc5637f",
   "metadata": {},
   "source": [
    "##### SVM Model"
   ]
  },
  {
   "cell_type": "code",
   "execution_count": 24,
   "id": "624de60c",
   "metadata": {},
   "outputs": [
    {
     "name": "stdout",
     "output_type": "stream",
     "text": [
      "Accuracy: 0.8220451527224436\n"
     ]
    }
   ],
   "source": [
    "# Splitting the data into features and target variable\n",
    "X = insta['Content']\n",
    "y = insta['Sentiment']\n",
    "\n",
    "# Vectorizing the text data\n",
    "vectorizer = TfidfVectorizer()\n",
    "X_vectorized = vectorizer.fit_transform(X)\n",
    "\n",
    "# Splitting the data into training and testing sets\n",
    "X_train, X_test, y_train, y_test = train_test_split(X_vectorized, y, test_size=0.2, random_state=42)\n",
    "\n",
    "# Training the Support Vector Machine (SVM) classifier\n",
    "svm_model = SVC(kernel='linear')\n",
    "svm_model.fit(X_train, y_train)\n",
    "\n",
    "# Predicting the sentiment for the test set\n",
    "y_pred = svm_model.predict(X_test)\n",
    "\n",
    "# Evaluating the model\n",
    "print(\"Accuracy:\", accuracy_score(y_test, y_pred))"
   ]
  },
  {
   "cell_type": "code",
   "execution_count": 25,
   "id": "a9d501d9",
   "metadata": {},
   "outputs": [
    {
     "data": {
      "image/png": "[encoded data removed]",
      "text/plain": [
       "<Figure size 576x432 with 1 Axes>"
      ]
     },
     "metadata": {
      "needs_background": "light"
     },
     "output_type": "display_data"
    }
   ],
   "source": [
    "# Selecting 100 entries from each sentiment category\n",
    "np.random.seed(0)\n",
    "random_data = insta.groupby('Sentiment', group_keys=False).apply(lambda x: x.sample(min(len(x), 300)))\n",
    "\n",
    "# Applying the SVM model to the random dataset\n",
    "X_random = random_data['Content']\n",
    "y_random = random_data['Sentiment']\n",
    "\n",
    "X_vectorized_random = vectorizer.transform(X_random)\n",
    "y_pred_random = svm_model.predict(X_vectorized_random)\n",
    "\n",
    "# Creating a DataFrame with sentiment and engagement data\n",
    "data_random = pd.DataFrame({'Sentiment': y_pred_random, 'Engagement': random_data['Likes']})\n",
    "\n",
    "# Calculating the average engagement for each sentiment category\n",
    "average_engagement_random = data_random.groupby('Sentiment')['Engagement'].mean()\n",
    "\n",
    "# Creating a bar chart to visualize the results\n",
    "plt.figure(figsize=(8, 6))\n",
    "average_engagement_random.plot(kind='bar', color=['red', 'green', 'blue'])\n",
    "plt.title(\"Average Engagement by Sentiment in Random Dataset\")\n",
    "plt.xlabel(\"Sentiment\")\n",
    "plt.ylabel(\"Average Engagement\")\n",
    "plt.xticks(range(len(average_engagement_random.index)), average_engagement_random.index, rotation=0)\n",
    "plt.show()\n"
   ]
  },
  {
   "cell_type": "code",
   "execution_count": 26,
   "id": "be1bea0d",
   "metadata": {},
   "outputs": [
    {
     "data": {
      "image/png": "[encoded data removed]",
      "text/plain": [
       "<Figure size 720x432 with 1 Axes>"
      ]
     },
     "metadata": {
      "needs_background": "light"
     },
     "output_type": "display_data"
    }
   ],
   "source": [
    "sum_likes_comments = insta.groupby('Sentiment')[['Likes', 'Comments']].sum()\n",
    "\n",
    "# Plotting the graph\n",
    "sum_likes_comments.plot(kind='bar', figsize=(10, 6), color=['#CF9FFF', '#301934'])\n",
    "plt.xlabel('Sentiment')\n",
    "plt.ylabel('Count')\n",
    "plt.title('Total Likes and Comments for Each Sentiment Category')\n",
    "plt.show()"
   ]
  },
  {
   "cell_type": "markdown",
   "id": "f8d55eb3",
   "metadata": {},
   "source": [
    "Conclusion \n",
    "\n",
    "In order to predict the sentiment, we used a package called textblob that assigned the a score of -1 to 1 to a certain post, where below 0 is classifyed as negative and above 1 is positive. We then trained 2 models, a naive bayes classifer and an svm model to classify the content of a post based on the sentiment. \n",
    "\n",
    "SVM had the highest accuracy score of about 0.8, which we then ran through a randomly generated dataset of 100 sentiment entries from each categories and graphed, showing us that on average, positive sentiment had the highest engagement among all 3 categories. This is further supported by the second graph, showing the total likes and comments for each sentiment in the whole dataset, where positive had the highest count among all.  "
   ]
  },
  {
   "cell_type": "markdown",
   "id": "5b65be58",
   "metadata": {},
   "source": [
    "### Research Question 4: How do the trending topics evolve throughout the tournament’s progression?"
   ]
  },
  {
   "cell_type": "code",
   "execution_count": 32,
   "id": "dcab3c02",
   "metadata": {},
   "outputs": [],
   "source": [
    "words_to_remove = [\"FIFA\", \"Qatar\", \"World\", \"Cup\", \"2022\"]\n",
    "\n",
    "# Function to remove variations of words from the text\n",
    "def remove_words(text, words_to_remove):\n",
    "    pattern = r'\\b(?:{})\\b'.format('|'.join(words_to_remove))\n",
    "    text = re.sub(pattern, '', text, flags=re.IGNORECASE)\n",
    "    return text\n",
    "\n",
    "# Applying the function to the 'Content' column in the 'insta' DataFrame\n",
    "insta['Content'] = insta['Content'].apply(lambda x: remove_words(x, words_to_remove))"
   ]
  },
  {
   "cell_type": "code",
   "execution_count": 61,
   "id": "098e12f4",
   "metadata": {},
   "outputs": [],
   "source": [
    "pre_tournament = insta[insta['Date'] < '2022-11-20']\n",
    "tournament = insta[(insta['Date'] >= '2022-11-20') & (insta['Date'] <= '2022-12-18')]\n",
    "post_tournament = insta[insta['Date'] > '2022-12-18']"
   ]
  },
  {
   "cell_type": "markdown",
   "id": "d74d62e3",
   "metadata": {},
   "source": [
    "##### Player Analysis"
   ]
  },
  {
   "cell_type": "code",
   "execution_count": 51,
   "id": "7e822b51",
   "metadata": {},
   "outputs": [],
   "source": [
    "player_df = pd.read_csv(\"player_stats.csv\")\n",
    "players = player_df[['player']]"
   ]
  },
  {
   "cell_type": "code",
   "execution_count": 53,
   "id": "2880125d",
   "metadata": {},
   "outputs": [
    {
     "name": "stderr",
     "output_type": "stream",
     "text": [
      "C:\\Users\\snous\\AppData\\Local\\Temp/ipykernel_21708/4079145136.py:5: SettingWithCopyWarning: \n",
      "A value is trying to be set on a copy of a slice from a DataFrame.\n",
      "Try using .loc[row_indexer,col_indexer] = value instead\n",
      "\n",
      "See the caveats in the documentation: https://pandas.pydata.org/pandas-docs/stable/user_guide/indexing.html#returning-a-view-versus-a-copy\n",
      "  players['player'] = players['player'].apply(remove_accents)\n",
      "C:\\Users\\snous\\AppData\\Local\\Temp/ipykernel_21708/4079145136.py:11: SettingWithCopyWarning: \n",
      "A value is trying to be set on a copy of a slice from a DataFrame.\n",
      "Try using .loc[row_indexer,col_indexer] = value instead\n",
      "\n",
      "See the caveats in the documentation: https://pandas.pydata.org/pandas-docs/stable/user_guide/indexing.html#returning-a-view-versus-a-copy\n",
      "  players['Name'] = players['player'].apply(extract_surname)\n"
     ]
    }
   ],
   "source": [
    "def remove_accents(input_str):\n",
    "    nfkd_form = unicodedata.normalize('NFKD', input_str)\n",
    "    return ''.join([c for c in nfkd_form if not unicodedata.combining(c)])\n",
    "\n",
    "players['player'] = players['player'].apply(remove_accents)\n",
    "\n",
    "def extract_surname(full_name):\n",
    "    names = full_name.split()\n",
    "    return names[-1]\n",
    "\n",
    "players['Name'] = players['player'].apply(extract_surname)\n",
    "\n",
    "player_counts = {}\n",
    "for player in players['Name']:\n",
    "    count = insta['Content'].str.count(player).sum()\n",
    "    player_counts[player] = count"
   ]
  },
  {
   "cell_type": "code",
   "execution_count": 54,
   "id": "86b26d95",
   "metadata": {
    "scrolled": true
   },
   "outputs": [
    {
     "data": {
      "text/html": [
       "<div>\n",
       "<style scoped>\n",
       "    .dataframe tbody tr th:only-of-type {\n",
       "        vertical-align: middle;\n",
       "    }\n",
       "\n",
       "    .dataframe tbody tr th {\n",
       "        vertical-align: top;\n",
       "    }\n",
       "\n",
       "    .dataframe thead th {\n",
       "        text-align: right;\n",
       "    }\n",
       "</style>\n",
       "<table border=\"1\" class=\"dataframe\">\n",
       "  <thead>\n",
       "    <tr style=\"text-align: right;\">\n",
       "      <th></th>\n",
       "      <th>Count</th>\n",
       "    </tr>\n",
       "  </thead>\n",
       "  <tbody>\n",
       "    <tr>\n",
       "      <th>Messi</th>\n",
       "      <td>1193</td>\n",
       "    </tr>\n",
       "    <tr>\n",
       "      <th>Ronaldo</th>\n",
       "      <td>369</td>\n",
       "    </tr>\n",
       "    <tr>\n",
       "      <th>Kane</th>\n",
       "      <td>258</td>\n",
       "    </tr>\n",
       "    <tr>\n",
       "      <th>Mbappe</th>\n",
       "      <td>247</td>\n",
       "    </tr>\n",
       "    <tr>\n",
       "      <th>Costa</th>\n",
       "      <td>237</td>\n",
       "    </tr>\n",
       "    <tr>\n",
       "      <th>...</th>\n",
       "      <td>...</td>\n",
       "    </tr>\n",
       "    <tr>\n",
       "      <th>Ballo-Toure</th>\n",
       "      <td>0</td>\n",
       "    </tr>\n",
       "    <tr>\n",
       "      <th>Al-Buraikan</th>\n",
       "      <td>0</td>\n",
       "    </tr>\n",
       "    <tr>\n",
       "      <th>Đuricic</th>\n",
       "      <td>0</td>\n",
       "    </tr>\n",
       "    <tr>\n",
       "      <th>Zalewski</th>\n",
       "      <td>0</td>\n",
       "    </tr>\n",
       "    <tr>\n",
       "      <th>Ntcham</th>\n",
       "      <td>0</td>\n",
       "    </tr>\n",
       "  </tbody>\n",
       "</table>\n",
       "<p>641 rows × 1 columns</p>\n",
       "</div>"
      ],
      "text/plain": [
       "             Count\n",
       "Messi         1193\n",
       "Ronaldo        369\n",
       "Kane           258\n",
       "Mbappe         247\n",
       "Costa          237\n",
       "...            ...\n",
       "Ballo-Toure      0\n",
       "Al-Buraikan      0\n",
       "Đuricic          0\n",
       "Zalewski         0\n",
       "Ntcham           0\n",
       "\n",
       "[641 rows x 1 columns]"
      ]
     },
     "execution_count": 54,
     "metadata": {},
     "output_type": "execute_result"
    }
   ],
   "source": [
    "player_counts = pd.DataFrame.from_dict(player_counts, orient='index', columns=['Count'])\n",
    "player_counts = player_counts.sort_values(by='Count', ascending=False)\n",
    "player_counts"
   ]
  },
  {
   "cell_type": "code",
   "execution_count": 56,
   "id": "6447eb02",
   "metadata": {
    "scrolled": true
   },
   "outputs": [
    {
     "data": {
      "image/png": "[encoded data removed]",
      "text/plain": [
       "<Figure size 720x288 with 1 Axes>"
      ]
     },
     "metadata": {
      "needs_background": "light"
     },
     "output_type": "display_data"
    }
   ],
   "source": [
    "top_players = player_counts.head(20)\n",
    "\n",
    "fig, ax = plt.subplots(figsize=(10, 4))\n",
    "top_players.plot(kind='bar', ax=ax, legend=False, color = '#CF9FFF')\n",
    "ax.set_ylabel('Count')\n",
    "ax.set_xlabel('Player')\n",
    "ax.set_title('Top Players Mentioned in Instagram')\n",
    "\n",
    "plt.xticks(rotation=45)\n",
    "plt.tight_layout()\n",
    "plt.show()"
   ]
  },
  {
   "cell_type": "markdown",
   "id": "19e73b09",
   "metadata": {},
   "source": [
    "##### Team Analysis "
   ]
  },
  {
   "cell_type": "code",
   "execution_count": 64,
   "id": "f28da1bb",
   "metadata": {},
   "outputs": [],
   "source": [
    "team_df = pd.read_csv(\"player_stats.csv\")\n",
    "team = team_df[['team']]\n",
    "\n",
    "unique_teams = team['team'].unique()\n",
    "unique_teams = [team.replace('IR Iran', 'Iran').replace('Korea Republic', 'Korea').replace('Saudi Arabia', 'Saudi')]"
   ]
  },
  {
   "cell_type": "code",
   "execution_count": null,
   "id": "6831985d",
   "metadata": {},
   "outputs": [],
   "source": []
  },
  {
   "cell_type": "code",
   "execution_count": null,
   "id": "3b834b3a",
   "metadata": {},
   "outputs": [],
   "source": []
  }
 ],
 "metadata": {
  "kernelspec": {
   "display_name": "Python 3 (ipykernel)",
   "language": "python",
   "name": "python3"
  },
  "language_info": {
   "codemirror_mode": {
    "name": "ipython",
    "version": 3
   },
   "file_extension": ".py",
   "mimetype": "text/x-python",
   "name": "python",
   "nbconvert_exporter": "python",
   "pygments_lexer": "ipython3",
   "version": "3.9.7"
  }
 },
 "nbformat": 4,
 "nbformat_minor": 5
}
